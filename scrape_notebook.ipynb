{
 "cells": [
  {
   "cell_type": "markdown",
   "metadata": {},
   "source": [
    "# Retrieving Data with Propublica API"
   ]
  },
  {
   "cell_type": "code",
   "execution_count": 11,
   "metadata": {
    "ExecuteTime": {
     "end_time": "2020-07-26T19:55:02.183403Z",
     "start_time": "2020-07-26T19:55:02.178910Z"
    }
   },
   "outputs": [],
   "source": [
    "import numpy as np\n",
    "import pandas as pd\n",
    "import pickle\n",
    "\n",
    "import requests\n",
    "import json\n",
    "import configparser\n",
    "\n",
    "from bs4 import BeautifulSoup\n",
    "import urllib.request\n",
    "import re"
   ]
  },
  {
   "cell_type": "code",
   "execution_count": null,
   "metadata": {
    "ExecuteTime": {
     "end_time": "2020-07-26T19:19:02.234237Z",
     "start_time": "2020-07-26T19:19:02.229165Z"
    }
   },
   "outputs": [],
   "source": [
    "# Config API\n",
    "config = configparser.ConfigParser()\n",
    "config.read('config.ini')\n",
    "api_key = config.get('propublica', 'PROPUBLICA_API_KEY')"
   ]
  },
  {
   "cell_type": "markdown",
   "metadata": {},
   "source": [
    "## Retrieve Senators\n",
    "Through ProPublica, a list of senators can be retrieved starting from the 101st Congress (1989-1990) to the 116th Congress (2019-2021)."
   ]
  },
  {
   "cell_type": "code",
   "execution_count": 33,
   "metadata": {
    "ExecuteTime": {
     "end_time": "2020-07-26T20:12:55.239969Z",
     "start_time": "2020-07-26T20:12:55.236794Z"
    }
   },
   "outputs": [],
   "source": [
    "# Set parameters\n",
    "congresses = range(101, 117) # from the 101tst congress to the 116th congress"
   ]
  },
  {
   "cell_type": "code",
   "execution_count": null,
   "metadata": {
    "ExecuteTime": {
     "end_time": "2020-07-26T19:19:34.201214Z",
     "start_time": "2020-07-26T19:19:09.933617Z"
    }
   },
   "outputs": [],
   "source": [
    "# Get all congresses\n",
    "list_of_congresses = []\n",
    "\n",
    "for n in congresses:\n",
    "    r = requests.get(\n",
    "        f'https://api.propublica.org/congress/v1/{n}/senate/members.json',\n",
    "        headers={'X-API-Key': api_key}\n",
    "    )\n",
    "    \n",
    "    results = r.json()['results'][0]\n",
    "    members = results['members']\n",
    "    list_of_congresses.append(members)"
   ]
  },
  {
   "cell_type": "code",
   "execution_count": null,
   "metadata": {
    "ExecuteTime": {
     "end_time": "2020-07-26T19:20:03.189046Z",
     "start_time": "2020-07-26T19:20:03.183238Z"
    }
   },
   "outputs": [],
   "source": [
    "# Function to grab data for senators\n",
    "def get_senators(members):\n",
    "    senators = []\n",
    "    for member in members:\n",
    "        senator = {\n",
    "            'id': member['id'],\n",
    "            'first_name': member['first_name'],\n",
    "            'last_name': member['last_name'],\n",
    "            'party': member['party'],\n",
    "            'gender': member['gender'],\n",
    "            'state': member['state'],\n",
    "        }\n",
    "        senators.append(senator)\n",
    "    return senators"
   ]
  },
  {
   "cell_type": "code",
   "execution_count": null,
   "metadata": {
    "ExecuteTime": {
     "end_time": "2020-07-26T19:20:05.783759Z",
     "start_time": "2020-07-26T19:20:05.776378Z"
    }
   },
   "outputs": [],
   "source": [
    "senates = []\n",
    "for members in list_of_congresses:\n",
    "    senators = get_senators(members)\n",
    "    senates.append(senators)"
   ]
  },
  {
   "cell_type": "code",
   "execution_count": null,
   "metadata": {
    "ExecuteTime": {
     "end_time": "2020-07-26T19:20:07.866216Z",
     "start_time": "2020-07-26T19:20:07.855449Z"
    }
   },
   "outputs": [],
   "source": [
    "# Create list of all unique senators across 101st to 116th congress\n",
    "senator_ids = []\n",
    "all_senators = []\n",
    "for senate in senates:\n",
    "    for senator in senate:\n",
    "        if senator['id'] in senator_ids:\n",
    "            continue\n",
    "        else:\n",
    "            senator_ids.append(senator['id'])\n",
    "            all_senators.append(senator)"
   ]
  },
  {
   "cell_type": "code",
   "execution_count": null,
   "metadata": {
    "ExecuteTime": {
     "end_time": "2020-07-26T19:20:09.067665Z",
     "start_time": "2020-07-26T19:20:09.063313Z"
    }
   },
   "outputs": [],
   "source": [
    "print('Senators:', len(all_senators))"
   ]
  },
  {
   "cell_type": "code",
   "execution_count": null,
   "metadata": {
    "ExecuteTime": {
     "end_time": "2020-07-26T19:20:54.843733Z",
     "start_time": "2020-07-26T19:20:54.838257Z"
    }
   },
   "outputs": [],
   "source": [
    "# with open('temp_senators.p', 'wb') as f:\n",
    "#     pickle.dump(all_senators, f)"
   ]
  },
  {
   "cell_type": "markdown",
   "metadata": {
    "ExecuteTime": {
     "end_time": "2020-07-26T14:43:00.320089Z",
     "start_time": "2020-07-26T14:43:00.307313Z"
    }
   },
   "source": [
    "## Web Scrape Total Roll Call Votes\n",
    "The API only returns the 20 most recent votes by a senator so searching votes by senator is not possible.  Instead, votes will be retrieve through votes by roll call.  Each senate session (2 sessions per congress) has a varying number of bills voted on so the total number of roll call votes needs to be web scraped.  This is done on the [US Senate](https://www.senate.gov/) website."
   ]
  },
  {
   "cell_type": "code",
   "execution_count": 2,
   "metadata": {
    "ExecuteTime": {
     "end_time": "2020-07-26T19:46:14.057126Z",
     "start_time": "2020-07-26T19:46:13.642110Z"
    }
   },
   "outputs": [],
   "source": [
    "# Create BeautifulSoup object to find number of roll call votes for each session\n",
    "html = urllib.request.urlopen('https://www.senate.gov/legislative/LIS/roll_call_lists/vote_menu_101_1.htm')\n",
    "soup = BeautifulSoup(html, 'lxml')"
   ]
  },
  {
   "cell_type": "code",
   "execution_count": 13,
   "metadata": {
    "ExecuteTime": {
     "end_time": "2020-07-26T19:55:36.052902Z",
     "start_time": "2020-07-26T19:55:36.045885Z"
    }
   },
   "outputs": [
    {
     "data": {
      "text/plain": [
       "'312\\xa0(99-0)'"
      ]
     },
     "execution_count": 13,
     "metadata": {},
     "output_type": "execute_result"
    }
   ],
   "source": [
    "# Element holding last roll call vote in session\n",
    "last = soup.find('td').find('a').text\n",
    "last"
   ]
  },
  {
   "cell_type": "code",
   "execution_count": 32,
   "metadata": {
    "ExecuteTime": {
     "end_time": "2020-07-26T20:09:27.966627Z",
     "start_time": "2020-07-26T20:09:27.961682Z"
    }
   },
   "outputs": [
    {
     "data": {
      "text/plain": [
       "'312'"
      ]
     },
     "execution_count": 32,
     "metadata": {},
     "output_type": "execute_result"
    }
   ],
   "source": [
    "# Last roll call vote in session\n",
    "re.search(r'^...(?=\\\\)*', last).group(0)"
   ]
  },
  {
   "cell_type": "code",
   "execution_count": 34,
   "metadata": {
    "ExecuteTime": {
     "end_time": "2020-07-26T20:19:51.841172Z",
     "start_time": "2020-07-26T20:19:38.540982Z"
    }
   },
   "outputs": [],
   "source": [
    "# Script to pull total roll call votes per session\n",
    "roll_calls = {}\n",
    "for congress in congresses:\n",
    "    # First session\n",
    "    html = urllib.request.urlopen(\n",
    "        f'https://www.senate.gov/legislative/LIS/roll_call_lists/vote_menu_{congress}_1.htm'\n",
    "    )\n",
    "    soup = BeautifulSoup(html, 'lxml')\n",
    "    last = soup.find('td').find('a').text\n",
    "    last_roll_call = re.search(r'^...(?=\\\\)*', last).group(0)\n",
    "    roll_calls[f'{congress}_1'] = int(last_roll_call)\n",
    "    \n",
    "    # Second session\n",
    "    html = urllib.request.urlopen(\n",
    "        f'https://www.senate.gov/legislative/LIS/roll_call_lists/vote_menu_{congress}_2.htm'\n",
    "    )\n",
    "    soup = BeautifulSoup(html, 'lxml')\n",
    "    last = soup.find('td').find('a').text\n",
    "    last_roll_call = re.search(r'^...(?=\\\\)*', last).group(0)\n",
    "    roll_calls[f'{congress}_2'] = int(last_roll_call)"
   ]
  },
  {
   "cell_type": "code",
   "execution_count": 41,
   "metadata": {
    "ExecuteTime": {
     "end_time": "2020-07-26T20:24:19.902233Z",
     "start_time": "2020-07-26T20:24:19.897180Z"
    },
    "scrolled": true
   },
   "outputs": [
    {
     "data": {
      "text/plain": [
       "10234"
      ]
     },
     "execution_count": 41,
     "metadata": {},
     "output_type": "execute_result"
    }
   ],
   "source": [
    "sum(roll_calls.values())"
   ]
  },
  {
   "cell_type": "markdown",
   "metadata": {},
   "source": [
    "## Retrieve Votes by Roll Calls\n",
    "There is a limit of 5000 API calls per day for ProPublica.  So in order to be safe, the roll calls will be split into chunks of 2000, 4000, and 4234."
   ]
  },
  {
   "cell_type": "code",
   "execution_count": null,
   "metadata": {},
   "outputs": [],
   "source": []
  }
 ],
 "metadata": {
  "kernelspec": {
   "display_name": "senate_env",
   "language": "python",
   "name": "senate_env"
  },
  "language_info": {
   "codemirror_mode": {
    "name": "ipython",
    "version": 3
   },
   "file_extension": ".py",
   "mimetype": "text/x-python",
   "name": "python",
   "nbconvert_exporter": "python",
   "pygments_lexer": "ipython3",
   "version": "3.8.3"
  },
  "toc": {
   "base_numbering": 1,
   "nav_menu": {},
   "number_sections": true,
   "sideBar": true,
   "skip_h1_title": false,
   "title_cell": "Table of Contents",
   "title_sidebar": "Contents",
   "toc_cell": false,
   "toc_position": {},
   "toc_section_display": true,
   "toc_window_display": false
  }
 },
 "nbformat": 4,
 "nbformat_minor": 4
}
