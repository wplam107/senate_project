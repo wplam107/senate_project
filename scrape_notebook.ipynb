{
 "cells": [
  {
   "cell_type": "markdown",
   "metadata": {},
   "source": [
    "# Retrieving Data with ProPublica API"
   ]
  },
  {
   "cell_type": "code",
   "execution_count": 14,
   "metadata": {
    "ExecuteTime": {
     "end_time": "2020-07-29T00:45:40.577313Z",
     "start_time": "2020-07-29T00:45:40.525683Z"
    }
   },
   "outputs": [],
   "source": [
    "import numpy as np\n",
    "import pandas as pd\n",
    "import pickle\n",
    "\n",
    "import requests\n",
    "import json\n",
    "import configparser\n",
    "\n",
    "from bs4 import BeautifulSoup\n",
    "import urllib.request\n",
    "import re"
   ]
  },
  {
   "cell_type": "code",
   "execution_count": null,
   "metadata": {
    "ExecuteTime": {
     "end_time": "2020-07-28T18:14:19.162811Z",
     "start_time": "2020-07-28T18:14:19.128995Z"
    }
   },
   "outputs": [],
   "source": [
    "# Config API\n",
    "config = configparser.ConfigParser()\n",
    "config.read('config.ini')\n",
    "api_key = config.get('propublica', 'PROPUBLICA_API_KEY')"
   ]
  },
  {
   "cell_type": "markdown",
   "metadata": {},
   "source": [
    "## Retrieve Senators\n",
    "Through ProPublica, a list of senators can be retrieved for each congress starting with the 80th Congress.  For this project, we will start from the 101st Congress (1989-1990) and end with the 116th Congress (2019-2021).  The API calls will return a response that can be read as a json file."
   ]
  },
  {
   "cell_type": "code",
   "execution_count": null,
   "metadata": {
    "ExecuteTime": {
     "end_time": "2020-07-28T01:32:53.075318Z",
     "start_time": "2020-07-28T01:32:53.071862Z"
    }
   },
   "outputs": [],
   "source": [
    "# Set parameters\n",
    "congresses = range(101, 117) # from the 101st congress to the 116th congress"
   ]
  },
  {
   "cell_type": "code",
   "execution_count": null,
   "metadata": {
    "ExecuteTime": {
     "end_time": "2020-07-26T19:19:34.201214Z",
     "start_time": "2020-07-26T19:19:09.933617Z"
    }
   },
   "outputs": [],
   "source": [
    "# Get all congresses\n",
    "list_of_congresses = []\n",
    "\n",
    "for n in congresses:\n",
    "    r = requests.get(\n",
    "        f'https://api.propublica.org/congress/v1/{n}/senate/members.json',\n",
    "        headers={'X-API-Key': api_key}\n",
    "    )\n",
    "    \n",
    "    results = r.json()['results'][0]\n",
    "    members = results['members']\n",
    "    list_of_congresses.append(members)"
   ]
  },
  {
   "cell_type": "code",
   "execution_count": null,
   "metadata": {
    "ExecuteTime": {
     "end_time": "2020-07-26T19:20:03.189046Z",
     "start_time": "2020-07-26T19:20:03.183238Z"
    }
   },
   "outputs": [],
   "source": [
    "# Function to grab data for senators\n",
    "def get_senators(members):\n",
    "    senators = []\n",
    "    for member in members:\n",
    "        senator = {\n",
    "            'id': member['id'],\n",
    "            'first_name': member['first_name'],\n",
    "            'last_name': member['last_name'],\n",
    "            'party': member['party'],\n",
    "            'gender': member['gender'],\n",
    "            'state': member['state'],\n",
    "        }\n",
    "        senators.append(senator)\n",
    "    return senators"
   ]
  },
  {
   "cell_type": "code",
   "execution_count": null,
   "metadata": {
    "ExecuteTime": {
     "end_time": "2020-07-26T19:20:05.783759Z",
     "start_time": "2020-07-26T19:20:05.776378Z"
    }
   },
   "outputs": [],
   "source": [
    "senates = []\n",
    "for members in list_of_congresses:\n",
    "    senators = get_senators(members)\n",
    "    senates.append(senators)"
   ]
  },
  {
   "cell_type": "code",
   "execution_count": null,
   "metadata": {
    "ExecuteTime": {
     "end_time": "2020-07-26T19:20:07.866216Z",
     "start_time": "2020-07-26T19:20:07.855449Z"
    }
   },
   "outputs": [],
   "source": [
    "# Create list of all unique senators across 101st to 116th congress\n",
    "senator_ids = []\n",
    "all_senators = []\n",
    "for senate in senates:\n",
    "    for senator in senate:\n",
    "        if senator['id'] in senator_ids:\n",
    "            continue\n",
    "        else:\n",
    "            senator_ids.append(senator['id'])\n",
    "            all_senators.append(senator)"
   ]
  },
  {
   "cell_type": "code",
   "execution_count": null,
   "metadata": {
    "ExecuteTime": {
     "end_time": "2020-07-28T00:30:23.308888Z",
     "start_time": "2020-07-28T00:30:23.234430Z"
    }
   },
   "outputs": [],
   "source": [
    "with open('temp_senators.p', 'rb') as f:\n",
    "    dict_senators = pickle.load(f)"
   ]
  },
  {
   "cell_type": "markdown",
   "metadata": {
    "ExecuteTime": {
     "end_time": "2020-07-26T14:43:00.320089Z",
     "start_time": "2020-07-26T14:43:00.307313Z"
    }
   },
   "source": [
    "## Web Scrape Total Roll Call Votes\n",
    "The API only returns the 20 most recent votes by a senator so searching votes by senator is not possible.  Instead, votes will be retrieve through votes by roll call.  Each senate session (2 sessions per congress) has a varying number of bills voted on so the total number of roll call votes needs to be web scraped per session.  This is done on the [US Senate](https://www.senate.gov/) website."
   ]
  },
  {
   "cell_type": "code",
   "execution_count": null,
   "metadata": {
    "ExecuteTime": {
     "end_time": "2020-07-28T01:32:45.532618Z",
     "start_time": "2020-07-28T01:32:35.013962Z"
    }
   },
   "outputs": [],
   "source": [
    "# Create BeautifulSoup object to find number of roll call votes for each session\n",
    "html = urllib.request.urlopen('https://www.senate.gov/legislative/LIS/roll_call_lists/vote_menu_101_1.htm')\n",
    "soup = BeautifulSoup(html, 'lxml')"
   ]
  },
  {
   "cell_type": "code",
   "execution_count": null,
   "metadata": {
    "ExecuteTime": {
     "end_time": "2020-07-28T01:32:45.552607Z",
     "start_time": "2020-07-28T01:32:45.535667Z"
    }
   },
   "outputs": [],
   "source": [
    "# Element holding last roll call vote in session\n",
    "last = soup.find('td').find('a').text\n",
    "last"
   ]
  },
  {
   "cell_type": "code",
   "execution_count": null,
   "metadata": {
    "ExecuteTime": {
     "end_time": "2020-07-28T01:32:45.565708Z",
     "start_time": "2020-07-28T01:32:45.555977Z"
    }
   },
   "outputs": [],
   "source": [
    "# Last roll call vote in session\n",
    "re.search(r'^...(?=\\\\)*', last).group(0)"
   ]
  },
  {
   "cell_type": "code",
   "execution_count": null,
   "metadata": {
    "ExecuteTime": {
     "end_time": "2020-07-28T18:13:18.665383Z",
     "start_time": "2020-07-28T18:12:50.631024Z"
    }
   },
   "outputs": [],
   "source": [
    "# Script to pull total roll call votes per session\n",
    "roll_calls = {}\n",
    "for congress in congresses:\n",
    "    # First session\n",
    "    html = urllib.request.urlopen(\n",
    "        f'https://www.senate.gov/legislative/LIS/roll_call_lists/vote_menu_{congress}_1.htm'\n",
    "    )\n",
    "    soup = BeautifulSoup(html, 'lxml')\n",
    "    last = soup.find('td').find('a').text\n",
    "    last_roll_call = re.search(r'^...(?=\\\\)*', last).group(0)\n",
    "    roll_calls[f'{congress}_1'] = int(last_roll_call)\n",
    "    \n",
    "    # Second session\n",
    "    html = urllib.request.urlopen(\n",
    "        f'https://www.senate.gov/legislative/LIS/roll_call_lists/vote_menu_{congress}_2.htm'\n",
    "    )\n",
    "    soup = BeautifulSoup(html, 'lxml')\n",
    "    last = soup.find('td').find('a').text\n",
    "    last_roll_call = re.search(r'^...(?=\\\\)*', last).group(0)\n",
    "    roll_calls[f'{congress}_2'] = int(last_roll_call)"
   ]
  },
  {
   "cell_type": "code",
   "execution_count": null,
   "metadata": {
    "ExecuteTime": {
     "end_time": "2020-07-28T19:08:11.594904Z",
     "start_time": "2020-07-28T19:08:11.590105Z"
    }
   },
   "outputs": [],
   "source": [
    "with open('roll_calls.p', 'rb') as f:\n",
    "    roll_calls = pickle.load(f)"
   ]
  },
  {
   "cell_type": "markdown",
   "metadata": {},
   "source": [
    "## Retrieve Votes by Roll Calls\n",
    "There is a limit of 5000 API calls per day for ProPublica.  So we will make API calls by chunks: 101st-105th Congress (3443 roll calls), 106th-110th Congress (3282), and 11th-116th Congress (3509).  The API call response can be read as a json file."
   ]
  },
  {
   "cell_type": "code",
   "execution_count": null,
   "metadata": {
    "ExecuteTime": {
     "end_time": "2020-07-28T19:08:16.784276Z",
     "start_time": "2020-07-28T19:08:16.780240Z"
    }
   },
   "outputs": [],
   "source": [
    "# Set range of congresses to make API calls\n",
    "rc_1 = list(range(101, 106))\n",
    "rc_2 = list(range(106, 111))\n",
    "rc_3 = list(range(111, 117))"
   ]
  },
  {
   "cell_type": "code",
   "execution_count": null,
   "metadata": {
    "ExecuteTime": {
     "end_time": "2020-07-28T19:27:21.605584Z",
     "start_time": "2020-07-28T19:08:18.894657Z"
    }
   },
   "outputs": [],
   "source": [
    "# Make API calls for each roll call vote, for each session, for each congress\n",
    "new_set = []\n",
    "for key, value in roll_calls.items():\n",
    "    c = int(key[:3])\n",
    "    s = int(key[-1])\n",
    "    if c in rc_3: # Set the range here\n",
    "        for n in range(1, value+1):\n",
    "            html = f'https://api.propublica.org/congress/v1/{c}/senate/sessions/{s}/votes/{n}.json'\n",
    "            r = requests.get(\n",
    "                html,\n",
    "                headers={'X-API-Key': api_key}\n",
    "            )\n",
    "            new_set.append(r)\n",
    "    else:\n",
    "        continue"
   ]
  },
  {
   "cell_type": "code",
   "execution_count": 23,
   "metadata": {
    "ExecuteTime": {
     "end_time": "2020-07-29T04:31:27.961150Z",
     "start_time": "2020-07-29T04:31:27.937291Z"
    }
   },
   "outputs": [],
   "source": [
    "# Function to extract relevent information from json file\n",
    "def clean_votes(votes):\n",
    "    all_votes = []\n",
    "    for i, v in enumerate(votes):\n",
    "        try:\n",
    "            results = v.json()['results']['votes']['vote']\n",
    "            vote = {\n",
    "                'congress': results['congress'],\n",
    "                'session': results['session'],\n",
    "                'roll_call': results['roll_call'], \n",
    "                'bill_id': results['bill']['bill_id'],\n",
    "                'date': results['date'],\n",
    "                'positions': results['positions']\n",
    "            }\n",
    "        except:\n",
    "            continue\n",
    "        all_votes.append(vote)\n",
    "    return all_votes"
   ]
  },
  {
   "cell_type": "code",
   "execution_count": 19,
   "metadata": {
    "ExecuteTime": {
     "end_time": "2020-07-29T04:29:24.176350Z",
     "start_time": "2020-07-29T04:29:14.799941Z"
    }
   },
   "outputs": [],
   "source": [
    "with open('c101_105.p', 'rb') as f:\n",
    "    dict_votes1 = pickle.load(f)\n",
    "    \n",
    "with open('c106_110.p', 'rb') as f:\n",
    "    dict_votes2 = pickle.load(f)\n",
    "    \n",
    "with open('c111_116.p', 'rb') as f:\n",
    "    dict_votes3 = pickle.load(f)"
   ]
  },
  {
   "cell_type": "code",
   "execution_count": 29,
   "metadata": {
    "ExecuteTime": {
     "end_time": "2020-07-29T04:34:14.032948Z",
     "start_time": "2020-07-29T04:34:13.909463Z"
    }
   },
   "outputs": [],
   "source": [
    "# Merge all roll call votes\n",
    "all_votes = dict_votes1 + dict_votes2 + dict_votes3"
   ]
  }
 ],
 "metadata": {
  "kernelspec": {
   "display_name": "senate_env",
   "language": "python",
   "name": "senate_env"
  },
  "language_info": {
   "codemirror_mode": {
    "name": "ipython",
    "version": 3
   },
   "file_extension": ".py",
   "mimetype": "text/x-python",
   "name": "python",
   "nbconvert_exporter": "python",
   "pygments_lexer": "ipython3",
   "version": "3.8.3"
  },
  "toc": {
   "base_numbering": 1,
   "nav_menu": {},
   "number_sections": true,
   "sideBar": true,
   "skip_h1_title": false,
   "title_cell": "Table of Contents",
   "title_sidebar": "Contents",
   "toc_cell": false,
   "toc_position": {},
   "toc_section_display": true,
   "toc_window_display": true
  }
 },
 "nbformat": 4,
 "nbformat_minor": 4
}
