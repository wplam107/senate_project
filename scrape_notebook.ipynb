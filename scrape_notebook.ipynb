{
 "cells": [
  {
   "cell_type": "markdown",
   "metadata": {},
   "source": [
    "# Retrieving Data with ProPublica API"
   ]
  },
  {
   "cell_type": "code",
   "execution_count": 1,
   "metadata": {
    "ExecuteTime": {
     "end_time": "2020-07-28T20:28:48.963490Z",
     "start_time": "2020-07-28T20:28:47.366966Z"
    }
   },
   "outputs": [],
   "source": [
    "import numpy as np\n",
    "import pandas as pd\n",
    "import pickle\n",
    "\n",
    "import requests\n",
    "import json\n",
    "import configparser\n",
    "\n",
    "from bs4 import BeautifulSoup\n",
    "import urllib.request\n",
    "import re"
   ]
  },
  {
   "cell_type": "code",
   "execution_count": null,
   "metadata": {
    "ExecuteTime": {
     "end_time": "2020-07-28T18:14:19.162811Z",
     "start_time": "2020-07-28T18:14:19.128995Z"
    }
   },
   "outputs": [],
   "source": [
    "# Config API\n",
    "config = configparser.ConfigParser()\n",
    "config.read('config.ini')\n",
    "api_key = config.get('propublica', 'PROPUBLICA_API_KEY')"
   ]
  },
  {
   "cell_type": "markdown",
   "metadata": {},
   "source": [
    "## Retrieve Senators\n",
    "Through ProPublica, a list of senators can be retrieved for each congress starting with the 80th Congress.  For this project, we will start from the 101st Congress (1989-1990) and end with the 116th Congress (2019-2021).  The API calls will return a response that can be read as a json file."
   ]
  },
  {
   "cell_type": "code",
   "execution_count": null,
   "metadata": {
    "ExecuteTime": {
     "end_time": "2020-07-28T01:32:53.075318Z",
     "start_time": "2020-07-28T01:32:53.071862Z"
    }
   },
   "outputs": [],
   "source": [
    "# Set parameters\n",
    "congresses = range(101, 117) # from the 101st congress to the 116th congress"
   ]
  },
  {
   "cell_type": "code",
   "execution_count": null,
   "metadata": {
    "ExecuteTime": {
     "end_time": "2020-07-26T19:19:34.201214Z",
     "start_time": "2020-07-26T19:19:09.933617Z"
    }
   },
   "outputs": [],
   "source": [
    "# Get all congresses\n",
    "list_of_congresses = []\n",
    "\n",
    "for n in congresses:\n",
    "    r = requests.get(\n",
    "        f'https://api.propublica.org/congress/v1/{n}/senate/members.json',\n",
    "        headers={'X-API-Key': api_key}\n",
    "    )\n",
    "    \n",
    "    results = r.json()['results'][0]\n",
    "    members = results['members']\n",
    "    list_of_congresses.append(members)"
   ]
  },
  {
   "cell_type": "code",
   "execution_count": null,
   "metadata": {
    "ExecuteTime": {
     "end_time": "2020-07-26T19:20:03.189046Z",
     "start_time": "2020-07-26T19:20:03.183238Z"
    }
   },
   "outputs": [],
   "source": [
    "# Function to grab data for senators\n",
    "def get_senators(members):\n",
    "    senators = []\n",
    "    for member in members:\n",
    "        senator = {\n",
    "            'id': member['id'],\n",
    "            'first_name': member['first_name'],\n",
    "            'last_name': member['last_name'],\n",
    "            'party': member['party'],\n",
    "            'gender': member['gender'],\n",
    "            'state': member['state'],\n",
    "        }\n",
    "        senators.append(senator)\n",
    "    return senators"
   ]
  },
  {
   "cell_type": "code",
   "execution_count": null,
   "metadata": {
    "ExecuteTime": {
     "end_time": "2020-07-26T19:20:05.783759Z",
     "start_time": "2020-07-26T19:20:05.776378Z"
    }
   },
   "outputs": [],
   "source": [
    "senates = []\n",
    "for members in list_of_congresses:\n",
    "    senators = get_senators(members)\n",
    "    senates.append(senators)"
   ]
  },
  {
   "cell_type": "code",
   "execution_count": null,
   "metadata": {
    "ExecuteTime": {
     "end_time": "2020-07-26T19:20:07.866216Z",
     "start_time": "2020-07-26T19:20:07.855449Z"
    }
   },
   "outputs": [],
   "source": [
    "# Create list of all unique senators across 101st to 116th congress\n",
    "senator_ids = []\n",
    "all_senators = []\n",
    "for senate in senates:\n",
    "    for senator in senate:\n",
    "        if senator['id'] in senator_ids:\n",
    "            continue\n",
    "        else:\n",
    "            senator_ids.append(senator['id'])\n",
    "            all_senators.append(senator)"
   ]
  },
  {
   "cell_type": "code",
   "execution_count": null,
   "metadata": {
    "ExecuteTime": {
     "end_time": "2020-07-28T00:30:23.308888Z",
     "start_time": "2020-07-28T00:30:23.234430Z"
    }
   },
   "outputs": [],
   "source": [
    "with open('temp_senators.p', 'rb') as f:\n",
    "    dict_senators = pickle.load(f)"
   ]
  },
  {
   "cell_type": "markdown",
   "metadata": {
    "ExecuteTime": {
     "end_time": "2020-07-26T14:43:00.320089Z",
     "start_time": "2020-07-26T14:43:00.307313Z"
    }
   },
   "source": [
    "## Web Scrape Total Roll Call Votes\n",
    "The API only returns the 20 most recent votes by a senator so searching votes by senator is not possible.  Instead, votes will be retrieve through votes by roll call.  Each senate session (2 sessions per congress) has a varying number of bills voted on so the total number of roll call votes needs to be web scraped per session.  This is done on the [US Senate](https://www.senate.gov/) website."
   ]
  },
  {
   "cell_type": "code",
   "execution_count": null,
   "metadata": {
    "ExecuteTime": {
     "end_time": "2020-07-28T01:32:45.532618Z",
     "start_time": "2020-07-28T01:32:35.013962Z"
    }
   },
   "outputs": [],
   "source": [
    "# Create BeautifulSoup object to find number of roll call votes for each session\n",
    "html = urllib.request.urlopen('https://www.senate.gov/legislative/LIS/roll_call_lists/vote_menu_101_1.htm')\n",
    "soup = BeautifulSoup(html, 'lxml')"
   ]
  },
  {
   "cell_type": "code",
   "execution_count": null,
   "metadata": {
    "ExecuteTime": {
     "end_time": "2020-07-28T01:32:45.552607Z",
     "start_time": "2020-07-28T01:32:45.535667Z"
    }
   },
   "outputs": [],
   "source": [
    "# Element holding last roll call vote in session\n",
    "last = soup.find('td').find('a').text\n",
    "last"
   ]
  },
  {
   "cell_type": "code",
   "execution_count": null,
   "metadata": {
    "ExecuteTime": {
     "end_time": "2020-07-28T01:32:45.565708Z",
     "start_time": "2020-07-28T01:32:45.555977Z"
    }
   },
   "outputs": [],
   "source": [
    "# Last roll call vote in session\n",
    "re.search(r'^...(?=\\\\)*', last).group(0)"
   ]
  },
  {
   "cell_type": "code",
   "execution_count": null,
   "metadata": {
    "ExecuteTime": {
     "end_time": "2020-07-28T18:13:18.665383Z",
     "start_time": "2020-07-28T18:12:50.631024Z"
    }
   },
   "outputs": [],
   "source": [
    "# Script to pull total roll call votes per session\n",
    "roll_calls = {}\n",
    "for congress in congresses:\n",
    "    # First session\n",
    "    html = urllib.request.urlopen(\n",
    "        f'https://www.senate.gov/legislative/LIS/roll_call_lists/vote_menu_{congress}_1.htm'\n",
    "    )\n",
    "    soup = BeautifulSoup(html, 'lxml')\n",
    "    last = soup.find('td').find('a').text\n",
    "    last_roll_call = re.search(r'^...(?=\\\\)*', last).group(0)\n",
    "    roll_calls[f'{congress}_1'] = int(last_roll_call)\n",
    "    \n",
    "    # Second session\n",
    "    html = urllib.request.urlopen(\n",
    "        f'https://www.senate.gov/legislative/LIS/roll_call_lists/vote_menu_{congress}_2.htm'\n",
    "    )\n",
    "    soup = BeautifulSoup(html, 'lxml')\n",
    "    last = soup.find('td').find('a').text\n",
    "    last_roll_call = re.search(r'^...(?=\\\\)*', last).group(0)\n",
    "    roll_calls[f'{congress}_2'] = int(last_roll_call)"
   ]
  },
  {
   "cell_type": "code",
   "execution_count": null,
   "metadata": {
    "ExecuteTime": {
     "end_time": "2020-07-28T19:08:11.594904Z",
     "start_time": "2020-07-28T19:08:11.590105Z"
    }
   },
   "outputs": [],
   "source": [
    "with open('roll_calls.p', 'rb') as f:\n",
    "    roll_calls = pickle.load(f)"
   ]
  },
  {
   "cell_type": "markdown",
   "metadata": {},
   "source": [
    "## Retrieve Votes by Roll Calls\n",
    "There is a limit of 5000 API calls per day for ProPublica.  So we will make API calls by chunks: 101st-105th Congress (3443 roll calls), 106th-110th Congress (3282), and 11th-116th Congress (3509).  The API call response can be read as a json file."
   ]
  },
  {
   "cell_type": "code",
   "execution_count": null,
   "metadata": {
    "ExecuteTime": {
     "end_time": "2020-07-28T19:08:16.784276Z",
     "start_time": "2020-07-28T19:08:16.780240Z"
    }
   },
   "outputs": [],
   "source": [
    "# Set range of congresses to make API calls\n",
    "rc_1 = list(range(101, 106))\n",
    "rc_2 = list(range(106, 111))\n",
    "rc_3 = list(range(111, 117))"
   ]
  },
  {
   "cell_type": "code",
   "execution_count": null,
   "metadata": {
    "ExecuteTime": {
     "end_time": "2020-07-28T19:27:21.605584Z",
     "start_time": "2020-07-28T19:08:18.894657Z"
    }
   },
   "outputs": [],
   "source": [
    "# Make API calls for each roll call vote, for each session, for each congress\n",
    "new_set = []\n",
    "for key, value in roll_calls.items():\n",
    "    c = int(key[:3])\n",
    "    s = int(key[-1])\n",
    "    if c in rc_3: # Set the range here\n",
    "        for n in range(1, value+1):\n",
    "            html = f'https://api.propublica.org/congress/v1/{c}/senate/sessions/{s}/votes/{n}.json'\n",
    "            r = requests.get(\n",
    "                html,\n",
    "                headers={'X-API-Key': api_key}\n",
    "            )\n",
    "            new_set.append(r)\n",
    "    else:\n",
    "        continue"
   ]
  },
  {
   "cell_type": "code",
   "execution_count": null,
   "metadata": {
    "ExecuteTime": {
     "end_time": "2020-07-28T19:51:32.154639Z",
     "start_time": "2020-07-28T19:51:32.148151Z"
    }
   },
   "outputs": [],
   "source": [
    "# Function to extract relevent information from json file\n",
    "def clean_votes(votes):\n",
    "    all_votes = []\n",
    "    for i, v in enumerate(votes):\n",
    "        try:\n",
    "            results = v.json()['results']['votes']['vote']\n",
    "            vote = {\n",
    "                'congress': results['congress'],\n",
    "                'session': results['session'],\n",
    "                'roll_call': results['roll_call'], \n",
    "                'bill_id': results['bill']['bill_id'],\n",
    "                'date': results['date'],\n",
    "                'positions': results['positions']\n",
    "            }\n",
    "        except:\n",
    "            continue\n",
    "        all_votes.append(vote)\n",
    "    return all_votes"
   ]
  },
  {
   "cell_type": "code",
   "execution_count": null,
   "metadata": {
    "ExecuteTime": {
     "end_time": "2020-07-28T19:54:51.586752Z",
     "start_time": "2020-07-28T19:54:44.645460Z"
    }
   },
   "outputs": [],
   "source": [
    "with open('c101_105.p', 'rb') as f:\n",
    "    dict_votes1 = pickle.load(f)\n",
    "    \n",
    "with open('c106_110.p', 'rb') as f:\n",
    "    dict_votes2 = pickle.load(f)\n",
    "    \n",
    "with open('c111_116.p', 'rb') as f:\n",
    "    dict_votes3 = pickle.load(f)"
   ]
  },
  {
   "cell_type": "code",
   "execution_count": null,
   "metadata": {
    "ExecuteTime": {
     "end_time": "2020-07-28T19:56:04.622191Z",
     "start_time": "2020-07-28T19:56:03.229231Z"
    }
   },
   "outputs": [],
   "source": [
    "# Merge all roll call votes\n",
    "all_votes = dict_votes1 + dict_votes2 + dict_votes3"
   ]
  },
  {
   "cell_type": "code",
   "execution_count": null,
   "metadata": {
    "ExecuteTime": {
     "end_time": "2020-07-28T19:56:05.598297Z",
     "start_time": "2020-07-28T19:56:05.581554Z"
    }
   },
   "outputs": [],
   "source": [
    "# Function to create columns of data\n",
    "def roll_call_vote(vote):\n",
    "    congress = vote['congress']\n",
    "    session = vote['session']\n",
    "    roll_call = vote['roll_call']\n",
    "    date = vote['date']\n",
    "    positions = []\n",
    "    member_ids = []\n",
    "    for position in vote['positions']:\n",
    "        positions.append(position['vote_position'])\n",
    "        member_ids.append(position['member_id'])\n",
    "    \n",
    "    return congress, session, roll_call, date, positions, member_ids"
   ]
  },
  {
   "cell_type": "code",
   "execution_count": null,
   "metadata": {
    "ExecuteTime": {
     "end_time": "2020-07-28T19:56:19.871491Z",
     "start_time": "2020-07-28T19:56:18.830490Z"
    }
   },
   "outputs": [],
   "source": [
    "# Create data columns for DataFrame\n",
    "congs = []\n",
    "sessions = []\n",
    "rcs = []\n",
    "dates = []\n",
    "vote_positions = []\n",
    "voters = []\n",
    "\n",
    "for vote in all_votes:\n",
    "    cong, session, roll_call, date, positions, member_ids = roll_call_vote(vote)\n",
    "    if len(positions) != 0: # Remove roll calls where bills were killed on the floor\n",
    "        congs.append(cong)\n",
    "        sessions.append(session)\n",
    "        rcs.append(roll_call)\n",
    "        dates.append(date)\n",
    "        vote_positions.append(positions)\n",
    "        voters.append(member_ids)"
   ]
  },
  {
   "cell_type": "markdown",
   "metadata": {},
   "source": [
    "## Storing data as a DataFrame (final product)\n",
    "Temporarily, the data will be stored as a DataFrame.  In future iterations senate votes will be periodically updated such that an online/cloud database will be necessary to store the data.  Here we will simply load all the data onto a DataFrame such that it can be used for exploratory data analysis, data modeling, and data visualizations."
   ]
  },
  {
   "cell_type": "code",
   "execution_count": null,
   "metadata": {
    "ExecuteTime": {
     "end_time": "2020-07-28T19:56:21.018929Z",
     "start_time": "2020-07-28T19:56:20.988755Z"
    }
   },
   "outputs": [],
   "source": [
    "# DataFrame with bill information\n",
    "df = pd.DataFrame(index=range(len(congs)))\n",
    "df['congress'] = congs\n",
    "df['session'] = sessions\n",
    "df['roll_call'] = rcs\n",
    "df['date'] = dates"
   ]
  },
  {
   "cell_type": "code",
   "execution_count": null,
   "metadata": {
    "ExecuteTime": {
     "end_time": "2020-07-28T19:56:21.738685Z",
     "start_time": "2020-07-28T19:56:21.734560Z"
    }
   },
   "outputs": [],
   "source": [
    "# Make a senators dictionary (id:name)\n",
    "id2name = {}\n",
    "for dicty in dict_senators:\n",
    "    id2name[dicty['id']] = f'{dicty[\"last_name\"]}, {dicty[\"first_name\"]}'"
   ]
  },
  {
   "cell_type": "code",
   "execution_count": null,
   "metadata": {
    "ExecuteTime": {
     "end_time": "2020-07-28T19:56:24.016324Z",
     "start_time": "2020-07-28T19:56:22.541203Z"
    }
   },
   "outputs": [],
   "source": [
    "# Add senator votes and names to DataFrame\n",
    "for n in range(100):\n",
    "    sen_votes = []\n",
    "    sen = []\n",
    "    for i in range(len(congs)):\n",
    "        try:\n",
    "            sen_votes.append(vote_positions[i][n])\n",
    "            sen.append(id2name[voters[i][n]])\n",
    "        except:\n",
    "            sen_votes.append(np.nan)\n",
    "            sen.append(np.nan)\n",
    "            \n",
    "    df[f'vote_{n}'] = sen_votes\n",
    "    df[f'senator_{n}'] = sen"
   ]
  },
  {
   "cell_type": "code",
   "execution_count": 2,
   "metadata": {
    "ExecuteTime": {
     "end_time": "2020-07-28T20:28:55.028857Z",
     "start_time": "2020-07-28T20:28:54.818392Z"
    }
   },
   "outputs": [],
   "source": [
    "with open('senate_bills.p', 'rb') as f:\n",
    "    df = pickle.load(f)"
   ]
  },
  {
   "cell_type": "code",
   "execution_count": 3,
   "metadata": {
    "ExecuteTime": {
     "end_time": "2020-07-28T20:28:55.681130Z",
     "start_time": "2020-07-28T20:28:55.602632Z"
    }
   },
   "outputs": [
    {
     "name": "stdout",
     "output_type": "stream",
     "text": [
      "<class 'pandas.core.frame.DataFrame'>\n",
      "RangeIndex: 10004 entries, 0 to 10003\n",
      "Columns: 204 entries, congress to senator_99\n",
      "dtypes: int64(3), object(201)\n",
      "memory usage: 15.6+ MB\n"
     ]
    }
   ],
   "source": [
    "df.info()"
   ]
  },
  {
   "cell_type": "code",
   "execution_count": 4,
   "metadata": {
    "ExecuteTime": {
     "end_time": "2020-07-28T20:28:56.411516Z",
     "start_time": "2020-07-28T20:28:56.370813Z"
    }
   },
   "outputs": [
    {
     "data": {
      "text/html": [
       "<div>\n",
       "<style scoped>\n",
       "    .dataframe tbody tr th:only-of-type {\n",
       "        vertical-align: middle;\n",
       "    }\n",
       "\n",
       "    .dataframe tbody tr th {\n",
       "        vertical-align: top;\n",
       "    }\n",
       "\n",
       "    .dataframe thead th {\n",
       "        text-align: right;\n",
       "    }\n",
       "</style>\n",
       "<table border=\"1\" class=\"dataframe\">\n",
       "  <thead>\n",
       "    <tr style=\"text-align: right;\">\n",
       "      <th></th>\n",
       "      <th>congress</th>\n",
       "      <th>session</th>\n",
       "      <th>roll_call</th>\n",
       "      <th>date</th>\n",
       "      <th>vote_0</th>\n",
       "      <th>senator_0</th>\n",
       "      <th>vote_1</th>\n",
       "      <th>senator_1</th>\n",
       "      <th>vote_2</th>\n",
       "      <th>senator_2</th>\n",
       "      <th>...</th>\n",
       "      <th>vote_95</th>\n",
       "      <th>senator_95</th>\n",
       "      <th>vote_96</th>\n",
       "      <th>senator_96</th>\n",
       "      <th>vote_97</th>\n",
       "      <th>senator_97</th>\n",
       "      <th>vote_98</th>\n",
       "      <th>senator_98</th>\n",
       "      <th>vote_99</th>\n",
       "      <th>senator_99</th>\n",
       "    </tr>\n",
       "  </thead>\n",
       "  <tbody>\n",
       "    <tr>\n",
       "      <th>0</th>\n",
       "      <td>101</td>\n",
       "      <td>1</td>\n",
       "      <td>1</td>\n",
       "      <td>1989-01-25</td>\n",
       "      <td>Yes</td>\n",
       "      <td>Adams, Brockman</td>\n",
       "      <td>Yes</td>\n",
       "      <td>Armstrong, William</td>\n",
       "      <td>Yes</td>\n",
       "      <td>Baucus, Max</td>\n",
       "      <td>...</td>\n",
       "      <td>Yes</td>\n",
       "      <td>Thurmond, Strom</td>\n",
       "      <td>Yes</td>\n",
       "      <td>Wallop, Malcolm</td>\n",
       "      <td>Yes</td>\n",
       "      <td>Warner, John</td>\n",
       "      <td>Yes</td>\n",
       "      <td>Wilson, Pete</td>\n",
       "      <td>Yes</td>\n",
       "      <td>Wirth, Timothy</td>\n",
       "    </tr>\n",
       "    <tr>\n",
       "      <th>1</th>\n",
       "      <td>101</td>\n",
       "      <td>1</td>\n",
       "      <td>2</td>\n",
       "      <td>1989-01-25</td>\n",
       "      <td>Yes</td>\n",
       "      <td>Adams, Brockman</td>\n",
       "      <td>Yes</td>\n",
       "      <td>Armstrong, William</td>\n",
       "      <td>Yes</td>\n",
       "      <td>Baucus, Max</td>\n",
       "      <td>...</td>\n",
       "      <td>Yes</td>\n",
       "      <td>Thurmond, Strom</td>\n",
       "      <td>Yes</td>\n",
       "      <td>Wallop, Malcolm</td>\n",
       "      <td>Yes</td>\n",
       "      <td>Warner, John</td>\n",
       "      <td>Yes</td>\n",
       "      <td>Wilson, Pete</td>\n",
       "      <td>Yes</td>\n",
       "      <td>Wirth, Timothy</td>\n",
       "    </tr>\n",
       "    <tr>\n",
       "      <th>2</th>\n",
       "      <td>101</td>\n",
       "      <td>1</td>\n",
       "      <td>3</td>\n",
       "      <td>1989-01-25</td>\n",
       "      <td>Yes</td>\n",
       "      <td>Adams, Brockman</td>\n",
       "      <td>Yes</td>\n",
       "      <td>Armstrong, William</td>\n",
       "      <td>Yes</td>\n",
       "      <td>Baucus, Max</td>\n",
       "      <td>...</td>\n",
       "      <td>Yes</td>\n",
       "      <td>Thurmond, Strom</td>\n",
       "      <td>Yes</td>\n",
       "      <td>Wallop, Malcolm</td>\n",
       "      <td>Yes</td>\n",
       "      <td>Warner, John</td>\n",
       "      <td>Yes</td>\n",
       "      <td>Wilson, Pete</td>\n",
       "      <td>Yes</td>\n",
       "      <td>Wirth, Timothy</td>\n",
       "    </tr>\n",
       "    <tr>\n",
       "      <th>3</th>\n",
       "      <td>101</td>\n",
       "      <td>1</td>\n",
       "      <td>4</td>\n",
       "      <td>1989-01-31</td>\n",
       "      <td>Yes</td>\n",
       "      <td>Adams, Brockman</td>\n",
       "      <td>Yes</td>\n",
       "      <td>Armstrong, William</td>\n",
       "      <td>Yes</td>\n",
       "      <td>Baucus, Max</td>\n",
       "      <td>...</td>\n",
       "      <td>Yes</td>\n",
       "      <td>Thurmond, Strom</td>\n",
       "      <td>Yes</td>\n",
       "      <td>Wallop, Malcolm</td>\n",
       "      <td>Yes</td>\n",
       "      <td>Warner, John</td>\n",
       "      <td>Yes</td>\n",
       "      <td>Wilson, Pete</td>\n",
       "      <td>Yes</td>\n",
       "      <td>Wirth, Timothy</td>\n",
       "    </tr>\n",
       "    <tr>\n",
       "      <th>4</th>\n",
       "      <td>101</td>\n",
       "      <td>1</td>\n",
       "      <td>5</td>\n",
       "      <td>1989-01-31</td>\n",
       "      <td>Yes</td>\n",
       "      <td>Adams, Brockman</td>\n",
       "      <td>Yes</td>\n",
       "      <td>Armstrong, William</td>\n",
       "      <td>Yes</td>\n",
       "      <td>Baucus, Max</td>\n",
       "      <td>...</td>\n",
       "      <td>Yes</td>\n",
       "      <td>Thurmond, Strom</td>\n",
       "      <td>Yes</td>\n",
       "      <td>Wallop, Malcolm</td>\n",
       "      <td>Yes</td>\n",
       "      <td>Warner, John</td>\n",
       "      <td>Yes</td>\n",
       "      <td>Wilson, Pete</td>\n",
       "      <td>Yes</td>\n",
       "      <td>Wirth, Timothy</td>\n",
       "    </tr>\n",
       "  </tbody>\n",
       "</table>\n",
       "<p>5 rows × 204 columns</p>\n",
       "</div>"
      ],
      "text/plain": [
       "   congress  session  roll_call        date vote_0        senator_0 vote_1  \\\n",
       "0       101        1          1  1989-01-25    Yes  Adams, Brockman    Yes   \n",
       "1       101        1          2  1989-01-25    Yes  Adams, Brockman    Yes   \n",
       "2       101        1          3  1989-01-25    Yes  Adams, Brockman    Yes   \n",
       "3       101        1          4  1989-01-31    Yes  Adams, Brockman    Yes   \n",
       "4       101        1          5  1989-01-31    Yes  Adams, Brockman    Yes   \n",
       "\n",
       "            senator_1 vote_2    senator_2  ... vote_95       senator_95  \\\n",
       "0  Armstrong, William    Yes  Baucus, Max  ...     Yes  Thurmond, Strom   \n",
       "1  Armstrong, William    Yes  Baucus, Max  ...     Yes  Thurmond, Strom   \n",
       "2  Armstrong, William    Yes  Baucus, Max  ...     Yes  Thurmond, Strom   \n",
       "3  Armstrong, William    Yes  Baucus, Max  ...     Yes  Thurmond, Strom   \n",
       "4  Armstrong, William    Yes  Baucus, Max  ...     Yes  Thurmond, Strom   \n",
       "\n",
       "  vote_96       senator_96 vote_97    senator_97 vote_98    senator_98  \\\n",
       "0     Yes  Wallop, Malcolm     Yes  Warner, John     Yes  Wilson, Pete   \n",
       "1     Yes  Wallop, Malcolm     Yes  Warner, John     Yes  Wilson, Pete   \n",
       "2     Yes  Wallop, Malcolm     Yes  Warner, John     Yes  Wilson, Pete   \n",
       "3     Yes  Wallop, Malcolm     Yes  Warner, John     Yes  Wilson, Pete   \n",
       "4     Yes  Wallop, Malcolm     Yes  Warner, John     Yes  Wilson, Pete   \n",
       "\n",
       "  vote_99      senator_99  \n",
       "0     Yes  Wirth, Timothy  \n",
       "1     Yes  Wirth, Timothy  \n",
       "2     Yes  Wirth, Timothy  \n",
       "3     Yes  Wirth, Timothy  \n",
       "4     Yes  Wirth, Timothy  \n",
       "\n",
       "[5 rows x 204 columns]"
      ]
     },
     "execution_count": 4,
     "metadata": {},
     "output_type": "execute_result"
    }
   ],
   "source": [
    "df.head()"
   ]
  }
 ],
 "metadata": {
  "kernelspec": {
   "display_name": "senate_env",
   "language": "python",
   "name": "senate_env"
  },
  "language_info": {
   "codemirror_mode": {
    "name": "ipython",
    "version": 3
   },
   "file_extension": ".py",
   "mimetype": "text/x-python",
   "name": "python",
   "nbconvert_exporter": "python",
   "pygments_lexer": "ipython3",
   "version": "3.8.3"
  },
  "toc": {
   "base_numbering": 1,
   "nav_menu": {},
   "number_sections": true,
   "sideBar": true,
   "skip_h1_title": false,
   "title_cell": "Table of Contents",
   "title_sidebar": "Contents",
   "toc_cell": false,
   "toc_position": {},
   "toc_section_display": true,
   "toc_window_display": true
  }
 },
 "nbformat": 4,
 "nbformat_minor": 4
}
