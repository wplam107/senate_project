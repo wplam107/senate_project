{
 "cells": [
  {
   "cell_type": "markdown",
   "metadata": {},
   "source": [
    "# Data Retrieval and Pre-processing Notebook"
   ]
  },
  {
   "cell_type": "code",
   "execution_count": 1,
   "metadata": {
    "ExecuteTime": {
     "end_time": "2020-07-31T13:10:54.744005Z",
     "start_time": "2020-07-31T13:10:49.960017Z"
    }
   },
   "outputs": [],
   "source": [
    "import numpy as np\n",
    "import pandas as pd\n",
    "\n",
    "import configparser\n",
    "import psycopg2\n",
    "from psycopg2.extensions import ISOLATION_LEVEL_AUTOCOMMIT"
   ]
  },
  {
   "cell_type": "code",
   "execution_count": 2,
   "metadata": {
    "ExecuteTime": {
     "end_time": "2020-07-31T13:10:55.430191Z",
     "start_time": "2020-07-31T13:10:55.415074Z"
    }
   },
   "outputs": [],
   "source": [
    "# Retrieve credentials\n",
    "config = configparser.ConfigParser()\n",
    "config.read('config.ini')\n",
    "ENDPOINT = config.get('aws', 'ENDPOINT')\n",
    "PORT = config.get('aws', 'PORT')\n",
    "USR = config.get('aws', 'USER')\n",
    "PWD = config.get('aws', 'PASSWORD')\n",
    "DB = config.get('aws', 'DATABASE')"
   ]
  },
  {
   "cell_type": "markdown",
   "metadata": {},
   "source": [
    "## Retrieving data to transform\n",
    "The following function may be used for future implementations of the app where a live database is accessed by the frontend.  Currently, the app will receive a static csv file for conversion to a DataFrame."
   ]
  },
  {
   "cell_type": "code",
   "execution_count": null,
   "metadata": {
    "ExecuteTime": {
     "end_time": "2020-07-31T16:24:36.859918Z",
     "start_time": "2020-07-31T16:24:36.854037Z"
    }
   },
   "outputs": [],
   "source": [
    "def senator_select(senator):\n",
    "    \"\"\"\n",
    "    Function to choose senator and return all senators' votes for bills that the chosen senator has participated\n",
    "    in (includes no vote and present).\n",
    "    \"\"\"\n",
    "    conn = psycopg2.connect(\n",
    "        host=ENDPOINT,\n",
    "        user=USR,\n",
    "        password=PWD,\n",
    "        port=PORT,\n",
    "        database=DB\n",
    "    )\n",
    "    conn.set_isolation_level(ISOLATION_LEVEL_AUTOCOMMIT)\n",
    "    cursor = conn.cursor()\n",
    "    cursor.execute(\n",
    "        f\"\"\"\n",
    "        SELECT CONCAT(senators.f_name, ' ', senators.l_name), votes.csr_id, votes.position\n",
    "        FROM votes\n",
    "        JOIN bills ON votes.csr_id = bills.csr_id\n",
    "        JOIN senators ON votes.sen_id = senators.sen_id\n",
    "        WHERE votes.csr_id IN (\n",
    "            SELECT csr_id\n",
    "            FROM votes\n",
    "            JOIN senators ON votes.sen_id = senators.sen_id\n",
    "            WHERE CONCAT(senators.f_name, ' ', senators.l_name) = '{senator}'\n",
    "        )\n",
    "        ;\n",
    "        \"\"\"\n",
    "    )\n",
    "    votes = cursor.fetchall()\n",
    "    cursor.close()\n",
    "    conn.close()\n",
    "    return votes"
   ]
  },
  {
   "cell_type": "markdown",
   "metadata": {},
   "source": [
    "### Current function"
   ]
  },
  {
   "cell_type": "code",
   "execution_count": 3,
   "metadata": {},
   "outputs": [],
   "source": [
    "def congress_votes():\n",
    "    conn = psycopg2.connect(\n",
    "        host=ENDPOINT,\n",
    "        user=USR,\n",
    "        password=PWD,\n",
    "        port=PORT,\n",
    "        database=DB\n",
    "    )\n",
    "    conn.set_isolation_level(ISOLATION_LEVEL_AUTOCOMMIT)\n",
    "    cursor = conn.cursor()\n",
    "    cursor.execute(\n",
    "        \"\"\"\n",
    "        SELECT CONCAT(senators.f_name, ' ', senators.l_name), votes.csr_id, votes.position\n",
    "        FROM votes\n",
    "        JOIN bills ON votes.csr_id = bills.csr_id\n",
    "        JOIN senators ON votes.sen_id = senators.sen_id\n",
    "        ;\n",
    "        \"\"\"\n",
    "    )\n",
    "    votes = cursor.fetchall()\n",
    "    cursor.close()\n",
    "    conn.close()\n",
    "    return votes"
   ]
  },
  {
   "cell_type": "code",
   "execution_count": 4,
   "metadata": {},
   "outputs": [],
   "source": [
    "votes = congress_votes()"
   ]
  },
  {
   "cell_type": "code",
   "execution_count": 5,
   "metadata": {},
   "outputs": [
    {
     "data": {
      "text/plain": [
       "232263"
      ]
     },
     "execution_count": 5,
     "metadata": {},
     "output_type": "execute_result"
    }
   ],
   "source": [
    "len(votes)"
   ]
  },
  {
   "cell_type": "markdown",
   "metadata": {},
   "source": [
    "## Format Data for csv\n",
    "Votes entered into DataFrame for easy conversion to csv file"
   ]
  },
  {
   "cell_type": "code",
   "execution_count": null,
   "metadata": {
    "ExecuteTime": {
     "end_time": "2020-07-31T16:47:34.177151Z",
     "start_time": "2020-07-31T16:47:01.457006Z"
    }
   },
   "outputs": [],
   "source": [
    "sen_index = []\n",
    "vote_cols = []\n",
    "for vote in votes:\n",
    "    if vote[1] not in vote_cols:\n",
    "        vote_cols.append(vote[1])\n",
    "    if vote[0] not in sen_index:\n",
    "        sen_index.append(vote[0])"
   ]
  },
  {
   "cell_type": "code",
   "execution_count": null,
   "metadata": {
    "ExecuteTime": {
     "end_time": "2020-07-31T16:47:34.848723Z",
     "start_time": "2020-07-31T16:47:34.188661Z"
    }
   },
   "outputs": [],
   "source": [
    "df = pd.DataFrame(\n",
    "    index=sen_index,\n",
    "    columns=vote_cols,\n",
    "    dtype=int,\n",
    ")"
   ]
  },
  {
   "cell_type": "code",
   "execution_count": null,
   "metadata": {
    "ExecuteTime": {
     "end_time": "2020-07-31T16:47:47.660809Z",
     "start_time": "2020-07-31T16:47:47.655045Z"
    }
   },
   "outputs": [],
   "source": [
    "# Function to assign numerical values to votes\n",
    "def vote2score(position):\n",
    "    dicty = {'Yes': 1, 'Not Voting': 0, 'Present': 0, 'No': -1}\n",
    "    return dicty[position]"
   ]
  },
  {
   "cell_type": "code",
   "execution_count": null,
   "metadata": {
    "ExecuteTime": {
     "end_time": "2020-07-31T16:48:45.809833Z",
     "start_time": "2020-07-31T16:48:41.828173Z"
    }
   },
   "outputs": [],
   "source": [
    "for vote in votes:\n",
    "    df.at[vote[0], vote[1]] = vote2score(vote[2])"
   ]
  },
  {
   "cell_type": "code",
   "execution_count": null,
   "metadata": {
    "ExecuteTime": {
     "end_time": "2020-07-31T16:57:58.674653Z",
     "start_time": "2020-07-31T16:57:58.646027Z"
    }
   },
   "outputs": [],
   "source": [
    "df.head()"
   ]
  },
  {
   "cell_type": "code",
   "execution_count": null,
   "metadata": {
    "ExecuteTime": {
     "end_time": "2020-07-31T16:58:11.425734Z",
     "start_time": "2020-07-31T16:58:10.508801Z"
    }
   },
   "outputs": [],
   "source": [
    "df.to_csv('votes.csv')"
   ]
  }
 ],
 "metadata": {
  "kernelspec": {
   "display_name": "senate_env",
   "language": "python",
   "name": "senate_env"
  },
  "language_info": {
   "codemirror_mode": {
    "name": "ipython",
    "version": 3
   },
   "file_extension": ".py",
   "mimetype": "text/x-python",
   "name": "python",
   "nbconvert_exporter": "python",
   "pygments_lexer": "ipython3",
   "version": "3.8.3"
  },
  "toc": {
   "base_numbering": 1,
   "nav_menu": {},
   "number_sections": true,
   "sideBar": true,
   "skip_h1_title": false,
   "title_cell": "Table of Contents",
   "title_sidebar": "Contents",
   "toc_cell": false,
   "toc_position": {},
   "toc_section_display": true,
   "toc_window_display": false
  }
 },
 "nbformat": 4,
 "nbformat_minor": 4
}
