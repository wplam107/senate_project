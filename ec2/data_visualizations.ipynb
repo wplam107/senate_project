{
 "cells": [
  {
   "cell_type": "markdown",
   "metadata": {},
   "source": [
    "# EDA for Dashboard"
   ]
  },
  {
   "cell_type": "code",
   "execution_count": 114,
   "metadata": {},
   "outputs": [],
   "source": [
    "import numpy as np\n",
    "import pandas as pd\n",
    "import pickle\n",
    "import re\n",
    "\n",
    "import psycopg2\n",
    "import configparser\n",
    "from psycopg2.extensions import ISOLATION_LEVEL_AUTOCOMMIT\n",
    "\n",
    "from sklearn.decomposition import PCA\n",
    "from sklearn.cluster import KMeans\n",
    "\n",
    "import plotly.graph_objects as go\n",
    "import plotly.express as px"
   ]
  },
  {
   "cell_type": "code",
   "execution_count": 116,
   "metadata": {},
   "outputs": [],
   "source": [
    "# Set up connection to AWS RDS\n",
    "config1 = configparser.ConfigParser()\n",
    "config1.read('./config.ini')\n",
    "ENDPOINT = config1.get('aws', 'ENDPOINT')\n",
    "PORT = config1.get('aws', 'PORT')\n",
    "USR = config1.get('aws', 'USER')\n",
    "PWD = config1.get('aws', 'PASSWORD')\n",
    "DB = config1.get('aws', 'DATABASE')"
   ]
  },
  {
   "cell_type": "code",
   "execution_count": 117,
   "metadata": {},
   "outputs": [],
   "source": [
    "# Read csv file to DataFrame\n",
    "df = pd.read_csv('votes.csv', index_col=0)\n",
    "\n",
    "# Convert 'not voting' and 'present' votes to NaN values\n",
    "df = pd.DataFrame(np.where(df == 0, np.nan, df), index=df.index, columns=df.columns)"
   ]
  },
  {
   "cell_type": "markdown",
   "metadata": {},
   "source": [
    "## Processing Data for Analysis\n",
    "Metrics for voting similarity (how often 2 senators are in agreement) and principal component analysis visualizations will be created.  In this section, the EC2 instance will process the information and then pass the data in the form of csv files to be read by the Heroku app."
   ]
  },
  {
   "cell_type": "markdown",
   "metadata": {},
   "source": [
    "### Senator similarity by agreement/(disagree+agree) over the past 20 years"
   ]
  },
  {
   "cell_type": "code",
   "execution_count": 118,
   "metadata": {},
   "outputs": [],
   "source": [
    "# Function to return agreement/total votes\n",
    "def vote_sim(v1, v2):\n",
    "    return sum(abs(abs(v1 - v2)/2 - 1)) / len(v1)"
   ]
  },
  {
   "cell_type": "code",
   "execution_count": 119,
   "metadata": {},
   "outputs": [],
   "source": [
    "# Create matrix for voting similarity between senators\n",
    "def similarity_matrix(df):\n",
    "    senators = list(df.index)\n",
    "    l = len(senators)\n",
    "\n",
    "    sim_mat = np.zeros((l,l))\n",
    "    for i in range(l):\n",
    "        for j in range(l):\n",
    "            if i != j:\n",
    "                temp = df.loc[[senators[i], senators[j]]].dropna(axis=1)\n",
    "                v1 = temp.loc[senators[i]]\n",
    "                v2 = temp.loc[senators[j]]\n",
    "                sim = vote_sim(v1, v2)\n",
    "                sim_mat[i][j] = round(sim, 2)\n",
    "            else:\n",
    "                sim_mat[i][j] = np.nan\n",
    "    return sim_mat"
   ]
  },
  {
   "cell_type": "code",
   "execution_count": 120,
   "metadata": {},
   "outputs": [],
   "source": [
    "sim_mat = similarity_matrix(df)\n",
    "sim_df = pd.DataFrame(sim_mat, index=df.index, columns=df.index)"
   ]
  },
  {
   "cell_type": "code",
   "execution_count": 121,
   "metadata": {},
   "outputs": [
    {
     "data": {
      "text/html": [
       "<div>\n",
       "<style scoped>\n",
       "    .dataframe tbody tr th:only-of-type {\n",
       "        vertical-align: middle;\n",
       "    }\n",
       "\n",
       "    .dataframe tbody tr th {\n",
       "        vertical-align: top;\n",
       "    }\n",
       "\n",
       "    .dataframe thead th {\n",
       "        text-align: right;\n",
       "    }\n",
       "</style>\n",
       "<table border=\"1\" class=\"dataframe\">\n",
       "  <thead>\n",
       "    <tr style=\"text-align: right;\">\n",
       "      <th></th>\n",
       "      <th>Charles Grassley</th>\n",
       "      <th>Patrick Leahy</th>\n",
       "      <th>Mitch McConnell</th>\n",
       "      <th>Richard Shelby</th>\n",
       "      <th>Dianne Feinstein</th>\n",
       "      <th>Patty Murray</th>\n",
       "      <th>James Inhofe</th>\n",
       "      <th>Ron Wyden</th>\n",
       "      <th>Susan Collins</th>\n",
       "      <th>Richard Durbin</th>\n",
       "      <th>...</th>\n",
       "      <th>Marsha Blackburn</th>\n",
       "      <th>Mike Braun</th>\n",
       "      <th>Kevin Cramer</th>\n",
       "      <th>Joshua Hawley</th>\n",
       "      <th>Martha McSally</th>\n",
       "      <th>Mitt Romney</th>\n",
       "      <th>Jacky Rosen</th>\n",
       "      <th>Rick Scott</th>\n",
       "      <th>Kyrsten Sinema</th>\n",
       "      <th>Kelly Loeffler</th>\n",
       "    </tr>\n",
       "  </thead>\n",
       "  <tbody>\n",
       "    <tr>\n",
       "      <th>Charles Grassley</th>\n",
       "      <td>NaN</td>\n",
       "      <td>0.38</td>\n",
       "      <td>0.88</td>\n",
       "      <td>0.81</td>\n",
       "      <td>0.41</td>\n",
       "      <td>0.39</td>\n",
       "      <td>0.87</td>\n",
       "      <td>0.39</td>\n",
       "      <td>0.73</td>\n",
       "      <td>0.37</td>\n",
       "      <td>...</td>\n",
       "      <td>0.82</td>\n",
       "      <td>0.81</td>\n",
       "      <td>0.95</td>\n",
       "      <td>0.85</td>\n",
       "      <td>0.91</td>\n",
       "      <td>0.82</td>\n",
       "      <td>0.53</td>\n",
       "      <td>0.85</td>\n",
       "      <td>0.58</td>\n",
       "      <td>0.94</td>\n",
       "    </tr>\n",
       "    <tr>\n",
       "      <th>Patrick Leahy</th>\n",
       "      <td>0.38</td>\n",
       "      <td>NaN</td>\n",
       "      <td>0.37</td>\n",
       "      <td>0.42</td>\n",
       "      <td>0.88</td>\n",
       "      <td>0.92</td>\n",
       "      <td>0.30</td>\n",
       "      <td>0.90</td>\n",
       "      <td>0.58</td>\n",
       "      <td>0.92</td>\n",
       "      <td>...</td>\n",
       "      <td>0.32</td>\n",
       "      <td>0.31</td>\n",
       "      <td>0.51</td>\n",
       "      <td>0.42</td>\n",
       "      <td>0.51</td>\n",
       "      <td>0.40</td>\n",
       "      <td>0.93</td>\n",
       "      <td>0.39</td>\n",
       "      <td>0.88</td>\n",
       "      <td>0.38</td>\n",
       "    </tr>\n",
       "    <tr>\n",
       "      <th>Mitch McConnell</th>\n",
       "      <td>0.88</td>\n",
       "      <td>0.37</td>\n",
       "      <td>NaN</td>\n",
       "      <td>0.85</td>\n",
       "      <td>0.40</td>\n",
       "      <td>0.37</td>\n",
       "      <td>0.89</td>\n",
       "      <td>0.37</td>\n",
       "      <td>0.72</td>\n",
       "      <td>0.35</td>\n",
       "      <td>...</td>\n",
       "      <td>0.75</td>\n",
       "      <td>0.73</td>\n",
       "      <td>0.94</td>\n",
       "      <td>0.80</td>\n",
       "      <td>0.90</td>\n",
       "      <td>0.76</td>\n",
       "      <td>0.61</td>\n",
       "      <td>0.83</td>\n",
       "      <td>0.63</td>\n",
       "      <td>0.88</td>\n",
       "    </tr>\n",
       "    <tr>\n",
       "      <th>Richard Shelby</th>\n",
       "      <td>0.81</td>\n",
       "      <td>0.42</td>\n",
       "      <td>0.85</td>\n",
       "      <td>NaN</td>\n",
       "      <td>0.43</td>\n",
       "      <td>0.40</td>\n",
       "      <td>0.88</td>\n",
       "      <td>0.38</td>\n",
       "      <td>0.72</td>\n",
       "      <td>0.36</td>\n",
       "      <td>...</td>\n",
       "      <td>0.80</td>\n",
       "      <td>0.75</td>\n",
       "      <td>0.92</td>\n",
       "      <td>0.83</td>\n",
       "      <td>0.87</td>\n",
       "      <td>0.83</td>\n",
       "      <td>0.52</td>\n",
       "      <td>0.85</td>\n",
       "      <td>0.57</td>\n",
       "      <td>0.86</td>\n",
       "    </tr>\n",
       "    <tr>\n",
       "      <th>Dianne Feinstein</th>\n",
       "      <td>0.41</td>\n",
       "      <td>0.88</td>\n",
       "      <td>0.40</td>\n",
       "      <td>0.43</td>\n",
       "      <td>NaN</td>\n",
       "      <td>0.90</td>\n",
       "      <td>0.34</td>\n",
       "      <td>0.90</td>\n",
       "      <td>0.60</td>\n",
       "      <td>0.91</td>\n",
       "      <td>...</td>\n",
       "      <td>0.37</td>\n",
       "      <td>0.32</td>\n",
       "      <td>0.54</td>\n",
       "      <td>0.45</td>\n",
       "      <td>0.54</td>\n",
       "      <td>0.44</td>\n",
       "      <td>0.96</td>\n",
       "      <td>0.43</td>\n",
       "      <td>0.91</td>\n",
       "      <td>0.40</td>\n",
       "    </tr>\n",
       "  </tbody>\n",
       "</table>\n",
       "<p>5 rows × 100 columns</p>\n",
       "</div>"
      ],
      "text/plain": [
       "                  Charles Grassley  Patrick Leahy  Mitch McConnell  \\\n",
       "Charles Grassley               NaN           0.38             0.88   \n",
       "Patrick Leahy                 0.38            NaN             0.37   \n",
       "Mitch McConnell               0.88           0.37              NaN   \n",
       "Richard Shelby                0.81           0.42             0.85   \n",
       "Dianne Feinstein              0.41           0.88             0.40   \n",
       "\n",
       "                  Richard Shelby  Dianne Feinstein  Patty Murray  \\\n",
       "Charles Grassley            0.81              0.41          0.39   \n",
       "Patrick Leahy               0.42              0.88          0.92   \n",
       "Mitch McConnell             0.85              0.40          0.37   \n",
       "Richard Shelby               NaN              0.43          0.40   \n",
       "Dianne Feinstein            0.43               NaN          0.90   \n",
       "\n",
       "                  James Inhofe  Ron Wyden  Susan Collins  Richard Durbin  ...  \\\n",
       "Charles Grassley          0.87       0.39           0.73            0.37  ...   \n",
       "Patrick Leahy             0.30       0.90           0.58            0.92  ...   \n",
       "Mitch McConnell           0.89       0.37           0.72            0.35  ...   \n",
       "Richard Shelby            0.88       0.38           0.72            0.36  ...   \n",
       "Dianne Feinstein          0.34       0.90           0.60            0.91  ...   \n",
       "\n",
       "                  Marsha Blackburn  Mike Braun  Kevin Cramer  Joshua Hawley  \\\n",
       "Charles Grassley              0.82        0.81          0.95           0.85   \n",
       "Patrick Leahy                 0.32        0.31          0.51           0.42   \n",
       "Mitch McConnell               0.75        0.73          0.94           0.80   \n",
       "Richard Shelby                0.80        0.75          0.92           0.83   \n",
       "Dianne Feinstein              0.37        0.32          0.54           0.45   \n",
       "\n",
       "                  Martha McSally  Mitt Romney  Jacky Rosen  Rick Scott  \\\n",
       "Charles Grassley            0.91         0.82         0.53        0.85   \n",
       "Patrick Leahy               0.51         0.40         0.93        0.39   \n",
       "Mitch McConnell             0.90         0.76         0.61        0.83   \n",
       "Richard Shelby              0.87         0.83         0.52        0.85   \n",
       "Dianne Feinstein            0.54         0.44         0.96        0.43   \n",
       "\n",
       "                  Kyrsten Sinema  Kelly Loeffler  \n",
       "Charles Grassley            0.58            0.94  \n",
       "Patrick Leahy               0.88            0.38  \n",
       "Mitch McConnell             0.63            0.88  \n",
       "Richard Shelby              0.57            0.86  \n",
       "Dianne Feinstein            0.91            0.40  \n",
       "\n",
       "[5 rows x 100 columns]"
      ]
     },
     "execution_count": 121,
     "metadata": {},
     "output_type": "execute_result"
    }
   ],
   "source": [
    "sim_df.head()"
   ]
  },
  {
   "cell_type": "code",
   "execution_count": null,
   "metadata": {},
   "outputs": [],
   "source": [
    "# Write voting similarity matrix as csv\n",
    "sim_df.to_csv('voting_sim.csv')"
   ]
  },
  {
   "cell_type": "code",
   "execution_count": 122,
   "metadata": {},
   "outputs": [],
   "source": [
    "# Retrieve most recent congress number\n",
    "def get_congress_number():\n",
    "    conn = psycopg2.connect(\n",
    "        host=ENDPOINT,\n",
    "        user=USR,\n",
    "        password=PWD,\n",
    "        port=PORT,\n",
    "        database=DB\n",
    "    )\n",
    "\n",
    "    conn.set_isolation_level(ISOLATION_LEVEL_AUTOCOMMIT)\n",
    "    cursor = conn.cursor()\n",
    "    cursor.execute(\n",
    "        \"\"\"\n",
    "        SELECT MAX(congress) FROM bills\n",
    "        ;\n",
    "        \"\"\"\n",
    "    )\n",
    "    \n",
    "    current_congress = cursor.fetchone()[0]\n",
    "    cursor.close()\n",
    "    conn.close()\n",
    "    return current_congress"
   ]
  },
  {
   "cell_type": "code",
   "execution_count": 123,
   "metadata": {},
   "outputs": [],
   "source": [
    "# Get list of bills from congress (by current of congress number)\n",
    "def get_bills_list(cong_number, current=True):\n",
    "    if current == True:\n",
    "        congress = get_congress_number()\n",
    "    else:\n",
    "        congress = cong_number\n",
    "        \n",
    "    bills = []\n",
    "    for col in list(df.columns):\n",
    "        if re.search(f'^{congress}', col):\n",
    "            bills.append(col)\n",
    "    return bills"
   ]
  },
  {
   "cell_type": "code",
   "execution_count": 133,
   "metadata": {},
   "outputs": [],
   "source": [
    "bills = get_bills_list(_)\n",
    "df_116 = df[bills].copy(deep=True)"
   ]
  },
  {
   "cell_type": "markdown",
   "metadata": {},
   "source": [
    "### Dealing with NaN values for EDA and Data Viz\n",
    "In the current congress (116th) there have been (as of August 6th, 2020) 179 bills voted on.  It is possible to deal with NaN values by dropped a couple of bills because of non-participating members or having 0's appended to the NaN values.  However, 1 senator had only started in the 2nd session of the current congress (with 72 total votes thus far) and must be dropped in order to perform meaningful principal component analysis (PCA) and similarity comparisons for this particular congress."
   ]
  },
  {
   "cell_type": "code",
   "execution_count": 134,
   "metadata": {},
   "outputs": [
    {
     "data": {
      "text/html": [
       "<div>\n",
       "<style scoped>\n",
       "    .dataframe tbody tr th:only-of-type {\n",
       "        vertical-align: middle;\n",
       "    }\n",
       "\n",
       "    .dataframe tbody tr th {\n",
       "        vertical-align: top;\n",
       "    }\n",
       "\n",
       "    .dataframe thead th {\n",
       "        text-align: right;\n",
       "    }\n",
       "</style>\n",
       "<table border=\"1\" class=\"dataframe\">\n",
       "  <thead>\n",
       "    <tr style=\"text-align: right;\">\n",
       "      <th></th>\n",
       "      <th>Charles Grassley</th>\n",
       "      <th>Patrick Leahy</th>\n",
       "      <th>Mitch McConnell</th>\n",
       "      <th>Richard Shelby</th>\n",
       "      <th>Dianne Feinstein</th>\n",
       "      <th>Patty Murray</th>\n",
       "      <th>James Inhofe</th>\n",
       "      <th>Ron Wyden</th>\n",
       "      <th>Susan Collins</th>\n",
       "      <th>Richard Durbin</th>\n",
       "      <th>...</th>\n",
       "      <th>Marsha Blackburn</th>\n",
       "      <th>Mike Braun</th>\n",
       "      <th>Kevin Cramer</th>\n",
       "      <th>Joshua Hawley</th>\n",
       "      <th>Martha McSally</th>\n",
       "      <th>Mitt Romney</th>\n",
       "      <th>Jacky Rosen</th>\n",
       "      <th>Rick Scott</th>\n",
       "      <th>Kyrsten Sinema</th>\n",
       "      <th>Kelly Loeffler</th>\n",
       "    </tr>\n",
       "  </thead>\n",
       "  <tbody>\n",
       "    <tr>\n",
       "      <th>count</th>\n",
       "      <td>179.000000</td>\n",
       "      <td>178.000000</td>\n",
       "      <td>179.000000</td>\n",
       "      <td>176.000000</td>\n",
       "      <td>178.000000</td>\n",
       "      <td>173.000000</td>\n",
       "      <td>172.000000</td>\n",
       "      <td>177.000000</td>\n",
       "      <td>179.000000</td>\n",
       "      <td>173.000000</td>\n",
       "      <td>...</td>\n",
       "      <td>175.000000</td>\n",
       "      <td>177.000000</td>\n",
       "      <td>175.000000</td>\n",
       "      <td>178.000000</td>\n",
       "      <td>173.000000</td>\n",
       "      <td>175.000000</td>\n",
       "      <td>175.000000</td>\n",
       "      <td>172.000000</td>\n",
       "      <td>177.000000</td>\n",
       "      <td>72.000000</td>\n",
       "    </tr>\n",
       "    <tr>\n",
       "      <th>mean</th>\n",
       "      <td>0.441341</td>\n",
       "      <td>0.325843</td>\n",
       "      <td>0.284916</td>\n",
       "      <td>0.363636</td>\n",
       "      <td>0.359551</td>\n",
       "      <td>0.398844</td>\n",
       "      <td>0.197674</td>\n",
       "      <td>0.186441</td>\n",
       "      <td>0.631285</td>\n",
       "      <td>0.329480</td>\n",
       "      <td>...</td>\n",
       "      <td>0.200000</td>\n",
       "      <td>0.152542</td>\n",
       "      <td>0.405714</td>\n",
       "      <td>0.258427</td>\n",
       "      <td>0.410405</td>\n",
       "      <td>0.234286</td>\n",
       "      <td>0.440000</td>\n",
       "      <td>0.232558</td>\n",
       "      <td>0.457627</td>\n",
       "      <td>0.500000</td>\n",
       "    </tr>\n",
       "    <tr>\n",
       "      <th>std</th>\n",
       "      <td>0.899857</td>\n",
       "      <td>0.948091</td>\n",
       "      <td>0.961241</td>\n",
       "      <td>0.934199</td>\n",
       "      <td>0.935758</td>\n",
       "      <td>0.919681</td>\n",
       "      <td>0.983130</td>\n",
       "      <td>0.985253</td>\n",
       "      <td>0.777726</td>\n",
       "      <td>0.946903</td>\n",
       "      <td>...</td>\n",
       "      <td>0.982607</td>\n",
       "      <td>0.991101</td>\n",
       "      <td>0.916623</td>\n",
       "      <td>0.968756</td>\n",
       "      <td>0.914551</td>\n",
       "      <td>0.974957</td>\n",
       "      <td>0.900575</td>\n",
       "      <td>0.975422</td>\n",
       "      <td>0.891667</td>\n",
       "      <td>0.872103</td>\n",
       "    </tr>\n",
       "    <tr>\n",
       "      <th>min</th>\n",
       "      <td>-1.000000</td>\n",
       "      <td>-1.000000</td>\n",
       "      <td>-1.000000</td>\n",
       "      <td>-1.000000</td>\n",
       "      <td>-1.000000</td>\n",
       "      <td>-1.000000</td>\n",
       "      <td>-1.000000</td>\n",
       "      <td>-1.000000</td>\n",
       "      <td>-1.000000</td>\n",
       "      <td>-1.000000</td>\n",
       "      <td>...</td>\n",
       "      <td>-1.000000</td>\n",
       "      <td>-1.000000</td>\n",
       "      <td>-1.000000</td>\n",
       "      <td>-1.000000</td>\n",
       "      <td>-1.000000</td>\n",
       "      <td>-1.000000</td>\n",
       "      <td>-1.000000</td>\n",
       "      <td>-1.000000</td>\n",
       "      <td>-1.000000</td>\n",
       "      <td>-1.000000</td>\n",
       "    </tr>\n",
       "    <tr>\n",
       "      <th>25%</th>\n",
       "      <td>-1.000000</td>\n",
       "      <td>-1.000000</td>\n",
       "      <td>-1.000000</td>\n",
       "      <td>-1.000000</td>\n",
       "      <td>-1.000000</td>\n",
       "      <td>-1.000000</td>\n",
       "      <td>-1.000000</td>\n",
       "      <td>-1.000000</td>\n",
       "      <td>1.000000</td>\n",
       "      <td>-1.000000</td>\n",
       "      <td>...</td>\n",
       "      <td>-1.000000</td>\n",
       "      <td>-1.000000</td>\n",
       "      <td>-1.000000</td>\n",
       "      <td>-1.000000</td>\n",
       "      <td>-1.000000</td>\n",
       "      <td>-1.000000</td>\n",
       "      <td>-1.000000</td>\n",
       "      <td>-1.000000</td>\n",
       "      <td>-1.000000</td>\n",
       "      <td>0.500000</td>\n",
       "    </tr>\n",
       "    <tr>\n",
       "      <th>50%</th>\n",
       "      <td>1.000000</td>\n",
       "      <td>1.000000</td>\n",
       "      <td>1.000000</td>\n",
       "      <td>1.000000</td>\n",
       "      <td>1.000000</td>\n",
       "      <td>1.000000</td>\n",
       "      <td>1.000000</td>\n",
       "      <td>1.000000</td>\n",
       "      <td>1.000000</td>\n",
       "      <td>1.000000</td>\n",
       "      <td>...</td>\n",
       "      <td>1.000000</td>\n",
       "      <td>1.000000</td>\n",
       "      <td>1.000000</td>\n",
       "      <td>1.000000</td>\n",
       "      <td>1.000000</td>\n",
       "      <td>1.000000</td>\n",
       "      <td>1.000000</td>\n",
       "      <td>1.000000</td>\n",
       "      <td>1.000000</td>\n",
       "      <td>1.000000</td>\n",
       "    </tr>\n",
       "    <tr>\n",
       "      <th>75%</th>\n",
       "      <td>1.000000</td>\n",
       "      <td>1.000000</td>\n",
       "      <td>1.000000</td>\n",
       "      <td>1.000000</td>\n",
       "      <td>1.000000</td>\n",
       "      <td>1.000000</td>\n",
       "      <td>1.000000</td>\n",
       "      <td>1.000000</td>\n",
       "      <td>1.000000</td>\n",
       "      <td>1.000000</td>\n",
       "      <td>...</td>\n",
       "      <td>1.000000</td>\n",
       "      <td>1.000000</td>\n",
       "      <td>1.000000</td>\n",
       "      <td>1.000000</td>\n",
       "      <td>1.000000</td>\n",
       "      <td>1.000000</td>\n",
       "      <td>1.000000</td>\n",
       "      <td>1.000000</td>\n",
       "      <td>1.000000</td>\n",
       "      <td>1.000000</td>\n",
       "    </tr>\n",
       "    <tr>\n",
       "      <th>max</th>\n",
       "      <td>1.000000</td>\n",
       "      <td>1.000000</td>\n",
       "      <td>1.000000</td>\n",
       "      <td>1.000000</td>\n",
       "      <td>1.000000</td>\n",
       "      <td>1.000000</td>\n",
       "      <td>1.000000</td>\n",
       "      <td>1.000000</td>\n",
       "      <td>1.000000</td>\n",
       "      <td>1.000000</td>\n",
       "      <td>...</td>\n",
       "      <td>1.000000</td>\n",
       "      <td>1.000000</td>\n",
       "      <td>1.000000</td>\n",
       "      <td>1.000000</td>\n",
       "      <td>1.000000</td>\n",
       "      <td>1.000000</td>\n",
       "      <td>1.000000</td>\n",
       "      <td>1.000000</td>\n",
       "      <td>1.000000</td>\n",
       "      <td>1.000000</td>\n",
       "    </tr>\n",
       "  </tbody>\n",
       "</table>\n",
       "<p>8 rows × 100 columns</p>\n",
       "</div>"
      ],
      "text/plain": [
       "       Charles Grassley  Patrick Leahy  Mitch McConnell  Richard Shelby  \\\n",
       "count        179.000000     178.000000       179.000000      176.000000   \n",
       "mean           0.441341       0.325843         0.284916        0.363636   \n",
       "std            0.899857       0.948091         0.961241        0.934199   \n",
       "min           -1.000000      -1.000000        -1.000000       -1.000000   \n",
       "25%           -1.000000      -1.000000        -1.000000       -1.000000   \n",
       "50%            1.000000       1.000000         1.000000        1.000000   \n",
       "75%            1.000000       1.000000         1.000000        1.000000   \n",
       "max            1.000000       1.000000         1.000000        1.000000   \n",
       "\n",
       "       Dianne Feinstein  Patty Murray  James Inhofe   Ron Wyden  \\\n",
       "count        178.000000    173.000000    172.000000  177.000000   \n",
       "mean           0.359551      0.398844      0.197674    0.186441   \n",
       "std            0.935758      0.919681      0.983130    0.985253   \n",
       "min           -1.000000     -1.000000     -1.000000   -1.000000   \n",
       "25%           -1.000000     -1.000000     -1.000000   -1.000000   \n",
       "50%            1.000000      1.000000      1.000000    1.000000   \n",
       "75%            1.000000      1.000000      1.000000    1.000000   \n",
       "max            1.000000      1.000000      1.000000    1.000000   \n",
       "\n",
       "       Susan Collins  Richard Durbin  ...  Marsha Blackburn  Mike Braun  \\\n",
       "count     179.000000      173.000000  ...        175.000000  177.000000   \n",
       "mean        0.631285        0.329480  ...          0.200000    0.152542   \n",
       "std         0.777726        0.946903  ...          0.982607    0.991101   \n",
       "min        -1.000000       -1.000000  ...         -1.000000   -1.000000   \n",
       "25%         1.000000       -1.000000  ...         -1.000000   -1.000000   \n",
       "50%         1.000000        1.000000  ...          1.000000    1.000000   \n",
       "75%         1.000000        1.000000  ...          1.000000    1.000000   \n",
       "max         1.000000        1.000000  ...          1.000000    1.000000   \n",
       "\n",
       "       Kevin Cramer  Joshua Hawley  Martha McSally  Mitt Romney  Jacky Rosen  \\\n",
       "count    175.000000     178.000000      173.000000   175.000000   175.000000   \n",
       "mean       0.405714       0.258427        0.410405     0.234286     0.440000   \n",
       "std        0.916623       0.968756        0.914551     0.974957     0.900575   \n",
       "min       -1.000000      -1.000000       -1.000000    -1.000000    -1.000000   \n",
       "25%       -1.000000      -1.000000       -1.000000    -1.000000    -1.000000   \n",
       "50%        1.000000       1.000000        1.000000     1.000000     1.000000   \n",
       "75%        1.000000       1.000000        1.000000     1.000000     1.000000   \n",
       "max        1.000000       1.000000        1.000000     1.000000     1.000000   \n",
       "\n",
       "       Rick Scott  Kyrsten Sinema  Kelly Loeffler  \n",
       "count  172.000000      177.000000       72.000000  \n",
       "mean     0.232558        0.457627        0.500000  \n",
       "std      0.975422        0.891667        0.872103  \n",
       "min     -1.000000       -1.000000       -1.000000  \n",
       "25%     -1.000000       -1.000000        0.500000  \n",
       "50%      1.000000        1.000000        1.000000  \n",
       "75%      1.000000        1.000000        1.000000  \n",
       "max      1.000000        1.000000        1.000000  \n",
       "\n",
       "[8 rows x 100 columns]"
      ]
     },
     "execution_count": 134,
     "metadata": {},
     "output_type": "execute_result"
    }
   ],
   "source": [
    "df_116.T.describe() # Drop Kelly Loeffler, only started in 2nd session of 116th Congress"
   ]
  },
  {
   "cell_type": "code",
   "execution_count": 135,
   "metadata": {},
   "outputs": [],
   "source": [
    "df_116.drop(index='Kelly Loeffler', inplace=True)"
   ]
  },
  {
   "cell_type": "code",
   "execution_count": 136,
   "metadata": {},
   "outputs": [],
   "source": [
    "sim_116 = pd.DataFrame(similarity_matrix(df_116), index=df_116.index, columns=df_116.index)"
   ]
  },
  {
   "cell_type": "code",
   "execution_count": 137,
   "metadata": {},
   "outputs": [],
   "source": [
    "# Convert NaN values to 0\n",
    "df_116 = pd.DataFrame(np.where(df_116.isna() == True, 0, df_116), index=df_116.index, columns=df_116.columns)"
   ]
  },
  {
   "cell_type": "markdown",
   "metadata": {},
   "source": [
    "### Getting Senator Info"
   ]
  },
  {
   "cell_type": "code",
   "execution_count": 138,
   "metadata": {},
   "outputs": [],
   "source": [
    "# Function to get senator information\n",
    "def senator_info():\n",
    "    conn = psycopg2.connect(\n",
    "        host=ENDPOINT,\n",
    "        user=USR,\n",
    "        password=PWD,\n",
    "        port=PORT,\n",
    "        database=DB\n",
    "    )\n",
    "\n",
    "    conn.set_isolation_level(ISOLATION_LEVEL_AUTOCOMMIT)\n",
    "    cursor = conn.cursor()\n",
    "    cursor.execute(\n",
    "        \"\"\"\n",
    "        SELECT * FROM senators\n",
    "        ;\n",
    "        \"\"\"\n",
    "    )\n",
    "    \n",
    "    senator_info = cursor.fetchall()\n",
    "    cursor.close()\n",
    "    conn.close()\n",
    "    return senator_info"
   ]
  },
  {
   "cell_type": "code",
   "execution_count": 139,
   "metadata": {},
   "outputs": [],
   "source": [
    "sen_info = senator_info() # sen_id, f_name, l_name, party, gender, state"
   ]
  },
  {
   "cell_type": "markdown",
   "metadata": {},
   "source": [
    "## Clustering and PCA for visualization"
   ]
  },
  {
   "cell_type": "code",
   "execution_count": 156,
   "metadata": {},
   "outputs": [],
   "source": [
    "# Number of bills voted on per senator\n",
    "sen_length = []\n",
    "for sen in list(df_116.index):\n",
    "    l = len(df.loc[sen].dropna())\n",
    "    sen_length.append(l)\n",
    "    \n",
    "sen_length = pd.Series(sen_length)\n",
    "sen_length.name = 'voting_length'\n",
    "df_sl = pd.DataFrame(list(df_116.index), columns=['name']).join(sen_length)\n",
    "df_sl.set_index('name', inplace=True)"
   ]
  },
  {
   "cell_type": "code",
   "execution_count": 158,
   "metadata": {},
   "outputs": [],
   "source": [
    "# 2 component dimensionality\n",
    "pca = PCA(2)\n",
    "X = pca.fit_transform(df_116)"
   ]
  },
  {
   "cell_type": "code",
   "execution_count": 159,
   "metadata": {
    "scrolled": true
   },
   "outputs": [],
   "source": [
    "# Clustering algorithm\n",
    "cl_algo = KMeans(5)\n",
    "labels = cl_algo.fit_predict(df_116)\n",
    "sen_name = pd.Series(df_116.index)"
   ]
  },
  {
   "cell_type": "code",
   "execution_count": 160,
   "metadata": {},
   "outputs": [],
   "source": [
    "# DataFrame for x, y data\n",
    "sen_name.name = 'name'\n",
    "df_xy = pd.DataFrame(X, columns=['x', 'y']).join(sen_name)\n",
    "df_xy.set_index('name', inplace=True)"
   ]
  },
  {
   "cell_type": "code",
   "execution_count": 162,
   "metadata": {},
   "outputs": [],
   "source": [
    "# DataFrame for labels\n",
    "df_lbs = pd.DataFrame([sen_name, labels]).T\n",
    "df_lbs.columns = ['name', 'label']\n",
    "df_lbs.set_index('name', inplace=True)"
   ]
  },
  {
   "cell_type": "code",
   "execution_count": 164,
   "metadata": {},
   "outputs": [],
   "source": [
    "# DataFrame for senator info\n",
    "df_plot = pd.DataFrame(sen_info)\n",
    "df_plot['name'] = df_plot[1] + ' ' + df_plot[2]\n",
    "df_plot.drop(columns=[0, 1, 2], inplace=True)\n",
    "df_plot.columns = ['party', 'gender', 'state', 'name']\n",
    "df_plot.set_index('name', inplace=True)\n",
    "\n",
    "# Drop Kelly Loeffler, change Richard Shelby to Republican\n",
    "df_plot.drop('Kelly Loeffler', inplace=True)\n",
    "df_plot.loc['Richard Shelby']['party'] = 'R'"
   ]
  },
  {
   "cell_type": "code",
   "execution_count": 166,
   "metadata": {},
   "outputs": [],
   "source": [
    "# Merge x, y data\n",
    "df_plot = df_plot.join(df_xy, on='name').join(df_lbs, on='name').join(df_sl, on='name')\n",
    "df_plot.reset_index(inplace=True)"
   ]
  },
  {
   "cell_type": "code",
   "execution_count": 168,
   "metadata": {},
   "outputs": [],
   "source": [
    "# Create cluster names\n",
    "df_plot['cluster'] = np.nan\n",
    "for i in list(df_plot['label'].unique()):\n",
    "    temp = df_plot.loc[df_plot['label'] == i]\n",
    "    cluster = temp.loc[temp['voting_length'] == max(temp['voting_length'])]['name']\n",
    "    df_plot['cluster'] = np.where(df_plot['label'] == i, cluster + ' Cluster', df_plot['cluster'])"
   ]
  },
  {
   "cell_type": "markdown",
   "metadata": {},
   "source": [
    "## Selection functions for Data Viz\n",
    "In this section we will be selecting senators based on party, gender, and state.  These functions will be implemented in the Heroku app."
   ]
  },
  {
   "cell_type": "code",
   "execution_count": 3,
   "metadata": {},
   "outputs": [],
   "source": [
    "sim_df = pd.read_csv('voting_sim.csv', index_col=0)\n",
    "cur_sim_df = pd.read_csv('vs_current.csv', index_col=0)\n",
    "data_df = pd.read_csv('sen_data.csv', index_col=0)\n",
    "with open('sen_info.p', 'rb') as f:\n",
    "    sen_info = pickle.load(f)"
   ]
  },
  {
   "cell_type": "code",
   "execution_count": 4,
   "metadata": {},
   "outputs": [],
   "source": [
    "# Function for filtering senators\n",
    "def sen_by_q(senator_info, party=None, gender=None, state=None):\n",
    "    senators = []\n",
    "    if party == None:\n",
    "        party = ['R', 'D', 'ID']\n",
    "    if gender == None:\n",
    "        gender = ['M', 'F', 'N']\n",
    "    if type(party) != list:\n",
    "        party = [party]\n",
    "    if type(gender) != list:\n",
    "        gender = [gender]\n",
    "        \n",
    "    for senator in senator_info:\n",
    "        sen_name = f'{senator[1]} {senator[2]}'\n",
    "        sen_party = senator[3]\n",
    "        sen_gender = senator[4]\n",
    "        sen_state = senator[5]\n",
    "        if state == None:\n",
    "            if sen_party in party and sen_gender in gender:\n",
    "                senators.append(sen_name)\n",
    "        else:\n",
    "            if type(state) != list:\n",
    "                state = [state]\n",
    "            if sen_party in party and sen_gender in gender and sen_state in state:\n",
    "                senators.append(sen_name)\n",
    "    return senators"
   ]
  },
  {
   "cell_type": "code",
   "execution_count": 5,
   "metadata": {},
   "outputs": [],
   "source": [
    "# Function for selected senator similarity\n",
    "def selected_senator_sim(sim_df, senator):\n",
    "    sen_sim = sim_df.loc[senator]\n",
    "    sen_list = list(sen_sim.index)\n",
    "    sen = [ (sen_list[i], sen_sim[i]) for i in range(len(sen_list)) if sen_list[i] != senator ]\n",
    "    sim_list = sorted(sen, key=lambda x: x[1])\n",
    "    least = sim_list[:10]\n",
    "    most = sim_list[::-1][:10]\n",
    "    return least, most"
   ]
  },
  {
   "cell_type": "code",
   "execution_count": 6,
   "metadata": {},
   "outputs": [],
   "source": [
    "# Similarity over the past 20 years\n",
    "least, most = selected_senator_sim(sim_df, 'Bernard Sanders')"
   ]
  },
  {
   "cell_type": "code",
   "execution_count": 9,
   "metadata": {},
   "outputs": [],
   "source": [
    "# Similarity in the 116th Congress\n",
    "least, most = selected_senator_sim(cur_sim_df, 'Bernard Sanders')"
   ]
  },
  {
   "cell_type": "markdown",
   "metadata": {},
   "source": [
    "## Data Viz"
   ]
  },
  {
   "cell_type": "markdown",
   "metadata": {},
   "source": [
    "### Functions for PCA and Similarity Plots"
   ]
  },
  {
   "cell_type": "code",
   "execution_count": 12,
   "metadata": {},
   "outputs": [],
   "source": [
    "def pca_plot(df):\n",
    "    fig = px.scatter(\n",
    "        df,\n",
    "        x='x',\n",
    "        y='y',\n",
    "        color='party',\n",
    "        hover_name='name',\n",
    "        hover_data=['party', 'state'],\n",
    "        color_discrete_map={'R': 'red', 'D': 'blue', 'ID': 'light green'},\n",
    "        size='voting_length',\n",
    "        symbol='cluster',\n",
    "        width=800,\n",
    "        height=650\n",
    "    )\n",
    "    return fig"
   ]
  },
  {
   "cell_type": "code",
   "execution_count": 109,
   "metadata": {},
   "outputs": [],
   "source": [
    "def sim_plot(df, senator):\n",
    "    least, most = selected_senator_sim(df, senator)\n",
    "    X1 = 100 * np.array([ sen[1] for sen in least ])\n",
    "    Y1 = [ sen[0] for sen in least ]\n",
    "    X2 = 100 * np.array([ sen[1] for sen in most ])\n",
    "    Y2 = [ sen[0] for sen in most ]\n",
    "    \n",
    "    fig1 = go.Figure(go.Bar(\n",
    "        x=X1,\n",
    "        y=Y1,\n",
    "        orientation='h',\n",
    "        hovertemplate=\n",
    "        'Senator: %{y}' +\n",
    "        '<br>Percent Agreement: %{x}%<extra></extra>',\n",
    "    ))\n",
    "    fig1.update_layout(yaxis={'categoryorder':'total descending'}, height=600, width=700)\n",
    "    fig1.update_layout(title='Bottom 10: Least Similar Senators', xaxis_title='Rate of Agreement (%)')\n",
    "    \n",
    "    fig2 = go.Figure(go.Bar(\n",
    "        x=X2, \n",
    "        y=Y2, \n",
    "        orientation='h',\n",
    "        hovertemplate=\n",
    "        'Senator: %{y}' +\n",
    "        '<br>Percent Agreement: %{x}%<extra></extra>',\n",
    "    ))\n",
    "    fig2.update_layout(yaxis={'categoryorder':'total ascending'}, height=600, width=700)\n",
    "    fig2.update_layout(title='Top 10: Most Similar Senators', xaxis_title='Rate of Agreement (%)')\n",
    "    return fig1, fig2"
   ]
  },
  {
   "cell_type": "code",
   "execution_count": 110,
   "metadata": {},
   "outputs": [],
   "source": [
    "fig1, fig2 = sim_plot(cur_sim_df, 'Bernard Sanders')"
   ]
  },
  {
   "cell_type": "code",
   "execution_count": 112,
   "metadata": {},
   "outputs": [
    {
     "data": {
      "application/vnd.plotly.v1+json": {
       "config": {
        "plotlyServerURL": "https://plot.ly"
       },
       "data": [
        {
         "hovertemplate": "Senator: %{y}<br>Percent Agreement: %{x}%<extra></extra>",
         "orientation": "h",
         "type": "bar",
         "x": [
          97,
          97,
          96,
          96,
          96,
          95,
          93,
          93,
          93,
          93
         ],
         "y": [
          "Elizabeth Warren",
          "Jeff Merkley",
          "Edward Markey",
          "Kamala Harris",
          "Kirsten Gillibrand",
          "Cory Booker",
          "Ron Wyden",
          "Chris Van Hollen",
          "Tom Udall",
          "Patrick Leahy"
         ]
        }
       ],
       "layout": {
        "height": 600,
        "template": {
         "data": {
          "bar": [
           {
            "error_x": {
             "color": "#2a3f5f"
            },
            "error_y": {
             "color": "#2a3f5f"
            },
            "marker": {
             "line": {
              "color": "#E5ECF6",
              "width": 0.5
             }
            },
            "type": "bar"
           }
          ],
          "barpolar": [
           {
            "marker": {
             "line": {
              "color": "#E5ECF6",
              "width": 0.5
             }
            },
            "type": "barpolar"
           }
          ],
          "carpet": [
           {
            "aaxis": {
             "endlinecolor": "#2a3f5f",
             "gridcolor": "white",
             "linecolor": "white",
             "minorgridcolor": "white",
             "startlinecolor": "#2a3f5f"
            },
            "baxis": {
             "endlinecolor": "#2a3f5f",
             "gridcolor": "white",
             "linecolor": "white",
             "minorgridcolor": "white",
             "startlinecolor": "#2a3f5f"
            },
            "type": "carpet"
           }
          ],
          "choropleth": [
           {
            "colorbar": {
             "outlinewidth": 0,
             "ticks": ""
            },
            "type": "choropleth"
           }
          ],
          "contour": [
           {
            "colorbar": {
             "outlinewidth": 0,
             "ticks": ""
            },
            "colorscale": [
             [
              0,
              "#0d0887"
             ],
             [
              0.1111111111111111,
              "#46039f"
             ],
             [
              0.2222222222222222,
              "#7201a8"
             ],
             [
              0.3333333333333333,
              "#9c179e"
             ],
             [
              0.4444444444444444,
              "#bd3786"
             ],
             [
              0.5555555555555556,
              "#d8576b"
             ],
             [
              0.6666666666666666,
              "#ed7953"
             ],
             [
              0.7777777777777778,
              "#fb9f3a"
             ],
             [
              0.8888888888888888,
              "#fdca26"
             ],
             [
              1,
              "#f0f921"
             ]
            ],
            "type": "contour"
           }
          ],
          "contourcarpet": [
           {
            "colorbar": {
             "outlinewidth": 0,
             "ticks": ""
            },
            "type": "contourcarpet"
           }
          ],
          "heatmap": [
           {
            "colorbar": {
             "outlinewidth": 0,
             "ticks": ""
            },
            "colorscale": [
             [
              0,
              "#0d0887"
             ],
             [
              0.1111111111111111,
              "#46039f"
             ],
             [
              0.2222222222222222,
              "#7201a8"
             ],
             [
              0.3333333333333333,
              "#9c179e"
             ],
             [
              0.4444444444444444,
              "#bd3786"
             ],
             [
              0.5555555555555556,
              "#d8576b"
             ],
             [
              0.6666666666666666,
              "#ed7953"
             ],
             [
              0.7777777777777778,
              "#fb9f3a"
             ],
             [
              0.8888888888888888,
              "#fdca26"
             ],
             [
              1,
              "#f0f921"
             ]
            ],
            "type": "heatmap"
           }
          ],
          "heatmapgl": [
           {
            "colorbar": {
             "outlinewidth": 0,
             "ticks": ""
            },
            "colorscale": [
             [
              0,
              "#0d0887"
             ],
             [
              0.1111111111111111,
              "#46039f"
             ],
             [
              0.2222222222222222,
              "#7201a8"
             ],
             [
              0.3333333333333333,
              "#9c179e"
             ],
             [
              0.4444444444444444,
              "#bd3786"
             ],
             [
              0.5555555555555556,
              "#d8576b"
             ],
             [
              0.6666666666666666,
              "#ed7953"
             ],
             [
              0.7777777777777778,
              "#fb9f3a"
             ],
             [
              0.8888888888888888,
              "#fdca26"
             ],
             [
              1,
              "#f0f921"
             ]
            ],
            "type": "heatmapgl"
           }
          ],
          "histogram": [
           {
            "marker": {
             "colorbar": {
              "outlinewidth": 0,
              "ticks": ""
             }
            },
            "type": "histogram"
           }
          ],
          "histogram2d": [
           {
            "colorbar": {
             "outlinewidth": 0,
             "ticks": ""
            },
            "colorscale": [
             [
              0,
              "#0d0887"
             ],
             [
              0.1111111111111111,
              "#46039f"
             ],
             [
              0.2222222222222222,
              "#7201a8"
             ],
             [
              0.3333333333333333,
              "#9c179e"
             ],
             [
              0.4444444444444444,
              "#bd3786"
             ],
             [
              0.5555555555555556,
              "#d8576b"
             ],
             [
              0.6666666666666666,
              "#ed7953"
             ],
             [
              0.7777777777777778,
              "#fb9f3a"
             ],
             [
              0.8888888888888888,
              "#fdca26"
             ],
             [
              1,
              "#f0f921"
             ]
            ],
            "type": "histogram2d"
           }
          ],
          "histogram2dcontour": [
           {
            "colorbar": {
             "outlinewidth": 0,
             "ticks": ""
            },
            "colorscale": [
             [
              0,
              "#0d0887"
             ],
             [
              0.1111111111111111,
              "#46039f"
             ],
             [
              0.2222222222222222,
              "#7201a8"
             ],
             [
              0.3333333333333333,
              "#9c179e"
             ],
             [
              0.4444444444444444,
              "#bd3786"
             ],
             [
              0.5555555555555556,
              "#d8576b"
             ],
             [
              0.6666666666666666,
              "#ed7953"
             ],
             [
              0.7777777777777778,
              "#fb9f3a"
             ],
             [
              0.8888888888888888,
              "#fdca26"
             ],
             [
              1,
              "#f0f921"
             ]
            ],
            "type": "histogram2dcontour"
           }
          ],
          "mesh3d": [
           {
            "colorbar": {
             "outlinewidth": 0,
             "ticks": ""
            },
            "type": "mesh3d"
           }
          ],
          "parcoords": [
           {
            "line": {
             "colorbar": {
              "outlinewidth": 0,
              "ticks": ""
             }
            },
            "type": "parcoords"
           }
          ],
          "pie": [
           {
            "automargin": true,
            "type": "pie"
           }
          ],
          "scatter": [
           {
            "marker": {
             "colorbar": {
              "outlinewidth": 0,
              "ticks": ""
             }
            },
            "type": "scatter"
           }
          ],
          "scatter3d": [
           {
            "line": {
             "colorbar": {
              "outlinewidth": 0,
              "ticks": ""
             }
            },
            "marker": {
             "colorbar": {
              "outlinewidth": 0,
              "ticks": ""
             }
            },
            "type": "scatter3d"
           }
          ],
          "scattercarpet": [
           {
            "marker": {
             "colorbar": {
              "outlinewidth": 0,
              "ticks": ""
             }
            },
            "type": "scattercarpet"
           }
          ],
          "scattergeo": [
           {
            "marker": {
             "colorbar": {
              "outlinewidth": 0,
              "ticks": ""
             }
            },
            "type": "scattergeo"
           }
          ],
          "scattergl": [
           {
            "marker": {
             "colorbar": {
              "outlinewidth": 0,
              "ticks": ""
             }
            },
            "type": "scattergl"
           }
          ],
          "scattermapbox": [
           {
            "marker": {
             "colorbar": {
              "outlinewidth": 0,
              "ticks": ""
             }
            },
            "type": "scattermapbox"
           }
          ],
          "scatterpolar": [
           {
            "marker": {
             "colorbar": {
              "outlinewidth": 0,
              "ticks": ""
             }
            },
            "type": "scatterpolar"
           }
          ],
          "scatterpolargl": [
           {
            "marker": {
             "colorbar": {
              "outlinewidth": 0,
              "ticks": ""
             }
            },
            "type": "scatterpolargl"
           }
          ],
          "scatterternary": [
           {
            "marker": {
             "colorbar": {
              "outlinewidth": 0,
              "ticks": ""
             }
            },
            "type": "scatterternary"
           }
          ],
          "surface": [
           {
            "colorbar": {
             "outlinewidth": 0,
             "ticks": ""
            },
            "colorscale": [
             [
              0,
              "#0d0887"
             ],
             [
              0.1111111111111111,
              "#46039f"
             ],
             [
              0.2222222222222222,
              "#7201a8"
             ],
             [
              0.3333333333333333,
              "#9c179e"
             ],
             [
              0.4444444444444444,
              "#bd3786"
             ],
             [
              0.5555555555555556,
              "#d8576b"
             ],
             [
              0.6666666666666666,
              "#ed7953"
             ],
             [
              0.7777777777777778,
              "#fb9f3a"
             ],
             [
              0.8888888888888888,
              "#fdca26"
             ],
             [
              1,
              "#f0f921"
             ]
            ],
            "type": "surface"
           }
          ],
          "table": [
           {
            "cells": {
             "fill": {
              "color": "#EBF0F8"
             },
             "line": {
              "color": "white"
             }
            },
            "header": {
             "fill": {
              "color": "#C8D4E3"
             },
             "line": {
              "color": "white"
             }
            },
            "type": "table"
           }
          ]
         },
         "layout": {
          "annotationdefaults": {
           "arrowcolor": "#2a3f5f",
           "arrowhead": 0,
           "arrowwidth": 1
          },
          "coloraxis": {
           "colorbar": {
            "outlinewidth": 0,
            "ticks": ""
           }
          },
          "colorscale": {
           "diverging": [
            [
             0,
             "#8e0152"
            ],
            [
             0.1,
             "#c51b7d"
            ],
            [
             0.2,
             "#de77ae"
            ],
            [
             0.3,
             "#f1b6da"
            ],
            [
             0.4,
             "#fde0ef"
            ],
            [
             0.5,
             "#f7f7f7"
            ],
            [
             0.6,
             "#e6f5d0"
            ],
            [
             0.7,
             "#b8e186"
            ],
            [
             0.8,
             "#7fbc41"
            ],
            [
             0.9,
             "#4d9221"
            ],
            [
             1,
             "#276419"
            ]
           ],
           "sequential": [
            [
             0,
             "#0d0887"
            ],
            [
             0.1111111111111111,
             "#46039f"
            ],
            [
             0.2222222222222222,
             "#7201a8"
            ],
            [
             0.3333333333333333,
             "#9c179e"
            ],
            [
             0.4444444444444444,
             "#bd3786"
            ],
            [
             0.5555555555555556,
             "#d8576b"
            ],
            [
             0.6666666666666666,
             "#ed7953"
            ],
            [
             0.7777777777777778,
             "#fb9f3a"
            ],
            [
             0.8888888888888888,
             "#fdca26"
            ],
            [
             1,
             "#f0f921"
            ]
           ],
           "sequentialminus": [
            [
             0,
             "#0d0887"
            ],
            [
             0.1111111111111111,
             "#46039f"
            ],
            [
             0.2222222222222222,
             "#7201a8"
            ],
            [
             0.3333333333333333,
             "#9c179e"
            ],
            [
             0.4444444444444444,
             "#bd3786"
            ],
            [
             0.5555555555555556,
             "#d8576b"
            ],
            [
             0.6666666666666666,
             "#ed7953"
            ],
            [
             0.7777777777777778,
             "#fb9f3a"
            ],
            [
             0.8888888888888888,
             "#fdca26"
            ],
            [
             1,
             "#f0f921"
            ]
           ]
          },
          "colorway": [
           "#636efa",
           "#EF553B",
           "#00cc96",
           "#ab63fa",
           "#FFA15A",
           "#19d3f3",
           "#FF6692",
           "#B6E880",
           "#FF97FF",
           "#FECB52"
          ],
          "font": {
           "color": "#2a3f5f"
          },
          "geo": {
           "bgcolor": "white",
           "lakecolor": "white",
           "landcolor": "#E5ECF6",
           "showlakes": true,
           "showland": true,
           "subunitcolor": "white"
          },
          "hoverlabel": {
           "align": "left"
          },
          "hovermode": "closest",
          "mapbox": {
           "style": "light"
          },
          "paper_bgcolor": "white",
          "plot_bgcolor": "#E5ECF6",
          "polar": {
           "angularaxis": {
            "gridcolor": "white",
            "linecolor": "white",
            "ticks": ""
           },
           "bgcolor": "#E5ECF6",
           "radialaxis": {
            "gridcolor": "white",
            "linecolor": "white",
            "ticks": ""
           }
          },
          "scene": {
           "xaxis": {
            "backgroundcolor": "#E5ECF6",
            "gridcolor": "white",
            "gridwidth": 2,
            "linecolor": "white",
            "showbackground": true,
            "ticks": "",
            "zerolinecolor": "white"
           },
           "yaxis": {
            "backgroundcolor": "#E5ECF6",
            "gridcolor": "white",
            "gridwidth": 2,
            "linecolor": "white",
            "showbackground": true,
            "ticks": "",
            "zerolinecolor": "white"
           },
           "zaxis": {
            "backgroundcolor": "#E5ECF6",
            "gridcolor": "white",
            "gridwidth": 2,
            "linecolor": "white",
            "showbackground": true,
            "ticks": "",
            "zerolinecolor": "white"
           }
          },
          "shapedefaults": {
           "line": {
            "color": "#2a3f5f"
           }
          },
          "ternary": {
           "aaxis": {
            "gridcolor": "white",
            "linecolor": "white",
            "ticks": ""
           },
           "baxis": {
            "gridcolor": "white",
            "linecolor": "white",
            "ticks": ""
           },
           "bgcolor": "#E5ECF6",
           "caxis": {
            "gridcolor": "white",
            "linecolor": "white",
            "ticks": ""
           }
          },
          "title": {
           "x": 0.05
          },
          "xaxis": {
           "automargin": true,
           "gridcolor": "white",
           "linecolor": "white",
           "ticks": "",
           "title": {
            "standoff": 15
           },
           "zerolinecolor": "white",
           "zerolinewidth": 2
          },
          "yaxis": {
           "automargin": true,
           "gridcolor": "white",
           "linecolor": "white",
           "ticks": "",
           "title": {
            "standoff": 15
           },
           "zerolinecolor": "white",
           "zerolinewidth": 2
          }
         }
        },
        "title": {
         "text": "Top 10: Most Similar Senators"
        },
        "width": 700,
        "xaxis": {
         "title": {
          "text": "Rate of Agreement (%)"
         }
        },
        "yaxis": {
         "categoryorder": "total ascending"
        }
       }
      },
      "text/html": [
       "<div>\n",
       "        \n",
       "        \n",
       "            <div id=\"a95c1a3c-7e03-45c2-a442-35b6bdf9ca28\" class=\"plotly-graph-div\" style=\"height:600px; width:700px;\"></div>\n",
       "            <script type=\"text/javascript\">\n",
       "                require([\"plotly\"], function(Plotly) {\n",
       "                    window.PLOTLYENV=window.PLOTLYENV || {};\n",
       "                    \n",
       "                if (document.getElementById(\"a95c1a3c-7e03-45c2-a442-35b6bdf9ca28\")) {\n",
       "                    Plotly.newPlot(\n",
       "                        'a95c1a3c-7e03-45c2-a442-35b6bdf9ca28',\n",
       "                        [{\"hovertemplate\": \"Senator: %{y}<br>Percent Agreement: %{x}%<extra></extra>\", \"orientation\": \"h\", \"type\": \"bar\", \"x\": [97.0, 97.0, 96.0, 96.0, 96.0, 95.0, 93.0, 93.0, 93.0, 93.0], \"y\": [\"Elizabeth Warren\", \"Jeff Merkley\", \"Edward Markey\", \"Kamala Harris\", \"Kirsten Gillibrand\", \"Cory Booker\", \"Ron Wyden\", \"Chris Van Hollen\", \"Tom Udall\", \"Patrick Leahy\"]}],\n",
       "                        {\"height\": 600, \"template\": {\"data\": {\"bar\": [{\"error_x\": {\"color\": \"#2a3f5f\"}, \"error_y\": {\"color\": \"#2a3f5f\"}, \"marker\": {\"line\": {\"color\": \"#E5ECF6\", \"width\": 0.5}}, \"type\": \"bar\"}], \"barpolar\": [{\"marker\": {\"line\": {\"color\": \"#E5ECF6\", \"width\": 0.5}}, \"type\": \"barpolar\"}], \"carpet\": [{\"aaxis\": {\"endlinecolor\": \"#2a3f5f\", \"gridcolor\": \"white\", \"linecolor\": \"white\", \"minorgridcolor\": \"white\", \"startlinecolor\": \"#2a3f5f\"}, \"baxis\": {\"endlinecolor\": \"#2a3f5f\", \"gridcolor\": \"white\", \"linecolor\": \"white\", \"minorgridcolor\": \"white\", \"startlinecolor\": \"#2a3f5f\"}, \"type\": \"carpet\"}], \"choropleth\": [{\"colorbar\": {\"outlinewidth\": 0, \"ticks\": \"\"}, \"type\": \"choropleth\"}], \"contour\": [{\"colorbar\": {\"outlinewidth\": 0, \"ticks\": \"\"}, \"colorscale\": [[0.0, \"#0d0887\"], [0.1111111111111111, \"#46039f\"], [0.2222222222222222, \"#7201a8\"], [0.3333333333333333, \"#9c179e\"], [0.4444444444444444, \"#bd3786\"], [0.5555555555555556, \"#d8576b\"], [0.6666666666666666, \"#ed7953\"], [0.7777777777777778, \"#fb9f3a\"], [0.8888888888888888, \"#fdca26\"], [1.0, \"#f0f921\"]], \"type\": \"contour\"}], \"contourcarpet\": [{\"colorbar\": {\"outlinewidth\": 0, \"ticks\": \"\"}, \"type\": \"contourcarpet\"}], \"heatmap\": [{\"colorbar\": {\"outlinewidth\": 0, \"ticks\": \"\"}, \"colorscale\": [[0.0, \"#0d0887\"], [0.1111111111111111, \"#46039f\"], [0.2222222222222222, \"#7201a8\"], [0.3333333333333333, \"#9c179e\"], [0.4444444444444444, \"#bd3786\"], [0.5555555555555556, \"#d8576b\"], [0.6666666666666666, \"#ed7953\"], [0.7777777777777778, \"#fb9f3a\"], [0.8888888888888888, \"#fdca26\"], [1.0, \"#f0f921\"]], \"type\": \"heatmap\"}], \"heatmapgl\": [{\"colorbar\": {\"outlinewidth\": 0, \"ticks\": \"\"}, \"colorscale\": [[0.0, \"#0d0887\"], [0.1111111111111111, \"#46039f\"], [0.2222222222222222, \"#7201a8\"], [0.3333333333333333, \"#9c179e\"], [0.4444444444444444, \"#bd3786\"], [0.5555555555555556, \"#d8576b\"], [0.6666666666666666, \"#ed7953\"], [0.7777777777777778, \"#fb9f3a\"], [0.8888888888888888, \"#fdca26\"], [1.0, \"#f0f921\"]], \"type\": \"heatmapgl\"}], \"histogram\": [{\"marker\": {\"colorbar\": {\"outlinewidth\": 0, \"ticks\": \"\"}}, \"type\": \"histogram\"}], \"histogram2d\": [{\"colorbar\": {\"outlinewidth\": 0, \"ticks\": \"\"}, \"colorscale\": [[0.0, \"#0d0887\"], [0.1111111111111111, \"#46039f\"], [0.2222222222222222, \"#7201a8\"], [0.3333333333333333, \"#9c179e\"], [0.4444444444444444, \"#bd3786\"], [0.5555555555555556, \"#d8576b\"], [0.6666666666666666, \"#ed7953\"], [0.7777777777777778, \"#fb9f3a\"], [0.8888888888888888, \"#fdca26\"], [1.0, \"#f0f921\"]], \"type\": \"histogram2d\"}], \"histogram2dcontour\": [{\"colorbar\": {\"outlinewidth\": 0, \"ticks\": \"\"}, \"colorscale\": [[0.0, \"#0d0887\"], [0.1111111111111111, \"#46039f\"], [0.2222222222222222, \"#7201a8\"], [0.3333333333333333, \"#9c179e\"], [0.4444444444444444, \"#bd3786\"], [0.5555555555555556, \"#d8576b\"], [0.6666666666666666, \"#ed7953\"], [0.7777777777777778, \"#fb9f3a\"], [0.8888888888888888, \"#fdca26\"], [1.0, \"#f0f921\"]], \"type\": \"histogram2dcontour\"}], \"mesh3d\": [{\"colorbar\": {\"outlinewidth\": 0, \"ticks\": \"\"}, \"type\": \"mesh3d\"}], \"parcoords\": [{\"line\": {\"colorbar\": {\"outlinewidth\": 0, \"ticks\": \"\"}}, \"type\": \"parcoords\"}], \"pie\": [{\"automargin\": true, \"type\": \"pie\"}], \"scatter\": [{\"marker\": {\"colorbar\": {\"outlinewidth\": 0, \"ticks\": \"\"}}, \"type\": \"scatter\"}], \"scatter3d\": [{\"line\": {\"colorbar\": {\"outlinewidth\": 0, \"ticks\": \"\"}}, \"marker\": {\"colorbar\": {\"outlinewidth\": 0, \"ticks\": \"\"}}, \"type\": \"scatter3d\"}], \"scattercarpet\": [{\"marker\": {\"colorbar\": {\"outlinewidth\": 0, \"ticks\": \"\"}}, \"type\": \"scattercarpet\"}], \"scattergeo\": [{\"marker\": {\"colorbar\": {\"outlinewidth\": 0, \"ticks\": \"\"}}, \"type\": \"scattergeo\"}], \"scattergl\": [{\"marker\": {\"colorbar\": {\"outlinewidth\": 0, \"ticks\": \"\"}}, \"type\": \"scattergl\"}], \"scattermapbox\": [{\"marker\": {\"colorbar\": {\"outlinewidth\": 0, \"ticks\": \"\"}}, \"type\": \"scattermapbox\"}], \"scatterpolar\": [{\"marker\": {\"colorbar\": {\"outlinewidth\": 0, \"ticks\": \"\"}}, \"type\": \"scatterpolar\"}], \"scatterpolargl\": [{\"marker\": {\"colorbar\": {\"outlinewidth\": 0, \"ticks\": \"\"}}, \"type\": \"scatterpolargl\"}], \"scatterternary\": [{\"marker\": {\"colorbar\": {\"outlinewidth\": 0, \"ticks\": \"\"}}, \"type\": \"scatterternary\"}], \"surface\": [{\"colorbar\": {\"outlinewidth\": 0, \"ticks\": \"\"}, \"colorscale\": [[0.0, \"#0d0887\"], [0.1111111111111111, \"#46039f\"], [0.2222222222222222, \"#7201a8\"], [0.3333333333333333, \"#9c179e\"], [0.4444444444444444, \"#bd3786\"], [0.5555555555555556, \"#d8576b\"], [0.6666666666666666, \"#ed7953\"], [0.7777777777777778, \"#fb9f3a\"], [0.8888888888888888, \"#fdca26\"], [1.0, \"#f0f921\"]], \"type\": \"surface\"}], \"table\": [{\"cells\": {\"fill\": {\"color\": \"#EBF0F8\"}, \"line\": {\"color\": \"white\"}}, \"header\": {\"fill\": {\"color\": \"#C8D4E3\"}, \"line\": {\"color\": \"white\"}}, \"type\": \"table\"}]}, \"layout\": {\"annotationdefaults\": {\"arrowcolor\": \"#2a3f5f\", \"arrowhead\": 0, \"arrowwidth\": 1}, \"coloraxis\": {\"colorbar\": {\"outlinewidth\": 0, \"ticks\": \"\"}}, \"colorscale\": {\"diverging\": [[0, \"#8e0152\"], [0.1, \"#c51b7d\"], [0.2, \"#de77ae\"], [0.3, \"#f1b6da\"], [0.4, \"#fde0ef\"], [0.5, \"#f7f7f7\"], [0.6, \"#e6f5d0\"], [0.7, \"#b8e186\"], [0.8, \"#7fbc41\"], [0.9, \"#4d9221\"], [1, \"#276419\"]], \"sequential\": [[0.0, \"#0d0887\"], [0.1111111111111111, \"#46039f\"], [0.2222222222222222, \"#7201a8\"], [0.3333333333333333, \"#9c179e\"], [0.4444444444444444, \"#bd3786\"], [0.5555555555555556, \"#d8576b\"], [0.6666666666666666, \"#ed7953\"], [0.7777777777777778, \"#fb9f3a\"], [0.8888888888888888, \"#fdca26\"], [1.0, \"#f0f921\"]], \"sequentialminus\": [[0.0, \"#0d0887\"], [0.1111111111111111, \"#46039f\"], [0.2222222222222222, \"#7201a8\"], [0.3333333333333333, \"#9c179e\"], [0.4444444444444444, \"#bd3786\"], [0.5555555555555556, \"#d8576b\"], [0.6666666666666666, \"#ed7953\"], [0.7777777777777778, \"#fb9f3a\"], [0.8888888888888888, \"#fdca26\"], [1.0, \"#f0f921\"]]}, \"colorway\": [\"#636efa\", \"#EF553B\", \"#00cc96\", \"#ab63fa\", \"#FFA15A\", \"#19d3f3\", \"#FF6692\", \"#B6E880\", \"#FF97FF\", \"#FECB52\"], \"font\": {\"color\": \"#2a3f5f\"}, \"geo\": {\"bgcolor\": \"white\", \"lakecolor\": \"white\", \"landcolor\": \"#E5ECF6\", \"showlakes\": true, \"showland\": true, \"subunitcolor\": \"white\"}, \"hoverlabel\": {\"align\": \"left\"}, \"hovermode\": \"closest\", \"mapbox\": {\"style\": \"light\"}, \"paper_bgcolor\": \"white\", \"plot_bgcolor\": \"#E5ECF6\", \"polar\": {\"angularaxis\": {\"gridcolor\": \"white\", \"linecolor\": \"white\", \"ticks\": \"\"}, \"bgcolor\": \"#E5ECF6\", \"radialaxis\": {\"gridcolor\": \"white\", \"linecolor\": \"white\", \"ticks\": \"\"}}, \"scene\": {\"xaxis\": {\"backgroundcolor\": \"#E5ECF6\", \"gridcolor\": \"white\", \"gridwidth\": 2, \"linecolor\": \"white\", \"showbackground\": true, \"ticks\": \"\", \"zerolinecolor\": \"white\"}, \"yaxis\": {\"backgroundcolor\": \"#E5ECF6\", \"gridcolor\": \"white\", \"gridwidth\": 2, \"linecolor\": \"white\", \"showbackground\": true, \"ticks\": \"\", \"zerolinecolor\": \"white\"}, \"zaxis\": {\"backgroundcolor\": \"#E5ECF6\", \"gridcolor\": \"white\", \"gridwidth\": 2, \"linecolor\": \"white\", \"showbackground\": true, \"ticks\": \"\", \"zerolinecolor\": \"white\"}}, \"shapedefaults\": {\"line\": {\"color\": \"#2a3f5f\"}}, \"ternary\": {\"aaxis\": {\"gridcolor\": \"white\", \"linecolor\": \"white\", \"ticks\": \"\"}, \"baxis\": {\"gridcolor\": \"white\", \"linecolor\": \"white\", \"ticks\": \"\"}, \"bgcolor\": \"#E5ECF6\", \"caxis\": {\"gridcolor\": \"white\", \"linecolor\": \"white\", \"ticks\": \"\"}}, \"title\": {\"x\": 0.05}, \"xaxis\": {\"automargin\": true, \"gridcolor\": \"white\", \"linecolor\": \"white\", \"ticks\": \"\", \"title\": {\"standoff\": 15}, \"zerolinecolor\": \"white\", \"zerolinewidth\": 2}, \"yaxis\": {\"automargin\": true, \"gridcolor\": \"white\", \"linecolor\": \"white\", \"ticks\": \"\", \"title\": {\"standoff\": 15}, \"zerolinecolor\": \"white\", \"zerolinewidth\": 2}}}, \"title\": {\"text\": \"Top 10: Most Similar Senators\"}, \"width\": 700, \"xaxis\": {\"title\": {\"text\": \"Rate of Agreement (%)\"}}, \"yaxis\": {\"categoryorder\": \"total ascending\"}},\n",
       "                        {\"responsive\": true}\n",
       "                    ).then(function(){\n",
       "                            \n",
       "var gd = document.getElementById('a95c1a3c-7e03-45c2-a442-35b6bdf9ca28');\n",
       "var x = new MutationObserver(function (mutations, observer) {{\n",
       "        var display = window.getComputedStyle(gd).display;\n",
       "        if (!display || display === 'none') {{\n",
       "            console.log([gd, 'removed!']);\n",
       "            Plotly.purge(gd);\n",
       "            observer.disconnect();\n",
       "        }}\n",
       "}});\n",
       "\n",
       "// Listen for the removal of the full notebook cells\n",
       "var notebookContainer = gd.closest('#notebook-container');\n",
       "if (notebookContainer) {{\n",
       "    x.observe(notebookContainer, {childList: true});\n",
       "}}\n",
       "\n",
       "// Listen for the clearing of the current output cell\n",
       "var outputEl = gd.closest('.output');\n",
       "if (outputEl) {{\n",
       "    x.observe(outputEl, {childList: true});\n",
       "}}\n",
       "\n",
       "                        })\n",
       "                };\n",
       "                });\n",
       "            </script>\n",
       "        </div>"
      ]
     },
     "metadata": {},
     "output_type": "display_data"
    }
   ],
   "source": [
    "fig2"
   ]
  }
 ],
 "metadata": {
  "kernelspec": {
   "display_name": "senate_env",
   "language": "python",
   "name": "senate_env"
  },
  "language_info": {
   "codemirror_mode": {
    "name": "ipython",
    "version": 3
   },
   "file_extension": ".py",
   "mimetype": "text/x-python",
   "name": "python",
   "nbconvert_exporter": "python",
   "pygments_lexer": "ipython3",
   "version": "3.8.3"
  }
 },
 "nbformat": 4,
 "nbformat_minor": 4
}
