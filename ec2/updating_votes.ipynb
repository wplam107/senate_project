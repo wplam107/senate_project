{
 "cells": [
  {
   "cell_type": "markdown",
   "metadata": {},
   "source": [
    "# Updating Database Tables\n",
    "In this notebook the script and functions for updating the data to be inserted into the database will be detailed.  The actual inserts have already been covered in the ```data_eng_notebook.ipynb``` notebook."
   ]
  },
  {
   "cell_type": "code",
   "execution_count": 55,
   "metadata": {},
   "outputs": [],
   "source": [
    "import requests\n",
    "import json\n",
    "import configparser\n",
    "import psycopg2\n",
    "from psycopg2.extensions import ISOLATION_LEVEL_AUTOCOMMIT\n",
    "from datetime import datetime"
   ]
  },
  {
   "cell_type": "code",
   "execution_count": 60,
   "metadata": {},
   "outputs": [],
   "source": [
    "# Set up connection to AWS RDS\n",
    "config1 = configparser.ConfigParser()\n",
    "config1.read('../config.ini')\n",
    "ENDPOINT = config1.get('aws', 'ENDPOINT')\n",
    "PORT = config1.get('aws', 'PORT')\n",
    "USR = config1.get('aws', 'USER')\n",
    "PWD = config1.get('aws', 'PASSWORD')\n",
    "DB = config1.get('aws', 'DATABASE')"
   ]
  },
  {
   "cell_type": "markdown",
   "metadata": {},
   "source": [
    "## Comparing Database to new API calls\n",
    "We will be comparing the last bill entry in the database to the most recent senate bills voted on.  This allows us to update when there are new votes and to ignore updates if there are no new votes.  Additionally we will retrieve all senators in the database and see if it needs to be updated."
   ]
  },
  {
   "cell_type": "code",
   "execution_count": 66,
   "metadata": {},
   "outputs": [],
   "source": [
    "# Fetch last bill in the database\n",
    "conn = psycopg2.connect(\n",
    "    host=ENDPOINT,\n",
    "    user=USR,\n",
    "    password=PWD,\n",
    "    port=PORT,\n",
    "    database=DB\n",
    ")\n",
    "\n",
    "conn.set_isolation_level(ISOLATION_LEVEL_AUTOCOMMIT)\n",
    "cursor = conn.cursor()\n",
    "cursor.execute(\n",
    "    \"\"\"\n",
    "    SELECT congress, session, roll_call FROM bills\n",
    "    WHERE date = (\n",
    "        SELECT MAX(date) FROM bills\n",
    "    )\n",
    "    ;\n",
    "    \"\"\"\n",
    ")\n",
    "last_bill = cursor.fetchall()[-1]"
   ]
  },
  {
   "cell_type": "code",
   "execution_count": 62,
   "metadata": {},
   "outputs": [],
   "source": [
    "# Fetch list of senators in database\n",
    "cursor.execute(\n",
    "    \"\"\"\n",
    "    SELECT sen_id FROM senators\n",
    "    ;\n",
    "    \"\"\"\n",
    ")\n",
    "sen_ids = cursor.fetchall()\n",
    "sen_ids = [ sen[0] for sen in sen_ids ]"
   ]
  },
  {
   "cell_type": "code",
   "execution_count": 63,
   "metadata": {},
   "outputs": [],
   "source": [
    "# Making an API call to ProPublica for 20 most recent votes\n",
    "config2 = configparser.ConfigParser()\n",
    "config2.read('../config.ini')\n",
    "api_key = config2.get('propublica', 'PROPUBLICA_API_KEY')\n",
    "\n",
    "r = requests.get(\n",
    "    'https://api.propublica.org/congress/v1/senate/votes/recent.json',\n",
    "    headers={'X-API-Key': api_key}\n",
    ")\n",
    "\n",
    "votes = r.json()['results']['votes']"
   ]
  },
  {
   "cell_type": "code",
   "execution_count": 64,
   "metadata": {},
   "outputs": [],
   "source": [
    "# Most recent vote\n",
    "most_recent = (votes[0]['congress'], votes[0]['session'], votes[0]['roll_call'])"
   ]
  },
  {
   "cell_type": "code",
   "execution_count": 7,
   "metadata": {},
   "outputs": [],
   "source": [
    "# Determine if there are new votes\n",
    "if most_recent == last_bill:\n",
    "    pass\n",
    "else:\n",
    "    rcs_to_pull = []\n",
    "    for vote in votes:\n",
    "        congress = vote['congress']\n",
    "        session = vote['session']\n",
    "        rc = vote['roll_call']\n",
    "        if (congress, session, rc) == last_bill:\n",
    "            break # Stop when last_bill is reached\n",
    "        else:\n",
    "            rcs_to_pull.append((congress, session, rc))"
   ]
  },
  {
   "cell_type": "markdown",
   "metadata": {},
   "source": [
    "## Get new votes and format for database insertion"
   ]
  },
  {
   "cell_type": "code",
   "execution_count": 8,
   "metadata": {},
   "outputs": [],
   "source": [
    "# Make API calls\n",
    "list_of_bills = []\n",
    "for bill in rcs_to_pull:\n",
    "    r = requests.get(\n",
    "        f'https://api.propublica.org/congress/v1/{bill[0]}/senate/sessions/{bill[1]}/votes/{bill[2]}.json',\n",
    "        headers={'X-API-Key': api_key}\n",
    "    )\n",
    "    results = r.json()['results']\n",
    "    list_of_bills.append(results)"
   ]
  },
  {
   "cell_type": "code",
   "execution_count": 53,
   "metadata": {},
   "outputs": [],
   "source": [
    "# Convert results to dictionaries to be inserted into database\n",
    "bill_to_db = []\n",
    "new_votes = []\n",
    "new_sens = []\n",
    "for bill in list_of_bills:\n",
    "    item = bill['votes']['vote']\n",
    "    if item['bill'] != {}: # Ignore nominations\n",
    "        try:\n",
    "            int(item['bill']['bill_id']) # Ignore treaty votes, etc.\n",
    "        except:\n",
    "            congress = item['congress']\n",
    "            session = item['session']\n",
    "            roll_call = item['roll_call']\n",
    "            date = item\n",
    "            csr_id = f'{congress}.{session}.{roll_call}'\n",
    "            bill_tup = (\n",
    "                csr_id,\n",
    "                congress,\n",
    "                session,\n",
    "                roll_call,\n",
    "                item['bill']['bill_id'],\n",
    "                vote['date']\n",
    "            )\n",
    "            bill_to_db.append(bill_tup)\n",
    "\n",
    "            for position in item['positions']:\n",
    "                vote_tup = (\n",
    "                    position['member_id'],\n",
    "                    csr_id,\n",
    "                    position['vote_position']\n",
    "                )\n",
    "                new_votes.append(vote_tup)\n",
    "                if position['member_id'] not in sen_ids:\n",
    "                    new_sens.append(position['member_id'])"
   ]
  },
  {
   "cell_type": "markdown",
   "metadata": {},
   "source": [
    "## Compare and retrieve database senators and current senators"
   ]
  },
  {
   "cell_type": "code",
   "execution_count": 40,
   "metadata": {},
   "outputs": [],
   "source": [
    "# Get newest list of senators from latest bill\n",
    "current_congress = [ mem['member_id'] for mem in list_of_bills[0]['votes']['vote']['positions'] ]\n",
    "\n",
    "# Compare current members to database members and add new member\n",
    "members_to_add = []\n",
    "for member in current_congress:\n",
    "    if member not in sen_ids:\n",
    "        members_to_add.append(member)"
   ]
  },
  {
   "cell_type": "code",
   "execution_count": 44,
   "metadata": {},
   "outputs": [],
   "source": [
    "# Get senator data from API\n",
    "sen_dicts = []\n",
    "for mem in members_to_add:\n",
    "    r = requests.get(\n",
    "            f'https://api.propublica.org/congress/v1/members/{mem}.json',\n",
    "            headers={'X-API-Key': api_key}\n",
    "        )\n",
    "    results = r.json()['results']"
   ]
  },
  {
   "cell_type": "code",
   "execution_count": 43,
   "metadata": {},
   "outputs": [],
   "source": [
    "# Using modified function from scraping notebook\n",
    "def get_senators(members):\n",
    "    senators = []\n",
    "    for member in members:\n",
    "        senator = (\n",
    "            member['id'],\n",
    "            member['first_name'],\n",
    "            member['last_name'],\n",
    "            member['party'],\n",
    "            member['gender'],\n",
    "            member['state'],\n",
    "        )\n",
    "        senators.append(senator)\n",
    "    return senators"
   ]
  },
  {
   "cell_type": "code",
   "execution_count": 45,
   "metadata": {},
   "outputs": [],
   "source": [
    "new_sens = get_senators(sen_dicts)"
   ]
  }
 ],
 "metadata": {
  "kernelspec": {
   "display_name": "senate_env",
   "language": "python",
   "name": "senate_env"
  },
  "language_info": {
   "codemirror_mode": {
    "name": "ipython",
    "version": 3
   },
   "file_extension": ".py",
   "mimetype": "text/x-python",
   "name": "python",
   "nbconvert_exporter": "python",
   "pygments_lexer": "ipython3",
   "version": "3.8.3"
  }
 },
 "nbformat": 4,
 "nbformat_minor": 4
}
