{
 "cells": [
  {
   "cell_type": "markdown",
   "metadata": {},
   "source": [
    "# Updating Database Tables"
   ]
  },
  {
   "cell_type": "code",
   "execution_count": 40,
   "metadata": {},
   "outputs": [],
   "source": [
    "import requests\n",
    "import json\n",
    "import configparser\n",
    "import psycopg2\n",
    "from psycopg2.extensions import ISOLATION_LEVEL_AUTOCOMMIT"
   ]
  },
  {
   "cell_type": "code",
   "execution_count": 41,
   "metadata": {},
   "outputs": [],
   "source": [
    "# Set up connection to AWS RDS\n",
    "config1 = configparser.ConfigParser()\n",
    "config1.read('../config.ini')\n",
    "ENDPOINT = config1.get('aws', 'ENDPOINT')\n",
    "PORT = config1.get('aws', 'PORT')\n",
    "USR = config1.get('aws', 'USER')\n",
    "PWD = config1.get('aws', 'PASSWORD')\n",
    "DB = config1.get('aws', 'DATABASE')"
   ]
  },
  {
   "cell_type": "markdown",
   "metadata": {},
   "source": [
    "## Comparing Database to new API calls\n",
    "We will be comparing the last bill entry in the database to the most recent senate bills voted on.  This allows us to update when there are new votes and to ignore updates if there are no new votes.  Additionally we will retrieve all senators in the database and see if it needs to be updated."
   ]
  },
  {
   "cell_type": "code",
   "execution_count": 108,
   "metadata": {},
   "outputs": [],
   "source": [
    "# Fetch last bill in the database\n",
    "conn = psycopg2.connect(\n",
    "    host=ENDPOINT,\n",
    "    user=USR,\n",
    "    password=PWD,\n",
    "    port=PORT,\n",
    "    database=DB\n",
    ")\n",
    "\n",
    "conn.set_isolation_level(ISOLATION_LEVEL_AUTOCOMMIT)\n",
    "cursor = conn.cursor()\n",
    "cursor.execute(\n",
    "    \"\"\"\n",
    "    SELECT congress, session, roll_call FROM bills\n",
    "    WHERE date = (\n",
    "        SELECT MAX(date) FROM bills\n",
    "    )\n",
    "    ;\n",
    "    \"\"\"\n",
    ")\n",
    "last_bill = cursor.fetchall()[-1]"
   ]
  },
  {
   "cell_type": "code",
   "execution_count": 109,
   "metadata": {},
   "outputs": [],
   "source": [
    "# Fetch list of senators in database\n",
    "cursor.execute(\n",
    "    \"\"\"\n",
    "    SELECT sen_id FROM senators\n",
    "    ;\n",
    "    \"\"\"\n",
    ")\n",
    "sen_ids = cursor.fetchall()\n",
    "sen_ids = [ sen[0] for sen in sen_ids ]\n",
    "\n",
    "cursor.close()\n",
    "conn.close()"
   ]
  },
  {
   "cell_type": "code",
   "execution_count": 61,
   "metadata": {},
   "outputs": [],
   "source": [
    "# Making an API call to ProPublica for 20 most recent votes\n",
    "config2 = configparser.ConfigParser()\n",
    "config2.read('../config.ini')\n",
    "api_key = config2.get('propublica', 'PROPUBLICA_API_KEY')\n",
    "\n",
    "r = requests.get(\n",
    "    'https://api.propublica.org/congress/v1/senate/votes/recent.json',\n",
    "    headers={'X-API-Key': api_key}\n",
    ")\n",
    "\n",
    "votes = r.json()['results']['votes']"
   ]
  },
  {
   "cell_type": "code",
   "execution_count": 72,
   "metadata": {},
   "outputs": [],
   "source": [
    "# Most recent vote\n",
    "most_recent = (votes[0]['congress'], votes[0]['session'], votes[0]['roll_call'])"
   ]
  },
  {
   "cell_type": "code",
   "execution_count": 86,
   "metadata": {},
   "outputs": [],
   "source": [
    "# Determine if there are new votes\n",
    "if most_recent == last_bill:\n",
    "    pass\n",
    "else:\n",
    "    rcs_to_pull = []\n",
    "    for vote in votes:\n",
    "        congress = vote['congress']\n",
    "        session = vote['session']\n",
    "        rc = vote['roll_call']\n",
    "        if (congress, session, rc) == last_bill:\n",
    "            break # Stop when last_bill is reached\n",
    "        else:\n",
    "            rcs_to_pull.append((congress, session, rc))"
   ]
  },
  {
   "cell_type": "code",
   "execution_count": 89,
   "metadata": {},
   "outputs": [],
   "source": [
    "# Make API calls\n",
    "list_of_bills = []\n",
    "for bill in rcs_to_pull:\n",
    "    r = requests.get(\n",
    "        f'https://api.propublica.org/congress/v1/{bill[0]}/senate/sessions/{bill[1]}/votes/{bill[2]}.json',\n",
    "        headers={'X-API-Key': api_key}\n",
    "    )\n",
    "    results = r.json()['results']\n",
    "    list_of_bills.append(results)"
   ]
  },
  {
   "cell_type": "code",
   "execution_count": 111,
   "metadata": {},
   "outputs": [],
   "source": [
    "# Convert results to dictionaries to be inserted into database\n",
    "bill_to_db = []\n",
    "votes = []\n",
    "new_sens = []\n",
    "for bill in list_of_bills:\n",
    "    item = bill['votes']['vote']\n",
    "    if item['bill'] != {}: # Ignore nominations\n",
    "        try:\n",
    "            int(item['bill']['bill_id']) # Ignore treaty votes, etc.\n",
    "        except:\n",
    "            congress = item['congress']\n",
    "            session = item['session']\n",
    "            roll_call = item['roll_call']\n",
    "            date = item\n",
    "            csr_id = f'{congress}.{session}.{roll_call}'\n",
    "            bill_dict = {\n",
    "                'csr_id': csr_id,\n",
    "                'congress': congress,\n",
    "                'session': session,\n",
    "                'roll_call': roll_call,\n",
    "                'bill_id': item['bill']['bill_id'],\n",
    "                'date': vote['date']\n",
    "            }\n",
    "            bill_to_db.append(bill_dict)\n",
    "\n",
    "            for position in item['positions']:\n",
    "                vote_dict = {\n",
    "                    'sen_id': position['member_id'],\n",
    "                    'csr_id': csr_id,\n",
    "                    'position': position['vote_position']\n",
    "                }\n",
    "                votes.append(vote_dict)\n",
    "                if position['member_id'] not in sen_ids:\n",
    "                    new_sens.append(position['member_id'])"
   ]
  },
  {
   "cell_type": "code",
   "execution_count": 112,
   "metadata": {},
   "outputs": [
    {
     "data": {
      "text/plain": [
       "[]"
      ]
     },
     "execution_count": 112,
     "metadata": {},
     "output_type": "execute_result"
    }
   ],
   "source": [
    "new_sens"
   ]
  },
  {
   "cell_type": "code",
   "execution_count": null,
   "metadata": {},
   "outputs": [],
   "source": []
  }
 ],
 "metadata": {
  "kernelspec": {
   "display_name": "senate_env",
   "language": "python",
   "name": "senate_env"
  },
  "language_info": {
   "codemirror_mode": {
    "name": "ipython",
    "version": 3
   },
   "file_extension": ".py",
   "mimetype": "text/x-python",
   "name": "python",
   "nbconvert_exporter": "python",
   "pygments_lexer": "ipython3",
   "version": "3.8.3"
  }
 },
 "nbformat": 4,
 "nbformat_minor": 4
}
