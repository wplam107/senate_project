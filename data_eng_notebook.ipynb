{
 "cells": [
  {
   "cell_type": "markdown",
   "metadata": {},
   "source": [
    "# Data Engineering for Databases"
   ]
  },
  {
   "cell_type": "code",
   "execution_count": 30,
   "metadata": {
    "ExecuteTime": {
     "end_time": "2020-07-29T02:43:49.755437Z",
     "start_time": "2020-07-29T02:43:49.711860Z"
    }
   },
   "outputs": [],
   "source": [
    "import numpy as np\n",
    "import pandas as pd\n",
    "import pickle"
   ]
  },
  {
   "cell_type": "code",
   "execution_count": 91,
   "metadata": {
    "ExecuteTime": {
     "end_time": "2020-07-29T04:34:54.216022Z",
     "start_time": "2020-07-29T04:34:52.661624Z"
    }
   },
   "outputs": [],
   "source": [
    "with open('all_votes.p', 'rb') as f:\n",
    "    votes = pickle.load(f)\n",
    "    \n",
    "with open('temp_senators.p', 'rb') as f:\n",
    "    senators = pickle.load(f)"
   ]
  },
  {
   "cell_type": "markdown",
   "metadata": {},
   "source": [
    "## Preparing data for database insertion"
   ]
  },
  {
   "cell_type": "markdown",
   "metadata": {},
   "source": [
    "### Table for senate members\n",
    "- SEN_ID TEXT PRIMARY key NOT NULL\n",
    "- F_NAME TEXT NOT NULL\n",
    "- L_NAME TEXT NOT NULL\n",
    "- PARTY TEXT NOT NULL\n",
    "- GENDER TEXT NOT NULL\n",
    "- STATE TEXT NOT NULL"
   ]
  },
  {
   "cell_type": "code",
   "execution_count": 92,
   "metadata": {
    "ExecuteTime": {
     "end_time": "2020-07-29T04:34:57.661906Z",
     "start_time": "2020-07-29T04:34:57.648168Z"
    }
   },
   "outputs": [],
   "source": [
    "s_df = pd.DataFrame(senators)\n",
    "s_df.rename(columns={'id': 'sen_id'}, inplace=True)"
   ]
  },
  {
   "cell_type": "code",
   "execution_count": 93,
   "metadata": {
    "ExecuteTime": {
     "end_time": "2020-07-29T04:35:00.661531Z",
     "start_time": "2020-07-29T04:35:00.636470Z"
    }
   },
   "outputs": [
    {
     "data": {
      "text/html": [
       "<div>\n",
       "<style scoped>\n",
       "    .dataframe tbody tr th:only-of-type {\n",
       "        vertical-align: middle;\n",
       "    }\n",
       "\n",
       "    .dataframe tbody tr th {\n",
       "        vertical-align: top;\n",
       "    }\n",
       "\n",
       "    .dataframe thead th {\n",
       "        text-align: right;\n",
       "    }\n",
       "</style>\n",
       "<table border=\"1\" class=\"dataframe\">\n",
       "  <thead>\n",
       "    <tr style=\"text-align: right;\">\n",
       "      <th></th>\n",
       "      <th>sen_id</th>\n",
       "      <th>first_name</th>\n",
       "      <th>last_name</th>\n",
       "      <th>party</th>\n",
       "      <th>gender</th>\n",
       "      <th>state</th>\n",
       "    </tr>\n",
       "  </thead>\n",
       "  <tbody>\n",
       "    <tr>\n",
       "      <th>0</th>\n",
       "      <td>A000031</td>\n",
       "      <td>Brockman</td>\n",
       "      <td>Adams</td>\n",
       "      <td>D</td>\n",
       "      <td>None</td>\n",
       "      <td>WA</td>\n",
       "    </tr>\n",
       "    <tr>\n",
       "      <th>1</th>\n",
       "      <td>A000069</td>\n",
       "      <td>Daniel</td>\n",
       "      <td>Akaka</td>\n",
       "      <td>D</td>\n",
       "      <td>M</td>\n",
       "      <td>HI</td>\n",
       "    </tr>\n",
       "    <tr>\n",
       "      <th>2</th>\n",
       "      <td>A000219</td>\n",
       "      <td>William</td>\n",
       "      <td>Armstrong</td>\n",
       "      <td>R</td>\n",
       "      <td>M</td>\n",
       "      <td>CO</td>\n",
       "    </tr>\n",
       "    <tr>\n",
       "      <th>3</th>\n",
       "      <td>B000243</td>\n",
       "      <td>Max</td>\n",
       "      <td>Baucus</td>\n",
       "      <td>D</td>\n",
       "      <td>M</td>\n",
       "      <td>MT</td>\n",
       "    </tr>\n",
       "    <tr>\n",
       "      <th>4</th>\n",
       "      <td>B000401</td>\n",
       "      <td>Lloyd</td>\n",
       "      <td>Bentsen</td>\n",
       "      <td>D</td>\n",
       "      <td>None</td>\n",
       "      <td>TX</td>\n",
       "    </tr>\n",
       "  </tbody>\n",
       "</table>\n",
       "</div>"
      ],
      "text/plain": [
       "    sen_id first_name  last_name party gender state\n",
       "0  A000031   Brockman      Adams     D   None    WA\n",
       "1  A000069     Daniel      Akaka     D      M    HI\n",
       "2  A000219    William  Armstrong     R      M    CO\n",
       "3  B000243        Max     Baucus     D      M    MT\n",
       "4  B000401      Lloyd    Bentsen     D   None    TX"
      ]
     },
     "execution_count": 93,
     "metadata": {},
     "output_type": "execute_result"
    }
   ],
   "source": [
    "# Already in format for insertion into SQL database\n",
    "s_df.head()"
   ]
  },
  {
   "cell_type": "markdown",
   "metadata": {},
   "source": [
    "#### Check gender self-identification\n",
    "Determine senator gender self-identification to replace missing values: F - Female, M - Male, N - Non-Binary."
   ]
  },
  {
   "cell_type": "code",
   "execution_count": 94,
   "metadata": {
    "ExecuteTime": {
     "end_time": "2020-07-29T04:35:05.707606Z",
     "start_time": "2020-07-29T04:35:05.648400Z"
    }
   },
   "outputs": [
    {
     "data": {
      "text/html": [
       "<div>\n",
       "<style scoped>\n",
       "    .dataframe tbody tr th:only-of-type {\n",
       "        vertical-align: middle;\n",
       "    }\n",
       "\n",
       "    .dataframe tbody tr th {\n",
       "        vertical-align: top;\n",
       "    }\n",
       "\n",
       "    .dataframe thead th {\n",
       "        text-align: right;\n",
       "    }\n",
       "</style>\n",
       "<table border=\"1\" class=\"dataframe\">\n",
       "  <thead>\n",
       "    <tr style=\"text-align: right;\">\n",
       "      <th></th>\n",
       "      <th>sen_id</th>\n",
       "      <th>first_name</th>\n",
       "      <th>last_name</th>\n",
       "      <th>party</th>\n",
       "      <th>gender</th>\n",
       "      <th>state</th>\n",
       "    </tr>\n",
       "  </thead>\n",
       "  <tbody>\n",
       "    <tr>\n",
       "      <th>0</th>\n",
       "      <td>A000031</td>\n",
       "      <td>Brockman</td>\n",
       "      <td>Adams</td>\n",
       "      <td>D</td>\n",
       "      <td>None</td>\n",
       "      <td>WA</td>\n",
       "    </tr>\n",
       "    <tr>\n",
       "      <th>4</th>\n",
       "      <td>B000401</td>\n",
       "      <td>Lloyd</td>\n",
       "      <td>Bentsen</td>\n",
       "      <td>D</td>\n",
       "      <td>None</td>\n",
       "      <td>TX</td>\n",
       "    </tr>\n",
       "    <tr>\n",
       "      <th>9</th>\n",
       "      <td>B000647</td>\n",
       "      <td>Rudolph</td>\n",
       "      <td>Boschwitz</td>\n",
       "      <td>R</td>\n",
       "      <td>None</td>\n",
       "      <td>MN</td>\n",
       "    </tr>\n",
       "    <tr>\n",
       "      <th>14</th>\n",
       "      <td>B001077</td>\n",
       "      <td>Quentin</td>\n",
       "      <td>Burdick</td>\n",
       "      <td>D</td>\n",
       "      <td>None</td>\n",
       "      <td>ND</td>\n",
       "    </tr>\n",
       "    <tr>\n",
       "      <th>22</th>\n",
       "      <td>C000877</td>\n",
       "      <td>Alan</td>\n",
       "      <td>Cranston</td>\n",
       "      <td>D</td>\n",
       "      <td>None</td>\n",
       "      <td>CA</td>\n",
       "    </tr>\n",
       "    <tr>\n",
       "      <th>27</th>\n",
       "      <td>D000366</td>\n",
       "      <td>Alan</td>\n",
       "      <td>Dixon</td>\n",
       "      <td>D</td>\n",
       "      <td>None</td>\n",
       "      <td>IL</td>\n",
       "    </tr>\n",
       "    <tr>\n",
       "      <th>34</th>\n",
       "      <td>F000329</td>\n",
       "      <td>Wyche</td>\n",
       "      <td>Fowler</td>\n",
       "      <td>D</td>\n",
       "      <td>None</td>\n",
       "      <td>GA</td>\n",
       "    </tr>\n",
       "    <tr>\n",
       "      <th>49</th>\n",
       "      <td>H000951</td>\n",
       "      <td>Gordon</td>\n",
       "      <td>Humphrey</td>\n",
       "      <td>R</td>\n",
       "      <td>None</td>\n",
       "      <td>NH</td>\n",
       "    </tr>\n",
       "    <tr>\n",
       "      <th>66</th>\n",
       "      <td>M000250</td>\n",
       "      <td>Spark</td>\n",
       "      <td>Matsunaga</td>\n",
       "      <td>D</td>\n",
       "      <td>None</td>\n",
       "      <td>HI</td>\n",
       "    </tr>\n",
       "    <tr>\n",
       "      <th>79</th>\n",
       "      <td>P000513</td>\n",
       "      <td>Larry</td>\n",
       "      <td>Pressler</td>\n",
       "      <td>R</td>\n",
       "      <td>None</td>\n",
       "      <td>SD</td>\n",
       "    </tr>\n",
       "    <tr>\n",
       "      <th>95</th>\n",
       "      <td>S001138</td>\n",
       "      <td>Steven</td>\n",
       "      <td>Symms</td>\n",
       "      <td>R</td>\n",
       "      <td>None</td>\n",
       "      <td>ID</td>\n",
       "    </tr>\n",
       "  </tbody>\n",
       "</table>\n",
       "</div>"
      ],
      "text/plain": [
       "     sen_id first_name  last_name party gender state\n",
       "0   A000031   Brockman      Adams     D   None    WA\n",
       "4   B000401      Lloyd    Bentsen     D   None    TX\n",
       "9   B000647    Rudolph  Boschwitz     R   None    MN\n",
       "14  B001077    Quentin    Burdick     D   None    ND\n",
       "22  C000877       Alan   Cranston     D   None    CA\n",
       "27  D000366       Alan      Dixon     D   None    IL\n",
       "34  F000329      Wyche     Fowler     D   None    GA\n",
       "49  H000951     Gordon   Humphrey     R   None    NH\n",
       "66  M000250      Spark  Matsunaga     D   None    HI\n",
       "79  P000513      Larry   Pressler     R   None    SD\n",
       "95  S001138     Steven      Symms     R   None    ID"
      ]
     },
     "execution_count": 94,
     "metadata": {},
     "output_type": "execute_result"
    }
   ],
   "source": [
    "# Deal with gender NaN values\n",
    "s_df.loc[s_df['gender'].isna()]"
   ]
  },
  {
   "cell_type": "code",
   "execution_count": 95,
   "metadata": {
    "ExecuteTime": {
     "end_time": "2020-07-29T04:35:09.448431Z",
     "start_time": "2020-07-29T04:35:09.444386Z"
    }
   },
   "outputs": [],
   "source": [
    "gender = {0: 'M', 4: 'M', 9: 'M', 14: 'M', 22: 'M', 27: 'M', 34: 'M', 49: 'M', 66: 'M', 79: 'M', 95: 'M'}"
   ]
  },
  {
   "cell_type": "code",
   "execution_count": 96,
   "metadata": {
    "ExecuteTime": {
     "end_time": "2020-07-29T04:35:09.971341Z",
     "start_time": "2020-07-29T04:35:09.965482Z"
    }
   },
   "outputs": [],
   "source": [
    "# Correct data\n",
    "for k, v in gender.items():\n",
    "    s_df.iloc[k]['gender'] = v"
   ]
  },
  {
   "cell_type": "markdown",
   "metadata": {},
   "source": [
    "### Table for bills and table for votes\n",
    "#### Bills\n",
    "- CSR_ID TEXT PRIMARY key NOT NULL (unique primary key will be constructed from 'congress.session.roll_call')\n",
    "- CONGRESS INT NOT NULL\n",
    "- SESSION INT NOT NULL\n",
    "- DATE DATE NOT NULL\n",
    "- ROLL_CALL NOT NULL\n",
    "\n",
    "#### Votes\n",
    "- ID INT PRIMARY KEY NOT NULL AUTO INCREMENT\n",
    "- SEN_ID TEXT FOREIGN key NOT NULL\n",
    "- CSR_ID TEXT FOREIGN key NOT NULL\n",
    "- POSITION TEXT NOT NULL"
   ]
  },
  {
   "cell_type": "code",
   "execution_count": 99,
   "metadata": {
    "ExecuteTime": {
     "end_time": "2020-07-29T04:35:51.149908Z",
     "start_time": "2020-07-29T04:35:51.144828Z"
    }
   },
   "outputs": [
    {
     "data": {
      "text/plain": [
       "'-101'"
      ]
     },
     "execution_count": 99,
     "metadata": {},
     "output_type": "execute_result"
    }
   ],
   "source": [
    "# Some 'bills' are not bills but confirmations, treaty votes, etc. and will be dropped\n",
    "votes[0]['bill_id']"
   ]
  },
  {
   "cell_type": "code",
   "execution_count": 100,
   "metadata": {
    "ExecuteTime": {
     "end_time": "2020-07-29T04:35:52.854982Z",
     "start_time": "2020-07-29T04:35:51.752908Z"
    }
   },
   "outputs": [],
   "source": [
    "# Integer bill_ids are codes for special votes as mentioned above\n",
    "new_votes = []\n",
    "for vote in votes:\n",
    "    try:\n",
    "        int(vote['bill_id'])\n",
    "    except:\n",
    "        new_votes.append(vote)"
   ]
  },
  {
   "cell_type": "code",
   "execution_count": 101,
   "metadata": {
    "ExecuteTime": {
     "end_time": "2020-07-29T04:35:53.389251Z",
     "start_time": "2020-07-29T04:35:53.385125Z"
    }
   },
   "outputs": [
    {
     "name": "stdout",
     "output_type": "stream",
     "text": [
      "8949\n",
      "8401\n"
     ]
    }
   ],
   "source": [
    "print(len(votes))\n",
    "print(len(new_votes))"
   ]
  },
  {
   "cell_type": "code",
   "execution_count": 102,
   "metadata": {
    "ExecuteTime": {
     "end_time": "2020-07-29T04:37:12.196243Z",
     "start_time": "2020-07-29T04:37:10.186910Z"
    }
   },
   "outputs": [],
   "source": [
    "# List of bills for bills table\n",
    "bills = []\n",
    "\n",
    "# List of votes for votes table\n",
    "sen_votes = []\n",
    "\n",
    "for vote in new_votes:\n",
    "    vote['csr_id'] = f'{vote[\"congress\"]}.{vote[\"session\"]}.{vote[\"roll_call\"]}'\n",
    "    bill = {\n",
    "        'csr_id': vote['csr_id'],\n",
    "        'congress': vote['congress'],\n",
    "        'session': vote['session'],\n",
    "        'roll_call': vote['roll_call'],\n",
    "        'bill_id': vote['bill_id'],\n",
    "        'date': vote['date']\n",
    "    }\n",
    "    bills.append(bill)\n",
    "    \n",
    "    for position in vote['positions']:\n",
    "        p = {\n",
    "            'sen_id': position['member_id'],\n",
    "            'csr_id': vote['csr_id'],\n",
    "            'position': position['vote_position']\n",
    "        }\n",
    "        sen_votes.append(p)"
   ]
  },
  {
   "cell_type": "code",
   "execution_count": 103,
   "metadata": {
    "ExecuteTime": {
     "end_time": "2020-07-29T04:37:15.552122Z",
     "start_time": "2020-07-29T04:37:14.784563Z"
    }
   },
   "outputs": [
    {
     "data": {
      "text/html": [
       "<div>\n",
       "<style scoped>\n",
       "    .dataframe tbody tr th:only-of-type {\n",
       "        vertical-align: middle;\n",
       "    }\n",
       "\n",
       "    .dataframe tbody tr th {\n",
       "        vertical-align: top;\n",
       "    }\n",
       "\n",
       "    .dataframe thead th {\n",
       "        text-align: right;\n",
       "    }\n",
       "</style>\n",
       "<table border=\"1\" class=\"dataframe\">\n",
       "  <thead>\n",
       "    <tr style=\"text-align: right;\">\n",
       "      <th></th>\n",
       "      <th>sen_id</th>\n",
       "      <th>csr_id</th>\n",
       "      <th>position</th>\n",
       "    </tr>\n",
       "  </thead>\n",
       "  <tbody>\n",
       "    <tr>\n",
       "      <th>0</th>\n",
       "      <td>A000031</td>\n",
       "      <td>101.1.11</td>\n",
       "      <td>Yes</td>\n",
       "    </tr>\n",
       "    <tr>\n",
       "      <th>1</th>\n",
       "      <td>A000219</td>\n",
       "      <td>101.1.11</td>\n",
       "      <td>Yes</td>\n",
       "    </tr>\n",
       "    <tr>\n",
       "      <th>2</th>\n",
       "      <td>B000243</td>\n",
       "      <td>101.1.11</td>\n",
       "      <td>Yes</td>\n",
       "    </tr>\n",
       "    <tr>\n",
       "      <th>3</th>\n",
       "      <td>B000401</td>\n",
       "      <td>101.1.11</td>\n",
       "      <td>Yes</td>\n",
       "    </tr>\n",
       "    <tr>\n",
       "      <th>4</th>\n",
       "      <td>B000444</td>\n",
       "      <td>101.1.11</td>\n",
       "      <td>Yes</td>\n",
       "    </tr>\n",
       "    <tr>\n",
       "      <th>...</th>\n",
       "      <td>...</td>\n",
       "      <td>...</td>\n",
       "      <td>...</td>\n",
       "    </tr>\n",
       "    <tr>\n",
       "      <th>839168</th>\n",
       "      <td>W000817</td>\n",
       "      <td>116.2.140</td>\n",
       "      <td>No</td>\n",
       "    </tr>\n",
       "    <tr>\n",
       "      <th>839169</th>\n",
       "      <td>W000802</td>\n",
       "      <td>116.2.140</td>\n",
       "      <td>Yes</td>\n",
       "    </tr>\n",
       "    <tr>\n",
       "      <th>839170</th>\n",
       "      <td>W000437</td>\n",
       "      <td>116.2.140</td>\n",
       "      <td>Yes</td>\n",
       "    </tr>\n",
       "    <tr>\n",
       "      <th>839171</th>\n",
       "      <td>W000779</td>\n",
       "      <td>116.2.140</td>\n",
       "      <td>No</td>\n",
       "    </tr>\n",
       "    <tr>\n",
       "      <th>839172</th>\n",
       "      <td>Y000064</td>\n",
       "      <td>116.2.140</td>\n",
       "      <td>Yes</td>\n",
       "    </tr>\n",
       "  </tbody>\n",
       "</table>\n",
       "<p>839173 rows × 3 columns</p>\n",
       "</div>"
      ],
      "text/plain": [
       "         sen_id     csr_id position\n",
       "0       A000031   101.1.11      Yes\n",
       "1       A000219   101.1.11      Yes\n",
       "2       B000243   101.1.11      Yes\n",
       "3       B000401   101.1.11      Yes\n",
       "4       B000444   101.1.11      Yes\n",
       "...         ...        ...      ...\n",
       "839168  W000817  116.2.140       No\n",
       "839169  W000802  116.2.140      Yes\n",
       "839170  W000437  116.2.140      Yes\n",
       "839171  W000779  116.2.140       No\n",
       "839172  Y000064  116.2.140      Yes\n",
       "\n",
       "[839173 rows x 3 columns]"
      ]
     },
     "execution_count": 103,
     "metadata": {},
     "output_type": "execute_result"
    }
   ],
   "source": [
    "pd.DataFrame(sen_votes)"
   ]
  },
  {
   "cell_type": "code",
   "execution_count": 106,
   "metadata": {
    "ExecuteTime": {
     "end_time": "2020-07-29T04:39:01.602284Z",
     "start_time": "2020-07-29T04:39:01.416260Z"
    }
   },
   "outputs": [
    {
     "data": {
      "text/html": [
       "<div>\n",
       "<style scoped>\n",
       "    .dataframe tbody tr th:only-of-type {\n",
       "        vertical-align: middle;\n",
       "    }\n",
       "\n",
       "    .dataframe tbody tr th {\n",
       "        vertical-align: top;\n",
       "    }\n",
       "\n",
       "    .dataframe thead th {\n",
       "        text-align: right;\n",
       "    }\n",
       "</style>\n",
       "<table border=\"1\" class=\"dataframe\">\n",
       "  <thead>\n",
       "    <tr style=\"text-align: right;\">\n",
       "      <th></th>\n",
       "      <th>csr_id</th>\n",
       "      <th>congress</th>\n",
       "      <th>session</th>\n",
       "      <th>roll_call</th>\n",
       "      <th>bill_id</th>\n",
       "      <th>date</th>\n",
       "    </tr>\n",
       "  </thead>\n",
       "  <tbody>\n",
       "    <tr>\n",
       "      <th>0</th>\n",
       "      <td>101.1.11</td>\n",
       "      <td>101</td>\n",
       "      <td>1</td>\n",
       "      <td>11</td>\n",
       "      <td>s.j.res.7-101</td>\n",
       "      <td>1989-02-02</td>\n",
       "    </tr>\n",
       "    <tr>\n",
       "      <th>1</th>\n",
       "      <td>101.1.12</td>\n",
       "      <td>101</td>\n",
       "      <td>1</td>\n",
       "      <td>12</td>\n",
       "      <td>h.j.res.129-101</td>\n",
       "      <td>1989-02-07</td>\n",
       "    </tr>\n",
       "    <tr>\n",
       "      <th>2</th>\n",
       "      <td>101.1.14</td>\n",
       "      <td>101</td>\n",
       "      <td>1</td>\n",
       "      <td>14</td>\n",
       "      <td>s.res.66-101</td>\n",
       "      <td>1989-02-28</td>\n",
       "    </tr>\n",
       "    <tr>\n",
       "      <th>3</th>\n",
       "      <td>101.1.15</td>\n",
       "      <td>101</td>\n",
       "      <td>1</td>\n",
       "      <td>15</td>\n",
       "      <td>s.res.66-101</td>\n",
       "      <td>1989-02-28</td>\n",
       "    </tr>\n",
       "    <tr>\n",
       "      <th>4</th>\n",
       "      <td>101.1.24</td>\n",
       "      <td>101</td>\n",
       "      <td>1</td>\n",
       "      <td>24</td>\n",
       "      <td>s.20-101</td>\n",
       "      <td>1989-03-16</td>\n",
       "    </tr>\n",
       "    <tr>\n",
       "      <th>...</th>\n",
       "      <td>...</td>\n",
       "      <td>...</td>\n",
       "      <td>...</td>\n",
       "      <td>...</td>\n",
       "      <td>...</td>\n",
       "      <td>...</td>\n",
       "    </tr>\n",
       "    <tr>\n",
       "      <th>8396</th>\n",
       "      <td>116.2.136</td>\n",
       "      <td>116</td>\n",
       "      <td>2</td>\n",
       "      <td>136</td>\n",
       "      <td>s4049-116</td>\n",
       "      <td>2020-07-22</td>\n",
       "    </tr>\n",
       "    <tr>\n",
       "      <th>8397</th>\n",
       "      <td>116.2.137</td>\n",
       "      <td>116</td>\n",
       "      <td>2</td>\n",
       "      <td>137</td>\n",
       "      <td>s4049-116</td>\n",
       "      <td>2020-07-22</td>\n",
       "    </tr>\n",
       "    <tr>\n",
       "      <th>8398</th>\n",
       "      <td>116.2.138</td>\n",
       "      <td>116</td>\n",
       "      <td>2</td>\n",
       "      <td>138</td>\n",
       "      <td>s4049-116</td>\n",
       "      <td>2020-07-23</td>\n",
       "    </tr>\n",
       "    <tr>\n",
       "      <th>8399</th>\n",
       "      <td>116.2.139</td>\n",
       "      <td>116</td>\n",
       "      <td>2</td>\n",
       "      <td>139</td>\n",
       "      <td>s4049-116</td>\n",
       "      <td>2020-07-23</td>\n",
       "    </tr>\n",
       "    <tr>\n",
       "      <th>8400</th>\n",
       "      <td>116.2.140</td>\n",
       "      <td>116</td>\n",
       "      <td>2</td>\n",
       "      <td>140</td>\n",
       "      <td>s4049-116</td>\n",
       "      <td>2020-07-23</td>\n",
       "    </tr>\n",
       "  </tbody>\n",
       "</table>\n",
       "<p>8401 rows × 6 columns</p>\n",
       "</div>"
      ],
      "text/plain": [
       "         csr_id  congress  session  roll_call          bill_id        date\n",
       "0      101.1.11       101        1         11    s.j.res.7-101  1989-02-02\n",
       "1      101.1.12       101        1         12  h.j.res.129-101  1989-02-07\n",
       "2      101.1.14       101        1         14     s.res.66-101  1989-02-28\n",
       "3      101.1.15       101        1         15     s.res.66-101  1989-02-28\n",
       "4      101.1.24       101        1         24         s.20-101  1989-03-16\n",
       "...         ...       ...      ...        ...              ...         ...\n",
       "8396  116.2.136       116        2        136        s4049-116  2020-07-22\n",
       "8397  116.2.137       116        2        137        s4049-116  2020-07-22\n",
       "8398  116.2.138       116        2        138        s4049-116  2020-07-23\n",
       "8399  116.2.139       116        2        139        s4049-116  2020-07-23\n",
       "8400  116.2.140       116        2        140        s4049-116  2020-07-23\n",
       "\n",
       "[8401 rows x 6 columns]"
      ]
     },
     "execution_count": 106,
     "metadata": {},
     "output_type": "execute_result"
    }
   ],
   "source": [
    "pd.DataFrame(bills)"
   ]
  },
  {
   "cell_type": "code",
   "execution_count": null,
   "metadata": {},
   "outputs": [],
   "source": []
  }
 ],
 "metadata": {
  "kernelspec": {
   "display_name": "senate_env",
   "language": "python",
   "name": "senate_env"
  },
  "language_info": {
   "codemirror_mode": {
    "name": "ipython",
    "version": 3
   },
   "file_extension": ".py",
   "mimetype": "text/x-python",
   "name": "python",
   "nbconvert_exporter": "python",
   "pygments_lexer": "ipython3",
   "version": "3.8.3"
  },
  "toc": {
   "base_numbering": 1,
   "nav_menu": {},
   "number_sections": true,
   "sideBar": true,
   "skip_h1_title": false,
   "title_cell": "Table of Contents",
   "title_sidebar": "Contents",
   "toc_cell": false,
   "toc_position": {},
   "toc_section_display": true,
   "toc_window_display": false
  }
 },
 "nbformat": 4,
 "nbformat_minor": 4
}
