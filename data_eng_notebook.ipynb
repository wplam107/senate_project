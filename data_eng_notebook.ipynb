{
 "cells": [
  {
   "cell_type": "markdown",
   "metadata": {},
   "source": [
    "# Data Engineering for AWS RDS PostgreSQL DB"
   ]
  },
  {
   "cell_type": "code",
   "execution_count": 1,
   "metadata": {
    "ExecuteTime": {
     "end_time": "2020-07-30T17:20:56.225364Z",
     "start_time": "2020-07-30T17:20:56.195710Z"
    }
   },
   "outputs": [],
   "source": [
    "import pickle\n",
    "from datetime import date\n",
    "\n",
    "import psycopg2\n",
    "from psycopg2.extensions import ISOLATION_LEVEL_AUTOCOMMIT\n",
    "\n",
    "import configparser"
   ]
  },
  {
   "cell_type": "code",
   "execution_count": 17,
   "metadata": {
    "ExecuteTime": {
     "end_time": "2020-07-30T17:33:58.565498Z",
     "start_time": "2020-07-30T17:33:57.068019Z"
    }
   },
   "outputs": [],
   "source": [
    "with open('all_votes.p', 'rb') as f:\n",
    "    votes = pickle.load(f)\n",
    "    \n",
    "with open('temp_senators.p', 'rb') as f:\n",
    "    senators = pickle.load(f)"
   ]
  },
  {
   "cell_type": "markdown",
   "metadata": {},
   "source": [
    "## Preparing data for database insertion"
   ]
  },
  {
   "cell_type": "markdown",
   "metadata": {},
   "source": [
    "### Table for senate members\n",
    "- SEN_ID TEXT PRIMARY key NOT NULL\n",
    "- F_NAME TEXT NOT NULL\n",
    "- L_NAME TEXT NOT NULL\n",
    "- PARTY TEXT NOT NULL\n",
    "- GENDER TEXT NOT NULL\n",
    "- STATE TEXT NOT NULL"
   ]
  },
  {
   "cell_type": "code",
   "execution_count": 18,
   "metadata": {
    "ExecuteTime": {
     "end_time": "2020-07-30T17:33:59.582920Z",
     "start_time": "2020-07-30T17:33:59.577901Z"
    }
   },
   "outputs": [
    {
     "data": {
      "text/plain": [
       "{'id': 'A000031',\n",
       " 'first_name': 'Brockman',\n",
       " 'last_name': 'Adams',\n",
       " 'party': 'D',\n",
       " 'gender': None,\n",
       " 'state': 'WA'}"
      ]
     },
     "execution_count": 18,
     "metadata": {},
     "output_type": "execute_result"
    }
   ],
   "source": [
    "# Already in format for insertion into SQL database\n",
    "senators[0]"
   ]
  },
  {
   "cell_type": "markdown",
   "metadata": {},
   "source": [
    "#### Check gender self-identification\n",
    "Determine senator gender self-identification to replace missing values: F - Female, M - Male, N - Non-Binary."
   ]
  },
  {
   "cell_type": "code",
   "execution_count": 19,
   "metadata": {
    "ExecuteTime": {
     "end_time": "2020-07-30T17:34:05.505342Z",
     "start_time": "2020-07-30T17:34:05.498907Z"
    }
   },
   "outputs": [
    {
     "name": "stdout",
     "output_type": "stream",
     "text": [
      "A000031 Brockman Adams\n",
      "B000401 Lloyd Bentsen\n",
      "B000647 Rudolph Boschwitz\n",
      "B001077 Quentin Burdick\n",
      "C000877 Alan Cranston\n",
      "D000366 Alan Dixon\n",
      "F000329 Wyche Fowler\n",
      "H000951 Gordon Humphrey\n",
      "M000250 Spark Matsunaga\n",
      "P000513 Larry Pressler\n",
      "S001138 Steven Symms\n"
     ]
    }
   ],
   "source": [
    "# Deal with gender NaN values\n",
    "for senator in senators:\n",
    "    if senator['gender'] == None:\n",
    "        print(senator['id'], f'{senator[\"first_name\"]} {senator[\"last_name\"]}')"
   ]
  },
  {
   "cell_type": "code",
   "execution_count": 20,
   "metadata": {
    "ExecuteTime": {
     "end_time": "2020-07-30T17:34:05.863021Z",
     "start_time": "2020-07-30T17:34:05.859117Z"
    }
   },
   "outputs": [],
   "source": [
    "# Manual look up\n",
    "gender = {'A000031': 'M',\n",
    "          'B000401': 'M',\n",
    "          'B000647': 'M',\n",
    "          'B001077': 'M',\n",
    "          'C000877': 'M',\n",
    "          'D000366': 'M',\n",
    "          'F000329': 'M',\n",
    "          'H000951': 'M',\n",
    "          'M000250': 'M',\n",
    "          'P000513': 'M',\n",
    "          'S001138': 'M'}"
   ]
  },
  {
   "cell_type": "code",
   "execution_count": 21,
   "metadata": {
    "ExecuteTime": {
     "end_time": "2020-07-30T17:34:07.142928Z",
     "start_time": "2020-07-30T17:34:07.137925Z"
    }
   },
   "outputs": [],
   "source": [
    "# Correct data\n",
    "for senator in senators:\n",
    "    for k, v in gender.items():\n",
    "        if senator['id'] == k:\n",
    "            senator['gender'] = v\n",
    "        else:\n",
    "            continue"
   ]
  },
  {
   "cell_type": "code",
   "execution_count": 22,
   "metadata": {
    "ExecuteTime": {
     "end_time": "2020-07-30T17:34:12.239978Z",
     "start_time": "2020-07-30T17:34:12.235092Z"
    }
   },
   "outputs": [
    {
     "data": {
      "text/plain": [
       "{'id': 'A000031',\n",
       " 'first_name': 'Brockman',\n",
       " 'last_name': 'Adams',\n",
       " 'party': 'D',\n",
       " 'gender': 'M',\n",
       " 'state': 'WA'}"
      ]
     },
     "execution_count": 22,
     "metadata": {},
     "output_type": "execute_result"
    }
   ],
   "source": [
    "senators[0]"
   ]
  },
  {
   "cell_type": "markdown",
   "metadata": {},
   "source": [
    "### Table for bills and table for votes\n",
    "#### Bills\n",
    "- CSR_ID TEXT PRIMARY key NOT NULL (unique primary key will be constructed from 'congress.session.roll_call')\n",
    "- CONGRESS INT NOT NULL\n",
    "- SESSION INT NOT NULL\n",
    "- ROLL_CALL INT NOT NULL\n",
    "- DATE DATE NOT NULL\n",
    "\n",
    "#### Votes\n",
    "- ID INT PRIMARY KEY NOT NULL AUTO INCREMENT\n",
    "- SEN_ID TEXT FOREIGN key NOT NULL\n",
    "- CSR_ID TEXT FOREIGN key NOT NULL\n",
    "- POSITION TEXT NOT NULL"
   ]
  },
  {
   "cell_type": "code",
   "execution_count": 23,
   "metadata": {
    "ExecuteTime": {
     "end_time": "2020-07-30T17:34:15.734038Z",
     "start_time": "2020-07-30T17:34:15.729350Z"
    }
   },
   "outputs": [
    {
     "data": {
      "text/plain": [
       "'-101'"
      ]
     },
     "execution_count": 23,
     "metadata": {},
     "output_type": "execute_result"
    }
   ],
   "source": [
    "# Some 'bills' are not bills but confirmations, treaty votes, etc. and will be dropped\n",
    "votes[0]['bill_id'] # '-101'"
   ]
  },
  {
   "cell_type": "code",
   "execution_count": 24,
   "metadata": {
    "ExecuteTime": {
     "end_time": "2020-07-30T17:34:27.127684Z",
     "start_time": "2020-07-30T17:34:27.105319Z"
    }
   },
   "outputs": [],
   "source": [
    "# Integer bill_ids are codes for special votes as mentioned above\n",
    "new_votes = []\n",
    "for vote in votes:\n",
    "    try:\n",
    "        int(vote['bill_id'])\n",
    "    except:\n",
    "        new_votes.append(vote)"
   ]
  },
  {
   "cell_type": "code",
   "execution_count": 25,
   "metadata": {
    "ExecuteTime": {
     "end_time": "2020-07-30T17:34:28.614028Z",
     "start_time": "2020-07-30T17:34:28.610184Z"
    }
   },
   "outputs": [
    {
     "name": "stdout",
     "output_type": "stream",
     "text": [
      "8949\n",
      "8401\n"
     ]
    }
   ],
   "source": [
    "print(len(votes)) # 8949\n",
    "print(len(new_votes)) # 8401"
   ]
  },
  {
   "cell_type": "code",
   "execution_count": 26,
   "metadata": {
    "ExecuteTime": {
     "end_time": "2020-07-30T17:34:42.998870Z",
     "start_time": "2020-07-30T17:34:41.960507Z"
    }
   },
   "outputs": [],
   "source": [
    "# List of bills for bills table\n",
    "dict_bills = []\n",
    "\n",
    "# List of votes for votes table\n",
    "dict_votes = []\n",
    "\n",
    "for vote in new_votes:\n",
    "    vote['csr_id'] = f'{vote[\"congress\"]}.{vote[\"session\"]}.{vote[\"roll_call\"]}'\n",
    "    bill = {\n",
    "        'csr_id': vote['csr_id'],\n",
    "        'congress': vote['congress'],\n",
    "        'session': vote['session'],\n",
    "        'roll_call': vote['roll_call'],\n",
    "        'bill_id': vote['bill_id'],\n",
    "        'date': vote['date']\n",
    "    }\n",
    "    dict_bills.append(bill)\n",
    "    \n",
    "    for position in vote['positions']:\n",
    "        p = {\n",
    "            'sen_id': position['member_id'],\n",
    "            'csr_id': vote['csr_id'],\n",
    "            'position': position['vote_position']\n",
    "        }\n",
    "        dict_votes.append(p)"
   ]
  },
  {
   "cell_type": "code",
   "execution_count": 27,
   "metadata": {
    "ExecuteTime": {
     "end_time": "2020-07-30T17:34:43.989435Z",
     "start_time": "2020-07-30T17:34:43.985102Z"
    }
   },
   "outputs": [
    {
     "data": {
      "text/plain": [
       "{'sen_id': 'A000031', 'csr_id': '101.1.11', 'position': 'Yes'}"
      ]
     },
     "execution_count": 27,
     "metadata": {},
     "output_type": "execute_result"
    }
   ],
   "source": [
    "dict_votes[0]"
   ]
  },
  {
   "cell_type": "code",
   "execution_count": 28,
   "metadata": {
    "ExecuteTime": {
     "end_time": "2020-07-30T17:34:45.255572Z",
     "start_time": "2020-07-30T17:34:45.250043Z"
    }
   },
   "outputs": [
    {
     "data": {
      "text/plain": [
       "{'csr_id': '101.1.11',\n",
       " 'congress': 101,\n",
       " 'session': 1,\n",
       " 'roll_call': 11,\n",
       " 'bill_id': 's.j.res.7-101',\n",
       " 'date': '1989-02-02'}"
      ]
     },
     "execution_count": 28,
     "metadata": {},
     "output_type": "execute_result"
    }
   ],
   "source": [
    "dict_bills[0]"
   ]
  },
  {
   "cell_type": "markdown",
   "metadata": {},
   "source": [
    "## Data to Database\n",
    "Each table was inserted one at a time (it is far more efficient to create a list of tables to be inserted)."
   ]
  },
  {
   "cell_type": "code",
   "execution_count": null,
   "metadata": {
    "ExecuteTime": {
     "end_time": "2020-07-29T18:48:44.621649Z",
     "start_time": "2020-07-29T18:48:44.615695Z"
    }
   },
   "outputs": [],
   "source": [
    "config = configparser.ConfigParser()\n",
    "config.read('config.ini')\n",
    "ENDPOINT = config.get('aws', 'ENDPOINT')\n",
    "PORT = config.get('aws', 'PORT')\n",
    "USR = config.get('aws', 'USER')\n",
    "PWD = config.get('aws', 'PASSWORD')"
   ]
  },
  {
   "cell_type": "code",
   "execution_count": null,
   "metadata": {
    "ExecuteTime": {
     "end_time": "2020-07-29T18:48:45.265793Z",
     "start_time": "2020-07-29T18:48:45.007586Z"
    }
   },
   "outputs": [],
   "source": [
    "# Establish connection to AWS\n",
    "conn = psycopg2.connect(\n",
    "    host=ENDPOINT,\n",
    "    user=USR,\n",
    "    password=PWD,\n",
    "    port=PORT,\n",
    ")\n",
    "\n",
    "# Set connection to autocommit\n",
    "conn.set_isolation_level(ISOLATION_LEVEL_AUTOCOMMIT)"
   ]
  },
  {
   "cell_type": "code",
   "execution_count": null,
   "metadata": {
    "ExecuteTime": {
     "end_time": "2020-07-29T19:08:22.856135Z",
     "start_time": "2020-07-29T19:08:22.820310Z"
    }
   },
   "outputs": [],
   "source": [
    "# Instantiate cursor\n",
    "cursor = conn.cursor()"
   ]
  },
  {
   "cell_type": "code",
   "execution_count": null,
   "metadata": {
    "ExecuteTime": {
     "end_time": "2020-07-29T19:08:24.514535Z",
     "start_time": "2020-07-29T19:08:24.099136Z"
    }
   },
   "outputs": [],
   "source": [
    "# Create sen_db\n",
    "# DO NOT RUN\n",
    "# cursor.execute(\"CREATE DATABASE sen_db;\")"
   ]
  },
  {
   "cell_type": "code",
   "execution_count": null,
   "metadata": {
    "ExecuteTime": {
     "end_time": "2020-07-29T19:53:02.674273Z",
     "start_time": "2020-07-29T19:53:02.464571Z"
    }
   },
   "outputs": [],
   "source": [
    "# Connect to database\n",
    "DB = config.get('aws', 'DATABASE')\n",
    "\n",
    "conn = psycopg2.connect(\n",
    "    host=ENDPOINT,\n",
    "    user=USR,\n",
    "    password=PWD,\n",
    "    port=PORT,\n",
    "    database=DB,\n",
    ")\n",
    "\n",
    "conn.set_isolation_level(ISOLATION_LEVEL_AUTOCOMMIT)\n",
    "cursor = conn.cursor()"
   ]
  },
  {
   "cell_type": "markdown",
   "metadata": {},
   "source": [
    "### Senators Table"
   ]
  },
  {
   "cell_type": "code",
   "execution_count": null,
   "metadata": {
    "ExecuteTime": {
     "end_time": "2020-07-29T19:55:23.119547Z",
     "start_time": "2020-07-29T19:55:23.117125Z"
    }
   },
   "outputs": [],
   "source": [
    "# Create senators table\n",
    "# DO NOT RUN\n",
    "# cursor.execute(\n",
    "#     \"\"\"\n",
    "#     CREATE TABLE senators (\n",
    "#     sen_id TEXT PRIMARY KEY NOT NULL,\n",
    "#     f_name TEXT NOT NULL,\n",
    "#     l_name TEXT NOT NULL,\n",
    "#     party TEXT NOT NULL,\n",
    "#     gender TEXT NOT NULL,\n",
    "#     state TEXT NOT NULL\n",
    "#     );\n",
    "#     \"\"\"\n",
    "# )"
   ]
  },
  {
   "cell_type": "code",
   "execution_count": null,
   "metadata": {
    "ExecuteTime": {
     "end_time": "2020-07-29T19:54:14.833553Z",
     "start_time": "2020-07-29T19:54:14.830834Z"
    }
   },
   "outputs": [],
   "source": [
    "# Add senator operation for cursor execution\n",
    "add_senator = (\n",
    "    \"\"\"\n",
    "    INSERT INTO senators (sen_id, f_name, l_name, party, gender, state)\n",
    "    VALUES (%s, %s, %s, %s, %s, %s);\n",
    "    \"\"\"\n",
    ")"
   ]
  },
  {
   "cell_type": "code",
   "execution_count": null,
   "metadata": {
    "ExecuteTime": {
     "end_time": "2020-07-29T19:54:15.338798Z",
     "start_time": "2020-07-29T19:54:15.333786Z"
    }
   },
   "outputs": [],
   "source": [
    "# Create list of rows to insert\n",
    "sen_data = []\n",
    "for senator in senators:\n",
    "    data = (\n",
    "        senator['id'],\n",
    "        senator['first_name'],\n",
    "        senator['last_name'],\n",
    "        senator['party'],\n",
    "        senator['gender'],\n",
    "        senator['state']\n",
    "    )\n",
    "    sen_data.append(data)"
   ]
  },
  {
   "cell_type": "code",
   "execution_count": null,
   "metadata": {
    "ExecuteTime": {
     "end_time": "2020-07-29T19:54:24.137600Z",
     "start_time": "2020-07-29T19:54:16.021820Z"
    }
   },
   "outputs": [],
   "source": [
    "# Insert rows\n",
    "# DO NOT RUN\n",
    "# cursor.executemany(add_senator, sen_data)"
   ]
  },
  {
   "cell_type": "code",
   "execution_count": null,
   "metadata": {
    "ExecuteTime": {
     "end_time": "2020-07-29T19:57:49.126454Z",
     "start_time": "2020-07-29T19:57:49.087919Z"
    }
   },
   "outputs": [],
   "source": [
    "print('Number of rows in database:', cursor.rowcount) # 292\n",
    "print('Number of senators:', len(senators)) # 292"
   ]
  },
  {
   "cell_type": "markdown",
   "metadata": {},
   "source": [
    "### Bills Table"
   ]
  },
  {
   "cell_type": "code",
   "execution_count": null,
   "metadata": {
    "ExecuteTime": {
     "end_time": "2020-07-29T20:15:52.308091Z",
     "start_time": "2020-07-29T20:15:52.082998Z"
    }
   },
   "outputs": [],
   "source": [
    "# Create bills table\n",
    "# DO NOT RUN\n",
    "# cursor.execute(\n",
    "#     \"\"\"\n",
    "#     CREATE TABLE bills (\n",
    "#     csr_id TEXT PRIMARY KEY NOT NULL,\n",
    "#     congress INT NOT NULL,\n",
    "#     session INT NOT NULL,\n",
    "#     roll_call INT NOT NULL,\n",
    "#     bill_id TEXT NOT NULL,\n",
    "#     date DATE NOT NULL\n",
    "#     );\n",
    "#     \"\"\"\n",
    "# )"
   ]
  },
  {
   "cell_type": "code",
   "execution_count": null,
   "metadata": {
    "ExecuteTime": {
     "end_time": "2020-07-29T20:19:10.883892Z",
     "start_time": "2020-07-29T20:19:10.880369Z"
    }
   },
   "outputs": [],
   "source": [
    "# Add bill operation for cursor execution\n",
    "add_bill = (\n",
    "    \"\"\"\n",
    "    INSERT INTO bills (csr_id, congress, session, roll_call, bill_id, date)\n",
    "    VALUES (%s, %s, %s, %s, %s, %s);\n",
    "    \"\"\"\n",
    ")"
   ]
  },
  {
   "cell_type": "code",
   "execution_count": null,
   "metadata": {
    "ExecuteTime": {
     "end_time": "2020-07-29T20:19:11.384982Z",
     "start_time": "2020-07-29T20:19:11.347441Z"
    }
   },
   "outputs": [],
   "source": [
    "# Create list of rows to insert\n",
    "bill_data = []\n",
    "for bill in dict_bills:\n",
    "    ymd = [ int(x) for x in bill['date'].split('-') ]\n",
    "    data = (\n",
    "        bill['csr_id'],\n",
    "        bill['congress'],\n",
    "        bill['session'],\n",
    "        bill['roll_call'],\n",
    "        bill['bill_id'],\n",
    "        date(ymd[0], ymd[1], ymd[2])\n",
    "    )\n",
    "    bill_data.append(data)"
   ]
  },
  {
   "cell_type": "code",
   "execution_count": null,
   "metadata": {
    "ExecuteTime": {
     "end_time": "2020-07-29T20:23:04.532179Z",
     "start_time": "2020-07-29T20:19:12.237168Z"
    }
   },
   "outputs": [],
   "source": [
    "# Insert rows\n",
    "# DO NOT RUN\n",
    "# cursor.executemany(add_bill, bill_data)"
   ]
  },
  {
   "cell_type": "code",
   "execution_count": null,
   "metadata": {
    "ExecuteTime": {
     "end_time": "2020-07-29T20:23:04.546473Z",
     "start_time": "2020-07-29T20:23:04.539108Z"
    }
   },
   "outputs": [],
   "source": [
    "print('Number of rows in database:', cursor.rowcount) # 8401\n",
    "print('Number of bills:', len(dict_bills)) # 8401"
   ]
  },
  {
   "cell_type": "markdown",
   "metadata": {},
   "source": [
    "### Votes Table"
   ]
  },
  {
   "cell_type": "code",
   "execution_count": null,
   "metadata": {
    "ExecuteTime": {
     "end_time": "2020-07-29T21:11:09.003302Z",
     "start_time": "2020-07-29T21:11:08.920355Z"
    }
   },
   "outputs": [],
   "source": [
    "# Create votes table, id is autoincrement\n",
    "# DO NOT RUN\n",
    "# cursor.execute(\n",
    "#     \"\"\"\n",
    "#     CREATE TABLE votes (\n",
    "#     id SERIAL PRIMARY KEY,\n",
    "#     sen_id TEXT references senators(sen_id),\n",
    "#     csr_id TEXT references bills(csr_id),\n",
    "#     position TEXT NOT NULL\n",
    "#     );\n",
    "#     \"\"\"\n",
    "# )"
   ]
  },
  {
   "cell_type": "code",
   "execution_count": null,
   "metadata": {
    "ExecuteTime": {
     "end_time": "2020-07-29T21:12:53.192093Z",
     "start_time": "2020-07-29T21:12:53.179545Z"
    }
   },
   "outputs": [],
   "source": [
    "# Add vote operation for cursor execution\n",
    "add_vote = (\n",
    "    \"\"\"\n",
    "    INSERT INTO votes (sen_id, csr_id, position)\n",
    "    VALUES (%s, %s, %s);\n",
    "    \"\"\"\n",
    ")"
   ]
  },
  {
   "cell_type": "code",
   "execution_count": null,
   "metadata": {
    "ExecuteTime": {
     "end_time": "2020-07-29T21:14:20.000223Z",
     "start_time": "2020-07-29T21:14:19.487921Z"
    }
   },
   "outputs": [],
   "source": [
    "# Create list of rows to insert\n",
    "vote_data = []\n",
    "for vote in dict_votes:\n",
    "    data = (\n",
    "        vote['sen_id'],\n",
    "        vote['csr_id'],\n",
    "        vote['position']\n",
    "    )\n",
    "    vote_data.append(data)"
   ]
  },
  {
   "cell_type": "code",
   "execution_count": null,
   "metadata": {
    "ExecuteTime": {
     "end_time": "2020-07-30T04:16:19.232080Z",
     "start_time": "2020-07-29T21:15:28.157965Z"
    }
   },
   "outputs": [],
   "source": [
    "# Insert rows\n",
    "# DO NOT RUN\n",
    "# cursor.executemany(add_vote, vote_data)"
   ]
  },
  {
   "cell_type": "code",
   "execution_count": null,
   "metadata": {
    "ExecuteTime": {
     "end_time": "2020-07-30T04:16:19.411617Z",
     "start_time": "2020-07-30T04:16:19.314060Z"
    }
   },
   "outputs": [],
   "source": [
    "print('Number of rows in database:', cursor.rowcount) # 839173\n",
    "print('Number of bills:', len(dict_votes)) # 839173"
   ]
  },
  {
   "cell_type": "markdown",
   "metadata": {},
   "source": [
    "## Cleaning out the Database\n",
    "Prior to loading onto the database, the data should have been pre-filtered to only current senators and only votes made by current senators.  Here we will find the current senate members and remove the extraneous senators and votes.\n",
    "\n",
    "(Note: several senators have been serving longer than the time frame of votes all bills will be saved)."
   ]
  },
  {
   "cell_type": "code",
   "execution_count": 68,
   "metadata": {
    "ExecuteTime": {
     "end_time": "2020-07-30T19:16:05.229329Z",
     "start_time": "2020-07-30T19:16:05.222500Z"
    }
   },
   "outputs": [],
   "source": [
    "config = configparser.ConfigParser()\n",
    "config.read('config.ini')\n",
    "ENDPOINT = config.get('aws', 'ENDPOINT')\n",
    "PORT = config.get('aws', 'PORT')\n",
    "USR = config.get('aws', 'USER')\n",
    "PWD = config.get('aws', 'PASSWORD')\n",
    "DB = config.get('aws', 'DATABASE')"
   ]
  },
  {
   "cell_type": "code",
   "execution_count": 69,
   "metadata": {
    "ExecuteTime": {
     "end_time": "2020-07-30T19:16:06.978702Z",
     "start_time": "2020-07-30T19:16:06.754302Z"
    }
   },
   "outputs": [],
   "source": [
    "# Establish connection to AWS\n",
    "conn = psycopg2.connect(\n",
    "    host=ENDPOINT,\n",
    "    user=USR,\n",
    "    password=PWD,\n",
    "    port=PORT,\n",
    "    database=DB\n",
    ")\n",
    "\n",
    "# Set connection to autocommit\n",
    "conn.set_isolation_level(ISOLATION_LEVEL_AUTOCOMMIT)"
   ]
  },
  {
   "cell_type": "code",
   "execution_count": 70,
   "metadata": {
    "ExecuteTime": {
     "end_time": "2020-07-30T19:16:08.613991Z",
     "start_time": "2020-07-30T19:16:08.609665Z"
    }
   },
   "outputs": [],
   "source": [
    "# Instantiate cursor\n",
    "cursor = conn.cursor()"
   ]
  },
  {
   "cell_type": "code",
   "execution_count": 9,
   "metadata": {
    "ExecuteTime": {
     "end_time": "2020-07-30T17:30:29.234419Z",
     "start_time": "2020-07-30T17:30:29.116693Z"
    }
   },
   "outputs": [],
   "source": [
    "# Find current senators\n",
    "cursor.execute(\n",
    "    \"\"\"\n",
    "    SELECT sen_id FROM votes\n",
    "    WHERE csr_id = '116.2.140'\n",
    "    ;\n",
    "    \"\"\"\n",
    ")\n",
    "\n",
    "current_senators = cursor.fetchall()"
   ]
  },
  {
   "cell_type": "code",
   "execution_count": 11,
   "metadata": {
    "ExecuteTime": {
     "end_time": "2020-07-30T17:30:41.311800Z",
     "start_time": "2020-07-30T17:30:41.307643Z"
    }
   },
   "outputs": [
    {
     "data": {
      "text/plain": [
       "100"
      ]
     },
     "execution_count": 11,
     "metadata": {},
     "output_type": "execute_result"
    }
   ],
   "source": [
    "# Check number of senators\n",
    "len(current_senators) # 100"
   ]
  },
  {
   "cell_type": "code",
   "execution_count": 13,
   "metadata": {
    "ExecuteTime": {
     "end_time": "2020-07-30T17:32:29.721909Z",
     "start_time": "2020-07-30T17:32:29.717645Z"
    }
   },
   "outputs": [
    {
     "data": {
      "text/plain": [
       "('A000360',)"
      ]
     },
     "execution_count": 13,
     "metadata": {},
     "output_type": "execute_result"
    }
   ],
   "source": [
    "# Check response\n",
    "current_senators[0]"
   ]
  },
  {
   "cell_type": "code",
   "execution_count": 14,
   "metadata": {
    "ExecuteTime": {
     "end_time": "2020-07-30T17:33:00.914817Z",
     "start_time": "2020-07-30T17:33:00.910574Z"
    }
   },
   "outputs": [],
   "source": [
    "# Convert to list of senator ids\n",
    "current_senators = [ senator[0] for senator in current_senators ]"
   ]
  },
  {
   "cell_type": "code",
   "execution_count": 16,
   "metadata": {
    "ExecuteTime": {
     "end_time": "2020-07-30T17:33:23.088584Z",
     "start_time": "2020-07-30T17:33:23.084407Z"
    }
   },
   "outputs": [
    {
     "data": {
      "text/plain": [
       "'A000360'"
      ]
     },
     "execution_count": 16,
     "metadata": {},
     "output_type": "execute_result"
    }
   ],
   "source": [
    "current_senators[0] # 'A000360'"
   ]
  },
  {
   "cell_type": "code",
   "execution_count": 29,
   "metadata": {
    "ExecuteTime": {
     "end_time": "2020-07-30T18:43:00.705600Z",
     "start_time": "2020-07-30T18:43:00.658767Z"
    }
   },
   "outputs": [],
   "source": [
    "cursor.execute(\n",
    "    \"\"\"\n",
    "    SELECT sen_id FROM senators\n",
    "    ;\n",
    "    \"\"\"\n",
    ")\n",
    "\n",
    "all_senators = cursor.fetchall()"
   ]
  },
  {
   "cell_type": "code",
   "execution_count": 31,
   "metadata": {
    "ExecuteTime": {
     "end_time": "2020-07-30T18:43:19.540880Z",
     "start_time": "2020-07-30T18:43:19.536624Z"
    }
   },
   "outputs": [],
   "source": [
    "all_senators = [ senator[0] for senator in all_senators ]"
   ]
  },
  {
   "cell_type": "code",
   "execution_count": 36,
   "metadata": {
    "ExecuteTime": {
     "end_time": "2020-07-30T18:44:47.991762Z",
     "start_time": "2020-07-30T18:44:47.988229Z"
    }
   },
   "outputs": [],
   "source": [
    "# Senators that need to be removed along with their votes\n",
    "old_senators = list(set(all_senators) - set(current_senators))"
   ]
  },
  {
   "cell_type": "code",
   "execution_count": 75,
   "metadata": {
    "ExecuteTime": {
     "end_time": "2020-07-30T19:17:49.719372Z",
     "start_time": "2020-07-30T19:17:49.715994Z"
    }
   },
   "outputs": [],
   "source": [
    "# Query to delete votes\n",
    "remove_vote = (\n",
    "    \"\"\"\n",
    "    DELETE FROM votes\n",
    "    WHERE sen_id = %s\n",
    "    ;\n",
    "    \"\"\"\n",
    ")\n",
    "\n",
    "# Query to delete senators\n",
    "remove_senator = (\n",
    "    \"\"\"\n",
    "    DELETE FROM senators\n",
    "    WHERE sen_id = %s\n",
    "    ;\n",
    "    \"\"\"\n",
    ")"
   ]
  },
  {
   "cell_type": "code",
   "execution_count": 76,
   "metadata": {
    "ExecuteTime": {
     "end_time": "2020-07-30T19:19:46.294649Z",
     "start_time": "2020-07-30T19:19:46.290666Z"
    }
   },
   "outputs": [],
   "source": [
    "# Format for executemany\n",
    "old_senators = [ (senator,) for senator in old_senators ]"
   ]
  },
  {
   "cell_type": "code",
   "execution_count": 79,
   "metadata": {
    "ExecuteTime": {
     "end_time": "2020-07-30T19:20:19.559354Z",
     "start_time": "2020-07-30T19:20:02.332009Z"
    }
   },
   "outputs": [],
   "source": [
    "# Delete votes\n",
    "cursor.executemany(remove_vote, old_senators)"
   ]
  },
  {
   "cell_type": "code",
   "execution_count": 80,
   "metadata": {
    "ExecuteTime": {
     "end_time": "2020-07-30T19:20:27.940728Z",
     "start_time": "2020-07-30T19:20:27.936854Z"
    }
   },
   "outputs": [
    {
     "data": {
      "text/plain": [
       "607010"
      ]
     },
     "execution_count": 80,
     "metadata": {},
     "output_type": "execute_result"
    }
   ],
   "source": [
    "cursor.rowcount # 607010"
   ]
  },
  {
   "cell_type": "code",
   "execution_count": 81,
   "metadata": {
    "ExecuteTime": {
     "end_time": "2020-07-30T19:20:56.592031Z",
     "start_time": "2020-07-30T19:20:46.823520Z"
    }
   },
   "outputs": [],
   "source": [
    "# Delete old senators\n",
    "cursor.executemany(remove_senator, old_senators)"
   ]
  },
  {
   "cell_type": "code",
   "execution_count": 82,
   "metadata": {
    "ExecuteTime": {
     "end_time": "2020-07-30T19:20:59.087836Z",
     "start_time": "2020-07-30T19:20:59.083136Z"
    }
   },
   "outputs": [
    {
     "data": {
      "text/plain": [
       "192"
      ]
     },
     "execution_count": 82,
     "metadata": {},
     "output_type": "execute_result"
    }
   ],
   "source": [
    "cursor.rowcount # 192"
   ]
  }
 ],
 "metadata": {
  "kernelspec": {
   "display_name": "senate_env",
   "language": "python",
   "name": "senate_env"
  },
  "language_info": {
   "codemirror_mode": {
    "name": "ipython",
    "version": 3
   },
   "file_extension": ".py",
   "mimetype": "text/x-python",
   "name": "python",
   "nbconvert_exporter": "python",
   "pygments_lexer": "ipython3",
   "version": "3.8.3"
  },
  "toc": {
   "base_numbering": 1,
   "nav_menu": {},
   "number_sections": true,
   "sideBar": true,
   "skip_h1_title": false,
   "title_cell": "Table of Contents",
   "title_sidebar": "Contents",
   "toc_cell": false,
   "toc_position": {},
   "toc_section_display": true,
   "toc_window_display": false
  }
 },
 "nbformat": 4,
 "nbformat_minor": 4
}
